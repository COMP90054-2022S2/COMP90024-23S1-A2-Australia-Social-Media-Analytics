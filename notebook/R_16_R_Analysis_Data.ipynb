{
 "cells": [
  {
   "attachments": {},
   "cell_type": "markdown",
   "metadata": {},
   "source": [
    "# R_16 Create Data for final Data Analysis"
   ]
  },
  {
   "cell_type": "code",
   "execution_count": 12,
   "metadata": {},
   "outputs": [],
   "source": [
    "import pandas as pd\n",
    "import json"
   ]
  },
  {
   "cell_type": "code",
   "execution_count": 2,
   "metadata": {},
   "outputs": [],
   "source": [
    "sudo_election_data = pd.read_csv('../data/curated/DataAnalysis/By_Electorate_SUDO_Political_Data.csv')"
   ]
  },
  {
   "attachments": {},
   "cell_type": "markdown",
   "metadata": {},
   "source": [
    "# Create API"
   ]
  },
  {
   "cell_type": "code",
   "execution_count": 3,
   "metadata": {},
   "outputs": [],
   "source": [
    "import requests\n",
    "import time\n",
    "\n",
    "username = 'group9_admin'\n",
    "password = 'group9_H1'"
   ]
  },
  {
   "cell_type": "code",
   "execution_count": 4,
   "metadata": {},
   "outputs": [],
   "source": [
    "def make_get_request(username, password, url, params = {}):\n",
    "    \"\"\" Helper to make the GET request using the \n",
    "            username - str\n",
    "            password - str\n",
    "            url - str (e.g. http://172.26.133.251:5984/tweet_database/_design/date/_view/date_electorate__nsentiment)\n",
    "            params - dict (e.g. {'group': 'True'})\"\"\"\n",
    "    \n",
    "    start = time.time()\n",
    "\n",
    "    # Set the authentication credentials\n",
    "    auth = (username, password)\n",
    "\n",
    "    # Send GET request using requests library\n",
    "    response = requests.get(url, params=params, auth=auth)\n",
    "    \n",
    "    end = time.time()\n",
    "    print(end-start)\n",
    "\n",
    "    if response.ok:\n",
    "        return response.json()\n",
    "    else:\n",
    "        return 'Error: '+ response.status_code"
   ]
  },
  {
   "cell_type": "code",
   "execution_count": 5,
   "metadata": {},
   "outputs": [],
   "source": [
    "def GET_date_electorate__avgsent__pol(startdate, enddate, username, password):\n",
    "    url = 'http://172.26.133.251:5984/tweet_database/_design/date/_view/date_electorate__avgsent__pol'\n",
    "\n",
    "    # Set the parameters for the GET request\n",
    "    params = {\n",
    "        'group': 'True',\n",
    "        'startkey': f'[\"{startdate}\"]',\n",
    "        'endkey': f'[\"{enddate}\"]'\n",
    "    }\n",
    "\n",
    "    returned_data_json = make_get_request(username, password, url, params)\n",
    "    \n",
    "    return returned_data_json"
   ]
  },
  {
   "cell_type": "code",
   "execution_count": 6,
   "metadata": {},
   "outputs": [
    {
     "name": "stdout",
     "output_type": "stream",
     "text": [
      "0.675678014755249\n"
     ]
    }
   ],
   "source": [
    "date_electorate__avgsent__pol = GET_date_electorate__avgsent__pol('2022-02-09', '2022-05-22', username, password) # Pre Election"
   ]
  },
  {
   "cell_type": "code",
   "execution_count": 1,
   "metadata": {},
   "outputs": [],
   "source": [
    "electorate_avg_sent_pol_sum_count = {}\n",
    "\n",
    "for i in range(len(date_electorate__avgsent__pol['rows'])):\n",
    "    \n",
    "    electorate = date_electorate__avgsent__pol['rows'][i]['key'][1]\n",
    "    if electorate not in electorate_avg_sent_pol_sum_count:\n",
    "        electorate_avg_sent_pol_sum_count[electorate] = [0, 0]\n",
    "    \n",
    "    electorate_avg_sent_pol_sum_count[electorate][0] += date_electorate__avgsent__pol['rows'][i]['value']['sum']\n",
    "    electorate_avg_sent_pol_sum_count[electorate][1] += date_electorate__avgsent__pol['rows'][i]['value']['count']\n",
    "\n",
    "electorate_avg_sent = {key:electorate_avg_sent_pol_sum_count[key][0]/electorate_avg_sent_pol_sum_count[key][1] for key in electorate_avg_sent_pol_sum_count}\n",
    "electorate_avg_sent"
   ]
  },
  {
   "cell_type": "code",
   "execution_count": 8,
   "metadata": {},
   "outputs": [],
   "source": [
    "sentiment_df = pd.DataFrame({'electorate': electorate_avg_sent.keys(), 'sentiment':electorate_avg_sent.values()})"
   ]
  },
  {
   "cell_type": "code",
   "execution_count": 9,
   "metadata": {},
   "outputs": [],
   "source": [
    "sudo_election_data_with_sentiment = sudo_election_data.merge(right = sentiment_df, how = 'inner', left_on='DivisionName', right_on='electorate')"
   ]
  },
  {
   "cell_type": "code",
   "execution_count": 10,
   "metadata": {},
   "outputs": [],
   "source": [
    "sudo_election_data_with_sentiment.to_csv('../data/curated/DataAnalysis/By_Electorate_SUDO_Political_Sentiment_Data.csv', index = False)"
   ]
  },
  {
   "cell_type": "code",
   "execution_count": null,
   "metadata": {},
   "outputs": [],
   "source": []
  },
  {
   "cell_type": "code",
   "execution_count": 13,
   "metadata": {},
   "outputs": [],
   "source": [
    "electorates = list(electorate_avg_sent.keys())\n",
    "electorates.sort()\n",
    "\n",
    "with open('../data/curated/GeoJson/electorate_list.json', 'w') as f:\n",
    "    json.dump(electorates, f)"
   ]
  },
  {
   "cell_type": "code",
   "execution_count": null,
   "metadata": {},
   "outputs": [],
   "source": []
  }
 ],
 "metadata": {
  "kernelspec": {
   "display_name": "base",
   "language": "python",
   "name": "python3"
  },
  "language_info": {
   "codemirror_mode": {
    "name": "ipython",
    "version": 3
   },
   "file_extension": ".py",
   "mimetype": "text/x-python",
   "name": "python",
   "nbconvert_exporter": "python",
   "pygments_lexer": "ipython3",
   "version": "3.9.7"
  },
  "orig_nbformat": 4
 },
 "nbformat": 4,
 "nbformat_minor": 2
}
