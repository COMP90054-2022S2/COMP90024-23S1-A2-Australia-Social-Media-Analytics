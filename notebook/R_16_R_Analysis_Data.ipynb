{
 "cells": [
  {
   "attachments": {},
   "cell_type": "markdown",
   "metadata": {},
   "source": [
    "# R_16 Create Data for final Data Analysis"
   ]
  },
  {
   "cell_type": "code",
   "execution_count": 12,
   "metadata": {},
   "outputs": [],
   "source": [
    "import pandas as pd\n",
    "import json"
   ]
  },
  {
   "cell_type": "code",
   "execution_count": 2,
   "metadata": {},
   "outputs": [],
   "source": [
    "sudo_election_data = pd.read_csv('../data/curated/DataAnalysis/By_Electorate_SUDO_Political_Data.csv')"
   ]
  },
  {
   "attachments": {},
   "cell_type": "markdown",
   "metadata": {},
   "source": [
    "# Create API"
   ]
  },
  {
   "cell_type": "code",
   "execution_count": 3,
   "metadata": {},
   "outputs": [],
   "source": [
    "import requests\n",
    "import time\n",
    "\n",
    "username = 'group9_admin'\n",
    "password = 'group9_H1'"
   ]
  },
  {
   "cell_type": "code",
   "execution_count": 4,
   "metadata": {},
   "outputs": [],
   "source": [
    "def make_get_request(username, password, url, params = {}):\n",
    "    \"\"\" Helper to make the GET request using the \n",
    "            username - str\n",
    "            password - str\n",
    "            url - str (e.g. http://172.26.133.251:5984/tweet_database/_design/date/_view/date_electorate__nsentiment)\n",
    "            params - dict (e.g. {'group': 'True'})\"\"\"\n",
    "    \n",
    "    start = time.time()\n",
    "\n",
    "    # Set the authentication credentials\n",
    "    auth = (username, password)\n",
    "\n",
    "    # Send GET request using requests library\n",
    "    response = requests.get(url, params=params, auth=auth)\n",
    "    \n",
    "    end = time.time()\n",
    "    print(end-start)\n",
    "\n",
    "    if response.ok:\n",
    "        return response.json()\n",
    "    else:\n",
    "        return 'Error: '+ response.status_code"
   ]
  },
  {
   "cell_type": "code",
   "execution_count": 5,
   "metadata": {},
   "outputs": [],
   "source": [
    "def GET_date_electorate__avgsent__pol(startdate, enddate, username, password):\n",
    "    url = 'http://172.26.133.251:5984/tweet_database/_design/date/_view/date_electorate__avgsent__pol'\n",
    "\n",
    "    # Set the parameters for the GET request\n",
    "    params = {\n",
    "        'group': 'True',\n",
    "        'startkey': f'[\"{startdate}\"]',\n",
    "        'endkey': f'[\"{enddate}\"]'\n",
    "    }\n",
    "\n",
    "    returned_data_json = make_get_request(username, password, url, params)\n",
    "    \n",
    "    return returned_data_json"
   ]
  },
  {
   "cell_type": "code",
   "execution_count": 6,
   "metadata": {},
   "outputs": [
    {
     "name": "stdout",
     "output_type": "stream",
     "text": [
      "0.675678014755249\n"
     ]
    }
   ],
   "source": [
    "date_electorate__avgsent__pol = GET_date_electorate__avgsent__pol('2022-02-09', '2022-05-22', username, password) # Pre Election"
   ]
  },
  {
   "cell_type": "code",
   "execution_count": 7,
   "metadata": {},
   "outputs": [
    {
     "data": {
      "text/plain": [
       "{'Ballarat': 0.09604587332053745,\n",
       " 'Barker': 0.13687452229299357,\n",
       " 'Barton': -0.031849999999999976,\n",
       " 'Bass': 0.13327270471464023,\n",
       " 'Bendigo': 0.2440960330578513,\n",
       " 'Blaxland': -0.020776190476190476,\n",
       " 'Bonner': 0.45026666666666665,\n",
       " 'Boothby': 0.1808399267895879,\n",
       " 'Bowman': 0.21097865168539326,\n",
       " 'Braddon': 0.08518762376237624,\n",
       " 'Burt': 0.09934469084268197,\n",
       " 'Calare': 0.03591672200422578,\n",
       " 'Canberra': 0.17303408594319009,\n",
       " 'Capricornia': 0.12475576208178439,\n",
       " 'Casey': 0.13820799999999997,\n",
       " 'Corangamite': 0.1614812631578948,\n",
       " 'Cowper': 0.12902387387387385,\n",
       " 'Cunningham': 0.20348792588164977,\n",
       " 'Dawson': 0.1018962555066079,\n",
       " 'Deakin': 0.5243583333333334,\n",
       " 'Dickson': 0.37930833333333336,\n",
       " 'Dobell': 0.1776373522458629,\n",
       " 'Durack': 0.11326254545454548,\n",
       " 'Eden-Monaro': 0.11384502712477394,\n",
       " 'Fadden': 0.11887238791971486,\n",
       " 'Fairfax': 0.06783322841726616,\n",
       " 'Farrer': 0.1434188741721854,\n",
       " 'Fisher': 0.18124454545454544,\n",
       " 'Flynn': 0.11101744548286605,\n",
       " 'Forde': 0.26498374999999996,\n",
       " 'Forrest': 0.2004918803418804,\n",
       " 'Franklin': 0.14036036281179143,\n",
       " 'Gellibrand': 0.2850238095238095,\n",
       " 'Gilmore': 0.054493771234428105,\n",
       " 'Goldstein': 0.1317448769103365,\n",
       " 'Grey': 0.06342128686327077,\n",
       " 'Griffith': 0.346354716981132,\n",
       " 'Groom': 0.26526207951070346,\n",
       " 'Hawke': 0.1738510588235294,\n",
       " 'Herbert': 0.11596026252983292,\n",
       " 'Hinkler': 0.22494170403587457,\n",
       " 'Hume': 0.1642355371900827,\n",
       " 'Hunter': 0.15153179916317988,\n",
       " 'Indi': 0.20575794573643408,\n",
       " 'Jagajaga': 0.5989277777777775,\n",
       " 'Kennedy': 0.12699126160567994,\n",
       " 'Kooyong': 0.5198115384615385,\n",
       " 'Lalor': 0.5367619047619047,\n",
       " 'Leichhardt': 0.1676154004106776,\n",
       " 'Lilley': 0.0964605299271614,\n",
       " 'Lingiari': 0.06351220588235294,\n",
       " 'Longman': -0.0035072847682119054,\n",
       " 'Lyne': 0.15118363636363638,\n",
       " 'Lyons': 0.08764847328244271,\n",
       " 'Mackellar': 0.1577,\n",
       " 'Macnamara': 0.4921506024096386,\n",
       " 'Macquarie': 0.10172862669245648,\n",
       " 'Mallee': 0.14647835616438357,\n",
       " 'Mayo': 0.23883006289308184,\n",
       " 'McMahon': 0.13917737304057656,\n",
       " 'Melbourne': 0.3908267942583732,\n",
       " 'Monash': 0.17615079872204478,\n",
       " 'Moncrieff': 0.32408148148148147,\n",
       " 'New England': 0.2263724489795919,\n",
       " 'Nicholls': 0.12034027368421056,\n",
       " 'North Sydney': 0.24168736842105257,\n",
       " \"O'Connor\": 0.030661899622234215,\n",
       " 'Page': 0.06676433915211971,\n",
       " 'Parkes': 0.0867283715012723,\n",
       " 'Paterson': 0.07297262996941897,\n",
       " 'Richmond': 0.1552675496688741,\n",
       " 'Riverina': 0.17528316151202752,\n",
       " 'Ryan': 0.4227083333333334,\n",
       " 'Shortland': 0.163132195750161,\n",
       " 'Sydney': 0.3155432276657062,\n",
       " 'Wannon': 0.1495575214341388,\n",
       " 'Watson': 0.19926914893617007,\n",
       " 'Whitlam': 0.14402554744525548,\n",
       " 'Wide Bay': 0.1593735294117647,\n",
       " 'Wright': 0.05244117647058824,\n",
       " 'Bean': 0.18924285714285713,\n",
       " 'Brisbane': 0.43193766233766234,\n",
       " 'Clark': 0.262518918918919,\n",
       " 'Cooper': 0.36066086956521737,\n",
       " 'Corio': 0.21654433497536954,\n",
       " 'Curtin': 0.4179666666666666,\n",
       " 'Fraser': 0.6170058823529414,\n",
       " 'Fremantle': 0.4323166666666667,\n",
       " 'Gippsland': 0.1256664974619289,\n",
       " 'Hasluck': 0.25689999999999996,\n",
       " 'Macarthur': 0.4900357142857143,\n",
       " 'Maranoa': 0.2883351351351352,\n",
       " 'Parramatta': 0.2616290322580645,\n",
       " 'Scullin': 0.2570266666666666,\n",
       " 'Spence': 0.09432740740740742,\n",
       " 'Sturt': 0.24257333333333328,\n",
       " 'Adelaide': 0.47879320388349517,\n",
       " 'Blair': 0.3008631578947368,\n",
       " 'Chisholm': 0.33864838709677414,\n",
       " 'Flinders': 0.1837223880597015,\n",
       " 'Hindmarsh': 0.47671666666666673,\n",
       " 'La Trobe': 0.19025310344827584,\n",
       " 'Makin': 0.64602,\n",
       " 'McPherson': 0.1437142857142857,\n",
       " 'Moreton': 0.6050171875000002,\n",
       " 'Pearce': 0.21448750000000003,\n",
       " 'Reid': 0.24052857142857145,\n",
       " 'Swan': 0.4164851851851853,\n",
       " 'Wentworth': 0.36702340425531915,\n",
       " 'Bradfield': 0.18072,\n",
       " 'Higgins': 0.2213696078431373,\n",
       " 'McEwen': 0.22850043103448278,\n",
       " 'Fenner': 0.3277863636363636,\n",
       " 'Lindsay': 0.6380454545454545,\n",
       " 'Perth': 0.4168957446808511,\n",
       " 'Solomon': 0.66677,\n",
       " 'Wills': 0.45907333333333333,\n",
       " 'Berowra': 0.3720083333333333,\n",
       " 'Kingsford Smith': 0.3513655172413794,\n",
       " 'Warringah': 0.4075075,\n",
       " 'Aston': 0.22985555555555556,\n",
       " 'Hughes': 0.3462090909090909,\n",
       " 'Isaacs': 0.3548033333333334,\n",
       " 'Maribyrnong': 0.35923561643835616,\n",
       " 'Robertson': 0.2360375,\n",
       " 'Bennelong': 0.2392931034482759,\n",
       " 'Moore': 0.31245000000000006,\n",
       " 'Canning': 0.3830285714285715,\n",
       " 'Newcastle': 0.2216608695652174,\n",
       " 'Oxley': 0.3932555555555556,\n",
       " 'Grayndler': 0.26259852941176465,\n",
       " 'Bruce': -0.3524333333333334,\n",
       " 'Fowler': 0.4510333333333333,\n",
       " 'Banks': 0.49304,\n",
       " 'Kingston': 0.08215555555555554,\n",
       " 'Calwell': 0.19791666666666666,\n",
       " 'Menzies': 0.31777272727272715,\n",
       " 'Petrie': 0.6474928571428572,\n",
       " 'Dunkley': 0.31808181818181813,\n",
       " 'Mitchell': -0.050666666666666665,\n",
       " 'Brand': 0.4229079999999999,\n",
       " 'Hotham': 0.43299166666666666,\n",
       " 'Chifley': 0.03887500000000001,\n",
       " 'Tangney': 0.36185,\n",
       " 'Werriwa': 0.6854,\n",
       " 'Holt': 0.44200000000000006,\n",
       " 'Gorton': 0.5093666666666666,\n",
       " 'Greenway': 0.43445,\n",
       " 'Rankin': 0.6982333333333334,\n",
       " 'Cook': 0.50615,\n",
       " 'Cowan': 0.0}"
      ]
     },
     "execution_count": 7,
     "metadata": {},
     "output_type": "execute_result"
    }
   ],
   "source": [
    "electorate_avg_sent_pol_sum_count = {}\n",
    "\n",
    "for i in range(len(date_electorate__avgsent__pol['rows'])):\n",
    "    \n",
    "    electorate = date_electorate__avgsent__pol['rows'][i]['key'][1]\n",
    "    if electorate not in electorate_avg_sent_pol_sum_count:\n",
    "        electorate_avg_sent_pol_sum_count[electorate] = [0, 0]\n",
    "    \n",
    "    electorate_avg_sent_pol_sum_count[electorate][0] += date_electorate__avgsent__pol['rows'][i]['value']['sum']\n",
    "    electorate_avg_sent_pol_sum_count[electorate][1] += date_electorate__avgsent__pol['rows'][i]['value']['count']\n",
    "\n",
    "electorate_avg_sent = {key:electorate_avg_sent_pol_sum_count[key][0]/electorate_avg_sent_pol_sum_count[key][1] for key in electorate_avg_sent_pol_sum_count}\n",
    "electorate_avg_sent"
   ]
  },
  {
   "cell_type": "code",
   "execution_count": 8,
   "metadata": {},
   "outputs": [],
   "source": [
    "sentiment_df = pd.DataFrame({'electorate': electorate_avg_sent.keys(), 'sentiment':electorate_avg_sent.values()})"
   ]
  },
  {
   "cell_type": "code",
   "execution_count": 9,
   "metadata": {},
   "outputs": [],
   "source": [
    "sudo_election_data_with_sentiment = sudo_election_data.merge(right = sentiment_df, how = 'inner', left_on='DivisionName', right_on='electorate')"
   ]
  },
  {
   "cell_type": "code",
   "execution_count": 10,
   "metadata": {},
   "outputs": [],
   "source": [
    "sudo_election_data_with_sentiment.to_csv('../data/curated/DataAnalysis/By_Electorate_SUDO_Political_Sentiment_Data.csv', index = False)"
   ]
  },
  {
   "cell_type": "code",
   "execution_count": null,
   "metadata": {},
   "outputs": [],
   "source": []
  },
  {
   "cell_type": "code",
   "execution_count": 13,
   "metadata": {},
   "outputs": [],
   "source": [
    "electorates = list(electorate_avg_sent.keys())\n",
    "electorates.sort()\n",
    "\n",
    "with open('../data/curated/GeoJson/electorate_list.json', 'w') as f:\n",
    "    json.dump(electorates, f)"
   ]
  },
  {
   "cell_type": "code",
   "execution_count": null,
   "metadata": {},
   "outputs": [],
   "source": []
  }
 ],
 "metadata": {
  "kernelspec": {
   "display_name": "base",
   "language": "python",
   "name": "python3"
  },
  "language_info": {
   "codemirror_mode": {
    "name": "ipython",
    "version": 3
   },
   "file_extension": ".py",
   "mimetype": "text/x-python",
   "name": "python",
   "nbconvert_exporter": "python",
   "pygments_lexer": "ipython3",
   "version": "3.9.7"
  },
  "orig_nbformat": 4
 },
 "nbformat": 4,
 "nbformat_minor": 2
}
