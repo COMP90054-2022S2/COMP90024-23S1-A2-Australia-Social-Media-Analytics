{
 "cells": [
  {
   "cell_type": "code",
   "execution_count": 1,
   "metadata": {},
   "outputs": [],
   "source": [
    "import pandas as pd"
   ]
  },
  {
   "cell_type": "code",
   "execution_count": 37,
   "metadata": {},
   "outputs": [],
   "source": [
    "data = pd.read_parquet('../data/curated/twitter_with_sent.parquet')"
   ]
  },
  {
   "cell_type": "code",
   "execution_count": 38,
   "metadata": {},
   "outputs": [],
   "source": [
    "data['neu_score'] = 1-data['pos_score']-data['neg_score']"
   ]
  },
  {
   "cell_type": "code",
   "execution_count": 42,
   "metadata": {},
   "outputs": [],
   "source": [
    "data = data.drop('sentiment', axis = 1)"
   ]
  },
  {
   "cell_type": "code",
   "execution_count": 39,
   "metadata": {},
   "outputs": [],
   "source": [
    "data['p>n'] = data['pos_score']>data['neg_score']\n",
    "data['p>nu'] = data['pos_score']>data['neu_score']\n",
    "data['nu>n'] = data['neu_score']>data['neg_score']\n",
    "\n",
    "# p: p>n and p > nu\n",
    "# nu: nu>n and !p>nu\n",
    "# neg: !p>n and !nu>n"
   ]
  },
  {
   "attachments": {},
   "cell_type": "markdown",
   "metadata": {},
   "source": [
    "p: p>n and p > nu\n",
    "nu: nu>n and !p>nu\n",
    "neg: !p>n and !nu>n"
   ]
  },
  {
   "cell_type": "code",
   "execution_count": 14,
   "metadata": {},
   "outputs": [
    {
     "name": "stderr",
     "output_type": "stream",
     "text": [
      "/Applications/anaconda3/lib/python3.9/site-packages/geopandas/_compat.py:112: UserWarning: The Shapely GEOS version (3.10.2-CAPI-1.16.0) is incompatible with the GEOS version PyGEOS was compiled with (3.10.1-CAPI-1.16.0). Conversions between both will be slow.\n",
      "  warnings.warn(\n"
     ]
    }
   ],
   "source": [
    "import geopandas as gpd\n",
    "from shapely.geometry import Point\n",
    "\n",
    "# Load the GeoPandas polygon data\n",
    "polygon_gdf = gpd.read_file(\"../data/raw/Geography/2021_ELB_region.shp\")\n"
   ]
  },
  {
   "cell_type": "code",
   "execution_count": 17,
   "metadata": {},
   "outputs": [],
   "source": [
    "def get_Electorate(coord):\n",
    "    for idx, polygon in polygon_gdf.iterrows():\n",
    "        if polygon.geometry.contains(coord):\n",
    "            return polygon['Elect_div']\n",
    "    \n",
    "    return None"
   ]
  },
  {
   "cell_type": "code",
   "execution_count": 3,
   "metadata": {},
   "outputs": [],
   "source": [
    "import subprocess"
   ]
  },
  {
   "cell_type": "code",
   "execution_count": 48,
   "metadata": {},
   "outputs": [
    {
     "name": "stdout",
     "output_type": "stream",
     "text": [
      "{\"ok\":true}\n"
     ]
    },
    {
     "name": "stderr",
     "output_type": "stream",
     "text": [
      "  % Total    % Received % Xferd  Average Speed   Time    Time     Time  Current\n",
      "                                 Dload  Upload   Total   Spent    Left  Speed\n",
      "100    12  100    12    0     0    253      0 --:--:-- --:--:-- --:--:--   260\n"
     ]
    },
    {
     "data": {
      "text/plain": [
       "CompletedProcess(args='curl -X PUT http://172.26.131.22:5984/socialmediadatabase -u admin:password', returncode=0)"
      ]
     },
     "execution_count": 48,
     "metadata": {},
     "output_type": "execute_result"
    }
   ],
   "source": [
    "subprocess.run(f'curl -X PUT http://172.26.131.22:5984/socialmediadatabase -u admin:password', shell=True)"
   ]
  },
  {
   "cell_type": "code",
   "execution_count": 63,
   "metadata": {},
   "outputs": [],
   "source": [
    "import json"
   ]
  },
  {
   "cell_type": "code",
   "execution_count": 101,
   "metadata": {},
   "outputs": [
    {
     "name": "stdout",
     "output_type": "stream",
     "text": [
      "Capricornia\n",
      "My life is hitting a big change soon. Keen to make a new Champagne vid for everyone! Just have to shake my life up. In the process! Excited! https://t.co/EeJH7bfr71\n",
      "My life is hitting a big change soon. Keen to make a new Champagne vid for everyone! Just have to shake my life up. In the process! Excited! https://t.co/EeJH7bfr71\n",
      "{\"ok\":true,\"id\":\"2bb7c0a46316a31a7baa8ce2ec05233f\",\"rev\":\"1-fec5ca761a93b9efb3930513d920e705\"}\n",
      "\n",
      "\n"
     ]
    },
    {
     "name": "stderr",
     "output_type": "stream",
     "text": [
      "  % Total    % Received % Xferd  Average Speed   Time    Time     Time  Current\n",
      "                                 Dload  Upload   Total   Spent    Left  Speed\n",
      "100   509  100    95  100   414   3255  14185 --:--:-- --:--:-- --:--:-- 18178\n"
     ]
    },
    {
     "name": "stdout",
     "output_type": "stream",
     "text": [
      "Fadden\n",
      "@TobyRayEnglish @MikeDel21893959 @aSinister @biffmack @brandondaly2018 @fishyfish67 @ChrisBBacon3 @6lennybravo @insane_voice @JsharkJill @TheDisproof @GaryWHall @MarshallCd @FriendsOScience @cieloyla @LouisCy72344053 @JohnDublin10 @The_Doctor_Why @RustyAway @glinch72 @MedBennett @Narvuntien @robhon_ @TroyCross24 @Barbarajdurkin @CanadianSence @jpgcrowley @Anvndarnamn5 @Michael_56 @GeraldKutney @ponycar06 @Jonnyporkchop @PoeBrianL @DawnTJ90 @Michael_D_Crow @DaveOx13 @Jaisans @OyVeyIzhMir @themiwi @RushhourP @ScienceJustWins @hardtimehardta1 @SZOMB @gjcats @BradSchrag @mikeslastword @davidbroadley @IngersolRobert @JimFish56837379 @SGMTrailbuilder Sure... but how significant is the warming remains conjecture\n",
      "@TobyRayEnglish @MikeDel21893959 @aSinister @biffmack @brandondaly2018 @fishyfish67 @ChrisBBacon3 @6lennybravo @insane_voice @JsharkJill @TheDisproof @GaryWHall @MarshallCd @FriendsOScience @cieloyla @LouisCy72344053 @JohnDublin10 @The_Doctor_Why @RustyAway @glinch72 @MedBennett @Narvuntien @robhon_ @TroyCross24 @Barbarajdurkin @CanadianSence @jpgcrowley @Anvndarnamn5 @Michael_56 @GeraldKutney @ponycar06 @Jonnyporkchop @PoeBrianL @DawnTJ90 @Michael_D_Crow @DaveOx13 @Jaisans @OyVeyIzhMir @themiwi @RushhourP @ScienceJustWins @hardtimehardta1 @SZOMB @gjcats @BradSchrag @mikeslastword @davidbroadley @IngersolRobert @JimFish56837379 @SGMTrailbuilder Sure... but how significant is the warming remains conjecture\n"
     ]
    },
    {
     "name": "stderr",
     "output_type": "stream",
     "text": [
      "  % Total    % Received % Xferd  Average Speed   Time    Time     Time  Current\n",
      "                                 Dload  Upload   Total   Spent    Left  Speed\n",
      "100  1062  100    95  100   967    375   3822 --:--:-- --:--:-- --:--:--  4214\n"
     ]
    },
    {
     "name": "stdout",
     "output_type": "stream",
     "text": [
      "{\"ok\":true,\"id\":\"2bb7c0a46316a31a7baa8ce2ec052428\",\"rev\":\"1-660d1237505bc6e6d629b43494265c47\"}\n",
      "\n",
      "\n",
      "Groom\n",
      "@JadeArchaeobot @HarvardGSAS oh ewwww\n",
      "@JadeArchaeobot @HarvardGSAS oh ewwww\n",
      "{\"ok\":true,\"id\":\"2bb7c0a46316a31a7baa8ce2ec052fbe\",\"rev\":\"1-b8d194bf1f3f7ddd211f39af11d8b7a5\"}\n",
      "\n",
      "\n"
     ]
    },
    {
     "name": "stderr",
     "output_type": "stream",
     "text": [
      "  % Total    % Received % Xferd  Average Speed   Time    Time     Time  Current\n",
      "                                 Dload  Upload   Total   Spent    Left  Speed\n",
      "100   367  100    95  100   272   2524   7229 --:--:-- --:--:-- --:--:--  9918\n"
     ]
    },
    {
     "name": "stdout",
     "output_type": "stream",
     "text": [
      "Burt\n",
      "@JadeArchaeobot @HarvardGSAS I'm so sorry you were subjected to this\n",
      "@JadeArchaeobot @HarvardGSAS I\\'m so sorry you were subjected to this\n"
     ]
    },
    {
     "name": "stderr",
     "output_type": "stream",
     "text": [
      "  % Total    % Received % Xferd  Average Speed   Time    Time     Time  Current\n",
      "                                 Dload  Upload   Total   Spent    Left  Speed\n",
      "100   408  100    95  100   313    292    963 --:--:-- --:--:-- --:--:--  1259\n"
     ]
    },
    {
     "name": "stdout",
     "output_type": "stream",
     "text": [
      "{\"ok\":true,\"id\":\"2bb7c0a46316a31a7baa8ce2ec053f08\",\"rev\":\"1-8dc2f19f2146809441078683c9c9bd25\"}\n",
      "\n",
      "\n",
      "McMahon\n",
      "@BehnamAkhavan @EngAustralia @Eng_IT_Sydney @Sydney_Science @SydneyUni_Media @Sydney_Uni Awesome\n",
      "@BehnamAkhavan @EngAustralia @Eng_IT_Sydney @Sydney_Science @SydneyUni_Media @Sydney_Uni Awesome\n"
     ]
    },
    {
     "name": "stderr",
     "output_type": "stream",
     "text": [
      "  % Total    % Received % Xferd  Average Speed   Time    Time     Time  Current\n",
      "                                 Dload  Upload   Total   Spent    Left  Speed\n",
      "100   446  100    95  100   351    277   1026 --:--:-- --:--:-- --:--:--  1307\n"
     ]
    },
    {
     "name": "stdout",
     "output_type": "stream",
     "text": [
      "{\"ok\":true,\"id\":\"2bb7c0a46316a31a7baa8ce2ec054a0b\",\"rev\":\"1-990fef57573dccbd971c7a907dd6ad3c\"}\n",
      "\n",
      "\n",
      "Goldstein\n",
      "@AssExtranious @theheraldsun @walkleys The only interesting WAG I've ever seen was on the arse end of a dog and it had a balloon attached\n",
      "@AssExtranious @theheraldsun @walkleys The only interesting WAG I\\'ve ever seen was on the arse end of a dog and it had a balloon attached\n"
     ]
    },
    {
     "name": "stderr",
     "output_type": "stream",
     "text": [
      "  % Total    % Received % Xferd  Average Speed   Time    Time     Time  Current\n",
      "                                 Dload  Upload   Total   Spent    Left  Speed\n",
      "100   492  100    95  100   397    346   1449 --:--:-- --:--:-- --:--:--  1802\n"
     ]
    },
    {
     "name": "stdout",
     "output_type": "stream",
     "text": [
      "{\"ok\":true,\"id\":\"2bb7c0a46316a31a7baa8ce2ec05562a\",\"rev\":\"1-5075e0bdadfde524942002032a60d987\"}\n",
      "\n",
      "\n",
      "Lilley\n",
      "@nicki_visage Hi hun. Im in Queensland.❤💖💗🧡\n",
      "@nicki_visage Hi hun. Im in Queensland.❤💖💗🧡\n"
     ]
    },
    {
     "name": "stderr",
     "output_type": "stream",
     "text": [
      "  % Total    % Received % Xferd  Average Speed   Time    Time     Time  Current\n",
      "                                 Dload  Upload   Total   Spent    Left  Speed\n",
      "  0     0    0     0    0     0      0      0 --:--:-- --:--:-- --:--:--     0"
     ]
    },
    {
     "name": "stdout",
     "output_type": "stream",
     "text": [
      "{\"ok\":true,\"id\":\"2bb7c0a46316a31a7baa8ce2ec056012\",\"rev\":\"1-c1b6162705b0aabab04fda400a364f5d\"}\n",
      "\n",
      "\n"
     ]
    },
    {
     "name": "stderr",
     "output_type": "stream",
     "text": [
      "100   423  100    95  100   328    259    895 --:--:-- --:--:-- --:--:--  1155\n"
     ]
    }
   ],
   "source": [
    "for id, row in data.iterrows():\n",
    "\n",
    "    # coord\n",
    "    coord = Point(row[\"x_cent\"], row[\"y_cent\"])\n",
    "    electorate = get_Electorate(coord)\n",
    "    print(electorate)\n",
    "\n",
    "    if row['p>n']:\n",
    "        if row['p>nu']:\n",
    "            sentiment = 1\n",
    "        else:\n",
    "            sentiment = 0\n",
    "    elif row['p>nu']:\n",
    "        if row['p>n']:\n",
    "            sentiment = 1\n",
    "        else:\n",
    "            sentiment = -1\n",
    "    elif row['nu>n']:\n",
    "        if row['p>nu']:\n",
    "            sentiment = 1\n",
    "        else:\n",
    "            sentiment = 0\n",
    "\n",
    "\n",
    "    text = row['text']\n",
    "    text = text.replace(\"'\", \"\\\\'\")\n",
    "\n",
    "    \n",
    "    row_json = {\"id\": f\"{row['_id']}\", \"author_id\": f\"{row['author_id']}\", \"date\": f\"{row['date']}\", \"text\": text, \n",
    "            \"is_political\": f\"{row['is_political']}\", \"neg_score\": f\"{row['neg_score']}\", \"neu_score\": f\"{row['neu_score']}\", \n",
    "            \"pos_score\": f\"{row['pos_score']}\", \"compound_score\": f\"{row['compound_score']}\", \"sentiment\": f\"{sentiment}\", \n",
    "            \"electorate\": f\"{electorate}\"}\n",
    "    \n",
    "    json_data = json.dumps(row_json).encode('utf-8')\n",
    "\n",
    "    subprocess.run(['curl', '-X', 'POST', 'http://172.26.131.22:5984/socialmediadatabase', '--header', 'Content-Type: application/json', '--data-binary', '@-', '-u', 'admin:password'], input=json_data)"
   ]
  },
  {
   "cell_type": "code",
   "execution_count": 100,
   "metadata": {},
   "outputs": [
    {
     "name": "stdout",
     "output_type": "stream",
     "text": [
      "{\"ok\":true,\"id\":\"2bb7c0a46316a31a7baa8ce2ec051f66\",\"rev\":\"1-6ca75159a919ff3bca65db46789b5efe\"}\n"
     ]
    },
    {
     "name": "stderr",
     "output_type": "stream",
     "text": [
      "  % Total    % Received % Xferd  Average Speed   Time    Time     Time  Current\n",
      "                                 Dload  Upload   Total   Spent    Left  Speed\n",
      "100   175  100    95  100    80   3502   2949 --:--:-- --:--:-- --:--:--  6481\n"
     ]
    },
    {
     "data": {
      "text/plain": [
       "CompletedProcess(args=['curl', '-X', 'POST', 'http://172.26.131.22:5984/socialmediadatabase', '--header', 'Content-Type: application/json', '--data-binary', '@-', '-u', 'admin:password'], returncode=0)"
      ]
     },
     "execution_count": 100,
     "metadata": {},
     "output_type": "execute_result"
    }
   ],
   "source": [
    "json_data = json.dumps({'text': '@JadeArchaeobot @HarvardGSAS I\\'m so sorry you were subjected to this'}).encode('utf-8')\n",
    "subprocess.run(['curl', '-X', 'POST', 'http://172.26.131.22:5984/socialmediadatabase', '--header', 'Content-Type: application/json', '--data-binary', '@-', '-u', 'admin:password'], input=json_data)"
   ]
  },
  {
   "cell_type": "code",
   "execution_count": null,
   "metadata": {},
   "outputs": [],
   "source": []
  }
 ],
 "metadata": {
  "kernelspec": {
   "display_name": "base",
   "language": "python",
   "name": "python3"
  },
  "language_info": {
   "codemirror_mode": {
    "name": "ipython",
    "version": 3
   },
   "file_extension": ".py",
   "mimetype": "text/x-python",
   "name": "python",
   "nbconvert_exporter": "python",
   "pygments_lexer": "ipython3",
   "version": "3.9.7"
  },
  "orig_nbformat": 4
 },
 "nbformat": 4,
 "nbformat_minor": 2
}
