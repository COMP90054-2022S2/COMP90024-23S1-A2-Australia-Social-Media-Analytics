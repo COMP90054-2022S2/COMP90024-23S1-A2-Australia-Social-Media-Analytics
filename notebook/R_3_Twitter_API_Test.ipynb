{
 "cells": [
  {
   "attachments": {},
   "cell_type": "markdown",
   "metadata": {},
   "source": [
    "# R_3 Twitter API Test"
   ]
  },
  {
   "cell_type": "code",
   "execution_count": 1,
   "metadata": {},
   "outputs": [],
   "source": [
    "import tweepy as tw\n",
    "from datetime import datetime\n",
    "\n",
    "# keys\n",
    "consumer_key = \"ZmM3ilCSDuMwBJ1OVQS47Ju5d\"\n",
    "consumer_secret = \"YUjyzs1Y0m6dJcQyVppn95A27IPM3m1tufbn0vTNaSQUss9EzW\"\n",
    "access_token = \"2527414171-puIFDt7fGKlxCU8z6p8fxAw326jpY5PPFDvAO4p\"\n",
    "access_token_secret = \"mi1EVuajd3GXz70NZIYEMxhzYwctDYW8ZvtrjaW9RfPbG\"\n",
    "\n",
    "auth = tw.OAuthHandler(consumer_key, consumer_secret)\n",
    "auth.set_access_token(access_token, access_token_secret)\n",
    "api = tw.API(auth, wait_on_rate_limit=True)\n",
    "\n",
    "# search word\n",
    "search_word = 'ai OR chatgpt'\n",
    "\n",
    "# tweet counts\n",
    "tweets_count = 100\n",
    "\n",
    "# Define the bounding box for Melbourne with a 25km radius\n",
    "melbourne_bbox = '-37.8136,144.9631'\n",
    "\n",
    "# start date (decapricated?)\n",
    "date_since = datetime(2021, 1, 1)\n",
    "\n",
    "# Convert date to tweet ID using snowflake algorithm\n",
    "since_id = (date_since - datetime(2000, 1, 1)).total_seconds() * 1000\n",
    "\n",
    "# Search for tweets within the bounding box of Melbourne\n",
    "tweets = tw.Cursor(api.search_tweets,\n",
    "                   q=search_word,\n",
    "                   lang='en',\n",
    "                   tweet_mode='extended',\n",
    "                   since_id=since_id,\n",
    "                   geocode=f\"{melbourne_bbox},25km\"\n",
    "                   ).items(tweets_count)\n",
    "\n",
    "with open(\"../data/curated/melbourne_tweets.txt\", \"w\", encoding=\"utf-8\") as f:\n",
    "    for tweet in tweets:\n",
    "        print(tweet.place)\n",
    "        f.write('{\\n')\n",
    "        tweet_text = tweet.full_text.replace(\"\\n\", \" \").replace(\"\\r\", \"\")\n",
    "        f.write(f\"{tweet_text},\\n\")\n",
    "        f.write(f'{tweet.created_at}\\n')\n",
    "        f.write('},\\n')\n"
   ]
  },
  {
   "cell_type": "code",
   "execution_count": null,
   "metadata": {},
   "outputs": [],
   "source": []
  }
 ],
 "metadata": {
  "kernelspec": {
   "display_name": "base",
   "language": "python",
   "name": "python3"
  },
  "language_info": {
   "codemirror_mode": {
    "name": "ipython",
    "version": 3
   },
   "file_extension": ".py",
   "mimetype": "text/x-python",
   "name": "python",
   "nbconvert_exporter": "python",
   "pygments_lexer": "ipython3",
   "version": "3.9.7"
  },
  "orig_nbformat": 4
 },
 "nbformat": 4,
 "nbformat_minor": 2
}
