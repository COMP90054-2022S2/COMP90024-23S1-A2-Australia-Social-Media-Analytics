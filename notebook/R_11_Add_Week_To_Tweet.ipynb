{
 "cells": [
  {
   "attachments": {},
   "cell_type": "markdown",
   "metadata": {},
   "source": [
    "# R_11 Add Week To Tweet"
   ]
  },
  {
   "cell_type": "code",
   "execution_count": 1,
   "metadata": {},
   "outputs": [],
   "source": [
    "import pandas as pd\n",
    "import subprocess\n",
    "import json"
   ]
  },
  {
   "cell_type": "code",
   "execution_count": 2,
   "metadata": {},
   "outputs": [],
   "source": [
    "data = pd.read_parquet('../data/curated/Twitter_Cleaned/fully_cleaned_tweets.parquet')"
   ]
  },
  {
   "cell_type": "code",
   "execution_count": 3,
   "metadata": {},
   "outputs": [],
   "source": [
    "data = data.drop(['x_cent', 'y_cent', 'p>n', 'p>nu', 'nu>n'], axis = 1)"
   ]
  },
  {
   "attachments": {},
   "cell_type": "markdown",
   "metadata": {},
   "source": [
    "Add Date"
   ]
  },
  {
   "cell_type": "code",
   "execution_count": 4,
   "metadata": {},
   "outputs": [],
   "source": [
    "from datetime import timedelta, datetime"
   ]
  },
  {
   "cell_type": "code",
   "execution_count": 5,
   "metadata": {},
   "outputs": [],
   "source": [
    "ELECTION_DATE = datetime(year = 2022, month = 5, day = 21)\n",
    "START_DATE = datetime(year = 2022, month = 2, day = 10)\n",
    "END_DATE = datetime(year = 2023, month = 6, day = 30)"
   ]
  },
  {
   "cell_type": "code",
   "execution_count": 6,
   "metadata": {},
   "outputs": [],
   "source": [
    "date_week_map = dict()\n",
    "date_ = ELECTION_DATE\n",
    "\n",
    "switch = 1\n",
    "i = 0\n",
    "week = 1\n",
    "while switch:\n",
    "\n",
    "    date_ += timedelta(days = 1)\n",
    "\n",
    "    date_week_map[date_] = week\n",
    "\n",
    "    i += 1\n",
    "    if i == 7:\n",
    "        i = 0\n",
    "        week += 1\n",
    "        \n",
    "\n",
    "    if date_ == END_DATE:\n",
    "        switch = 0\n",
    "\n",
    "\n",
    "switch = 1\n",
    "i = 0\n",
    "week = -1\n",
    "date_ = ELECTION_DATE\n",
    "while switch:\n",
    "\n",
    "\n",
    "    date_week_map[date_] = week\n",
    "    date_ -= timedelta(days = 1)\n",
    "\n",
    "    i += 1\n",
    "    if i == 7:\n",
    "        i = 0\n",
    "        week -= 1\n",
    "\n",
    "    if date_ < START_DATE:\n",
    "        switch = 0"
   ]
  },
  {
   "cell_type": "code",
   "execution_count": 8,
   "metadata": {},
   "outputs": [],
   "source": [
    "def map_week_relateive_to_election(date):\n",
    "    return date_week_map[date]"
   ]
  },
  {
   "cell_type": "code",
   "execution_count": 9,
   "metadata": {},
   "outputs": [],
   "source": [
    "data['date'] = pd.to_datetime(data['date'])"
   ]
  },
  {
   "cell_type": "code",
   "execution_count": 10,
   "metadata": {},
   "outputs": [],
   "source": [
    "data['week'] = data['date'].apply(map_week_relateive_to_election)"
   ]
  },
  {
   "cell_type": "code",
   "execution_count": 123,
   "metadata": {},
   "outputs": [],
   "source": [
    "data.to_parquet('../data/curated/Twitter_Cleaned/fully_cleaned_tweets_with_week.parquet')"
   ]
  },
  {
   "cell_type": "code",
   "execution_count": 14,
   "metadata": {},
   "outputs": [],
   "source": [
    "doc_list = []\n",
    "for id, row in data.iterrows():\n",
    "\n",
    "    row_json = {\"_id\": f\"{row['_id']}\", \"author_id\": f\"{row['author_id']}\", \"date\": f\"{row['date']}\", \"text\": row['text'], \n",
    "            \"is_political\": row['is_political'], \"neg_score\": row['neg_score'], \"neu_score\": row['neu_score'], \n",
    "            \"pos_score\": row['pos_score'], \"compound_score\": row['compound_score'], \"sentiment\": row['sentiment'], \n",
    "            \"electorate\": row['electorate'], \"week\": row['week']}\n",
    "    doc_list.append(row_json)\n",
    "\n",
    "out = {'docs': doc_list}\n",
    "\n",
    "with open('../data/curated/Twitter_Cleaned/twitter_cdb_bulk.json', 'w') as f:\n",
    "    json.dump(out, f)"
   ]
  },
  {
   "attachments": {},
   "cell_type": "markdown",
   "metadata": {},
   "source": [
    "# Upload"
   ]
  },
  {
   "cell_type": "code",
   "execution_count": 26,
   "metadata": {},
   "outputs": [],
   "source": [
    "with open('../data/curated/Twitter_Cleaned/twitter_cdb_bulk.json', 'r') as f:\n",
    "    twitter_cdb_bulk = json.load(f)"
   ]
  },
  {
   "cell_type": "code",
   "execution_count": 24,
   "metadata": {},
   "outputs": [
    {
     "name": "stdout",
     "output_type": "stream",
     "text": [
      "{\"ok\":true}\n"
     ]
    },
    {
     "name": "stderr",
     "output_type": "stream",
     "text": [
      "  % Total    % Received % Xferd  Average Speed   Time    Time     Time  Current\n",
      "                                 Dload  Upload   Total   Spent    Left  Speed\n",
      "100    12  100    12    0     0    233      0 --:--:-- --:--:-- --:--:--   240\n"
     ]
    },
    {
     "data": {
      "text/plain": [
       "CompletedProcess(args='curl -X PUT http://172.26.133.251:5984/tweet_database -u group9_admin:group9_H1', returncode=0)"
      ]
     },
     "execution_count": 24,
     "metadata": {},
     "output_type": "execute_result"
    }
   ],
   "source": [
    "subprocess.run(f'curl -X PUT http://172.26.133.251:5984/tweet_database -u group9_admin:group9_H1', shell=True)"
   ]
  },
  {
   "cell_type": "code",
   "execution_count": 32,
   "metadata": {},
   "outputs": [],
   "source": [
    "for i in range(len(twitter_cdb_bulk['docs'])//10000):\n",
    "    out = {'docs': twitter_cdb_bulk['docs'][i*10000:(i+1)*10000]}\n",
    "    json_data = json.dumps(out).encode('utf-8')\n",
    "    subprocess.run(['curl', '-X', 'POST', f'http://172.26.133.251:5984/tweet_database/_bulk_docs', '--header', 'Content-Type: application/json', '--data-binary', '@-', '-u', 'group9_admin:group9_H1'], input=json_data)\n",
    "\n",
    "out = {'docs': twitter_cdb_bulk['docs'][(i+1)*10000:len(twitter_cdb_bulk['docs'])]}\n",
    "json_data = json.dumps(out).encode('utf-8')\n",
    "subprocess.run(['curl', '-X', 'POST', f'http://172.26.133.251:5984/tweet_database/_bulk_docs', '--header', 'Content-Type: application/json', '--data-binary', '@-', '-u', 'group9_admin:group9_H1'], input=json_data)\n"
   ]
  },
  {
   "cell_type": "code",
   "execution_count": null,
   "metadata": {},
   "outputs": [],
   "source": []
  }
 ],
 "metadata": {
  "kernelspec": {
   "display_name": "base",
   "language": "python",
   "name": "python3"
  },
  "language_info": {
   "codemirror_mode": {
    "name": "ipython",
    "version": 3
   },
   "file_extension": ".py",
   "mimetype": "text/x-python",
   "name": "python",
   "nbconvert_exporter": "python",
   "pygments_lexer": "ipython3",
   "version": "3.9.7"
  },
  "orig_nbformat": 4
 },
 "nbformat": 4,
 "nbformat_minor": 2
}
