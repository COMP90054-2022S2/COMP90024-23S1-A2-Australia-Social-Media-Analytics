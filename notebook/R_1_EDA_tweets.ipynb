{
 "cells": [
  {
   "attachments": {},
   "cell_type": "markdown",
   "metadata": {},
   "source": [
    "# R_1 Brief EDA of Twitter Data + NLTK sentiment analyser"
   ]
  },
  {
   "cell_type": "code",
   "execution_count": 1,
   "metadata": {},
   "outputs": [],
   "source": [
    "# open first 1000 lines and observe\n",
    "\n",
    "with open ('../data/mnt/ext100/twitter-huge.json', 'r') as f:\n",
    "    for i in range(1000):\n",
    "        line = f.readline()\n",
    "        print(line)"
   ]
  },
  {
   "cell_type": "code",
   "execution_count": 17,
   "metadata": {},
   "outputs": [],
   "source": [
    "# turn just first line into a dictionary to observe contents\n",
    "dict = eval(line)[0]"
   ]
  },
  {
   "cell_type": "code",
   "execution_count": 21,
   "metadata": {},
   "outputs": [
    {
     "name": "stdout",
     "output_type": "stream",
     "text": [
      "id 1491571754170421255\n",
      "key [2022, 2, 10, '1005388896094511104', '736626235036426244', '1491571754170421255']\n",
      "value {'tags': '', 'tokens': 'hypothetically|ancient|700|year|Jewish|temple|was|found|another|country|say|Spain|Zionist|would|claim|that|country|ancient|sister|homeland|Israel|then|probably|find|some|ancient|text|their|vault|saying|that|God|gave|them|that|land|too'}\n",
      "doc {'_id': '1491571754170421255', '_rev': '1-db2d80704abf0cfa907036dedab0fc4a', 'data': {'author_id': '736626235036426244', 'conversation_id': '1005388896094511104', 'created_at': '2022-02-10T00:36:32.000Z', 'entities': {'mentions': [{'start': 0, 'end': 9, 'username': 'ELNescio', 'id': '1311236970744606721'}, {'start': 10, 'end': 25, 'username': 'GoergeGalloway', 'id': '2821154529'}, {'start': 26, 'end': 38, 'username': 'Botthescott', 'id': '1039591343918469120'}, {'start': 39, 'end': 54, 'username': 'LavBaalDevarim', 'id': '1204443642250891264'}, {'start': 55, 'end': 69, 'username': 'AndredeVegte6', 'id': '1377022388995555329'}, {'start': 70, 'end': 80, 'username': 'besseder1', 'id': '1344042782873284609'}, {'start': 81, 'end': 96, 'username': 'AntisemitismNo', 'id': '1393612440793985029'}, {'start': 97, 'end': 112, 'username': 'whywouldyou_uk', 'id': '746633596375601152'}, {'start': 113, 'end': 123, 'username': 'Bobby6172', 'id': '1260578830231785478'}, {'start': 124, 'end': 136, 'username': 'LollllllaJR', 'id': '788782854025207813'}, {'start': 137, 'end': 153, 'username': 'IsraelandStufff', 'id': '2799895176'}, {'start': 154, 'end': 166, 'username': 'GrandJewbah', 'id': '976721111084929024'}, {'start': 167, 'end': 177, 'username': 'benusa567', 'id': '5820162'}, {'start': 178, 'end': 185, 'username': '_kfajk', 'id': '1977321564'}, {'start': 186, 'end': 199, 'username': 'andyblueskyz', 'id': '307812346'}, {'start': 200, 'end': 207, 'username': 'JewSoc', 'id': '1289756592670494721'}, {'start': 208, 'end': 216, 'username': 'Th2shay', 'id': '223610043'}, {'start': 217, 'end': 233, 'username': 'Tax_Dodge_Hodge', 'id': '1144947103082455040'}, {'start': 234, 'end': 246, 'username': 'TopRantKing', 'id': '881819388676014081'}, {'start': 247, 'end': 255, 'username': 'wannnwz', 'id': '1405567063662350339'}, {'start': 256, 'end': 266, 'username': 'a_zionist', 'id': '2890051850'}, {'start': 267, 'end': 282, 'username': 'NuHakolBeseder', 'id': '1366766484'}, {'start': 283, 'end': 299, 'username': 'Persian70509610', 'id': '1129558046567481344'}, {'start': 300, 'end': 306, 'username': 'Ffpg7', 'id': '1410853257057013762'}, {'start': 307, 'end': 316, 'username': 'IILeahll', 'id': '467314621'}, {'start': 317, 'end': 326, 'username': 'Elswood3', 'id': '1260248107448782849'}, {'start': 327, 'end': 341, 'username': 'cohen__yasmin', 'id': '1432506444440641537'}, {'start': 342, 'end': 354, 'username': 'IloveBush43', 'id': '1162271005949038593'}, {'start': 355, 'end': 367, 'username': 'Kokothecat2', 'id': '1189849266887544832'}, {'start': 368, 'end': 380, 'username': 'C_riusBlack', 'id': '1391844738454720512'}, {'start': 381, 'end': 390, 'username': 'ftysugar', 'id': '1392350166942838784'}, {'start': 391, 'end': 407, 'username': 'natashahyy6l225', 'id': '1392715000095993857'}, {'start': 408, 'end': 421, 'username': 'ofTheBigMilk', 'id': '1308200246099546112'}, {'start': 422, 'end': 438, 'username': 'FreePal82067499', 'id': '1392229252980936707'}, {'start': 439, 'end': 454, 'username': 'Crow31Darkness', 'id': '1075993240405401600'}, {'start': 455, 'end': 470, 'username': 'amicidiisraele', 'id': '954675967'}, {'start': 471, 'end': 487, 'username': 'BDS_Crooked_Org', 'id': '444838685'}, {'start': 488, 'end': 502, 'username': '18PigsDontFly', 'id': '200551793'}, {'start': 503, 'end': 516, 'username': 'noah_guttman', 'id': '329247331'}, {'start': 517, 'end': 526, 'username': 'Nili14uk', 'id': '2812726712'}, {'start': 527, 'end': 537, 'username': 'TrulyYou7', 'id': '1351159140295577601'}, {'start': 538, 'end': 551, 'username': 'RebootedSpin', 'id': '1358174913601953792'}, {'start': 552, 'end': 565, 'username': 'ronen_shefer', 'id': '1417829279338049537'}, {'start': 566, 'end': 579, 'username': 'BlidyDoriana', 'id': '1415353785485037578'}, {'start': 580, 'end': 596, 'username': 'Gaza_Resistance', 'id': '1395557388925636610'}, {'start': 597, 'end': 612, 'username': 'creditlesscard', 'id': '519520506'}, {'start': 613, 'end': 623, 'username': 'garybkatz', 'id': '222696162'}, {'start': 624, 'end': 636, 'username': 'helen_tiger', 'id': '2755440285'}, {'start': 637, 'end': 649, 'username': 'GogoIsrael2', 'id': '1239895217693691905'}, {'start': 650, 'end': 659, 'username': 'Jaccuse1', 'id': '417571583'}]}, 'geo': {}, 'lang': 'en', 'public_metrics': {'retweet_count': 0, 'reply_count': 0, 'like_count': 0, 'quote_count': 0}, 'text': \"@ELNescio @GoergeGalloway @Botthescott @LavBaalDevarim @AndredeVegte6 @besseder1 @AntisemitismNo @whywouldyou_uk @Bobby6172 @LollllllaJR @IsraelandStufff @GrandJewbah @benusa567 @_kfajk @andyblueskyz @JewSoc @Th2shay @Tax_Dodge_Hodge @TopRantKing @wannnwz @a_zionist @NuHakolBeseder @Persian70509610 @Ffpg7 @IILeahll @Elswood3 @cohen__yasmin @IloveBush43 @Kokothecat2 @C_riusBlack @ftysugar @natashahyy6l225 @ofTheBigMilk @FreePal82067499 @Crow31Darkness @amicidiisraele @BDS_Crooked_Org @18PigsDontFly @noah_guttman @Nili14uk @TrulyYou7 @RebootedSpin @ronen_shefer @BlidyDoriana @Gaza_Resistance @creditlesscard @garybkatz @helen_tiger @GogoIsrael2 @Jaccuse1 If hypothetically an ancient 700 year's or so Jewish temple was found in another country, say Spain or ??, Zionist's would claim that country as an ancient sister homeland of Israel then probably find some ancient text in 1 of their vault's saying that God gave them that land too\", 'sentiment': 0.008928571428571428}, 'matching_rules': [{'id': '1491447910617485312', 'tag': ''}]}\n"
     ]
    }
   ],
   "source": [
    "for key in dict:\n",
    "    print(key, dict[key])"
   ]
  },
  {
   "attachments": {},
   "cell_type": "markdown",
   "metadata": {},
   "source": [
    "Check the format of different content"
   ]
  },
  {
   "cell_type": "code",
   "execution_count": 22,
   "metadata": {},
   "outputs": [
    {
     "data": {
      "text/plain": [
       "'1491571754170421255'"
      ]
     },
     "execution_count": 22,
     "metadata": {},
     "output_type": "execute_result"
    }
   ],
   "source": [
    "dict['id']"
   ]
  },
  {
   "cell_type": "code",
   "execution_count": 23,
   "metadata": {},
   "outputs": [
    {
     "name": "stdout",
     "output_type": "stream",
     "text": [
      "_id\n",
      "_rev\n",
      "data\n",
      "matching_rules\n"
     ]
    }
   ],
   "source": [
    "for x in dict['doc']:\n",
    "    print(x)"
   ]
  },
  {
   "cell_type": "code",
   "execution_count": 27,
   "metadata": {},
   "outputs": [
    {
     "name": "stdout",
     "output_type": "stream",
     "text": [
      "author_id\n",
      "conversation_id\n",
      "created_at\n",
      "entities\n",
      "geo\n",
      "lang\n",
      "public_metrics\n",
      "text\n",
      "sentiment\n"
     ]
    }
   ],
   "source": [
    "for x in dict['doc']['data']:\n",
    "    print(x)"
   ]
  },
  {
   "cell_type": "code",
   "execution_count": 28,
   "metadata": {},
   "outputs": [
    {
     "data": {
      "text/plain": [
       "'2022-02-10T00:36:32.000Z'"
      ]
     },
     "execution_count": 28,
     "metadata": {},
     "output_type": "execute_result"
    }
   ],
   "source": [
    "dict['doc']['data']['created_at']"
   ]
  },
  {
   "cell_type": "code",
   "execution_count": 33,
   "metadata": {},
   "outputs": [
    {
     "data": {
      "text/plain": [
       "\"@ELNescio @GoergeGalloway @Botthescott @LavBaalDevarim @AndredeVegte6 @besseder1 @AntisemitismNo @whywouldyou_uk @Bobby6172 @LollllllaJR @IsraelandStufff @GrandJewbah @benusa567 @_kfajk @andyblueskyz @JewSoc @Th2shay @Tax_Dodge_Hodge @TopRantKing @wannnwz @a_zionist @NuHakolBeseder @Persian70509610 @Ffpg7 @IILeahll @Elswood3 @cohen__yasmin @IloveBush43 @Kokothecat2 @C_riusBlack @ftysugar @natashahyy6l225 @ofTheBigMilk @FreePal82067499 @Crow31Darkness @amicidiisraele @BDS_Crooked_Org @18PigsDontFly @noah_guttman @Nili14uk @TrulyYou7 @RebootedSpin @ronen_shefer @BlidyDoriana @Gaza_Resistance @creditlesscard @garybkatz @helen_tiger @GogoIsrael2 @Jaccuse1 If hypothetically an ancient 700 year's or so Jewish temple was found in another country, say Spain or ??, Zionist's would claim that country as an ancient sister homeland of Israel then probably find some ancient text in 1 of their vault's saying that God gave them that land too\""
      ]
     },
     "execution_count": 33,
     "metadata": {},
     "output_type": "execute_result"
    }
   ],
   "source": [
    "dict['doc']['data']['text'] # can process whether match keywords"
   ]
  },
  {
   "cell_type": "code",
   "execution_count": 34,
   "metadata": {},
   "outputs": [
    {
     "data": {
      "text/plain": [
       "0.008928571428571428"
      ]
     },
     "execution_count": 34,
     "metadata": {},
     "output_type": "execute_result"
    }
   ],
   "source": [
    "dict['doc']['data']['sentiment'] # have a look at the sentiment that it came with"
   ]
  },
  {
   "attachments": {},
   "cell_type": "markdown",
   "metadata": {},
   "source": [
    "## Try NLTK Sentiment Analyser"
   ]
  },
  {
   "cell_type": "code",
   "execution_count": 36,
   "metadata": {},
   "outputs": [
    {
     "name": "stderr",
     "output_type": "stream",
     "text": [
      "[nltk_data] Downloading package names to /Users/tg.chenny/nltk_data...\n",
      "[nltk_data]   Unzipping corpora/names.zip.\n",
      "[nltk_data] Downloading package stopwords to\n",
      "[nltk_data]     /Users/tg.chenny/nltk_data...\n",
      "[nltk_data]   Package stopwords is already up-to-date!\n",
      "[nltk_data] Downloading package state_union to\n",
      "[nltk_data]     /Users/tg.chenny/nltk_data...\n",
      "[nltk_data]   Unzipping corpora/state_union.zip.\n",
      "[nltk_data] Downloading package twitter_samples to\n",
      "[nltk_data]     /Users/tg.chenny/nltk_data...\n",
      "[nltk_data]   Unzipping corpora/twitter_samples.zip.\n",
      "[nltk_data] Downloading package movie_reviews to\n",
      "[nltk_data]     /Users/tg.chenny/nltk_data...\n",
      "[nltk_data]   Unzipping corpora/movie_reviews.zip.\n",
      "[nltk_data] Downloading package averaged_perceptron_tagger to\n",
      "[nltk_data]     /Users/tg.chenny/nltk_data...\n",
      "[nltk_data]   Unzipping taggers/averaged_perceptron_tagger.zip.\n",
      "[nltk_data] Downloading package vader_lexicon to\n",
      "[nltk_data]     /Users/tg.chenny/nltk_data...\n",
      "[nltk_data] Downloading package punkt to /Users/tg.chenny/nltk_data...\n",
      "[nltk_data]   Package punkt is already up-to-date!\n"
     ]
    },
    {
     "data": {
      "text/plain": [
       "True"
      ]
     },
     "execution_count": 36,
     "metadata": {},
     "output_type": "execute_result"
    }
   ],
   "source": [
    "import nltk\n",
    "\n",
    "nltk.download([\n",
    "        \"names\",\n",
    "        \"stopwords\",\n",
    "        \"state_union\",\n",
    "        \"twitter_samples\",\n",
    "        \"movie_reviews\",\n",
    "        \"averaged_perceptron_tagger\",\n",
    "        \"vader_lexicon\",\n",
    "        \"punkt\",\n",
    "    ])"
   ]
  },
  {
   "cell_type": "code",
   "execution_count": 37,
   "metadata": {},
   "outputs": [
    {
     "data": {
      "text/plain": [
       "{'neg': 0.0, 'neu': 0.976, 'pos': 0.024, 'compound': 0.3527}"
      ]
     },
     "execution_count": 37,
     "metadata": {},
     "output_type": "execute_result"
    }
   ],
   "source": [
    "from nltk.sentiment import SentimentIntensityAnalyzer\n",
    "sia = SentimentIntensityAnalyzer()\n",
    "sia.polarity_scores(dict['doc']['data']['text'])"
   ]
  },
  {
   "cell_type": "code",
   "execution_count": 38,
   "metadata": {},
   "outputs": [
    {
     "data": {
      "text/plain": [
       "{'neg': 0.0, 'neu': 0.951, 'pos': 0.049, 'compound': 0.3527}"
      ]
     },
     "execution_count": 38,
     "metadata": {},
     "output_type": "execute_result"
    }
   ],
   "source": [
    "sia.polarity_scores(\"If hypothetically an ancient 700 year's or so Jewish temple was found in another country, say Spain or ??, Zionist's would claim that country as an ancient sister homeland of Israel then probably find some ancient text in 1 of their vault's saying that God gave them that land too\")"
   ]
  }
 ],
 "metadata": {
  "kernelspec": {
   "display_name": "base",
   "language": "python",
   "name": "python3"
  },
  "language_info": {
   "codemirror_mode": {
    "name": "ipython",
    "version": 3
   },
   "file_extension": ".py",
   "mimetype": "text/x-python",
   "name": "python",
   "nbconvert_exporter": "python",
   "pygments_lexer": "ipython3",
   "version": "3.9.7"
  },
  "orig_nbformat": 4
 },
 "nbformat": 4,
 "nbformat_minor": 2
}
