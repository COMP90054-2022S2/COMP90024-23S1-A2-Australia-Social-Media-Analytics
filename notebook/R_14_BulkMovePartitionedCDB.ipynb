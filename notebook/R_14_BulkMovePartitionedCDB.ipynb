{
 "cells": [
  {
   "attachments": {},
   "cell_type": "markdown",
   "metadata": {},
   "source": [
    "# R_14 BulkMove to Partitioned CDB"
   ]
  },
  {
   "cell_type": "code",
   "execution_count": 1,
   "metadata": {},
   "outputs": [],
   "source": [
    "import json\n",
    "import subprocess\n",
    "import copy"
   ]
  },
  {
   "cell_type": "code",
   "execution_count": 3,
   "metadata": {},
   "outputs": [],
   "source": [
    "with open('../data/curated/Twitter_Cleaned/twitter_cdb_bulk.json', 'r') as f:\n",
    "    twitter_cdb_bulk = json.load(f)"
   ]
  },
  {
   "cell_type": "code",
   "execution_count": 4,
   "metadata": {},
   "outputs": [],
   "source": [
    "# change the _id to be partition tolerant\n",
    "new_twitter_cdb_bulk = {}\n",
    "out = []\n",
    "for docs in twitter_cdb_bulk['docs']:\n",
    "    tmp = copy.deepcopy(docs)\n",
    "    tmp['_id'] = f\"{docs['electorate']}:{docs['_id']}\"\n",
    "\n",
    "    out.append(tmp)\n",
    "\n",
    "new_twitter_cdb_bulk['docs'] = out"
   ]
  },
  {
   "cell_type": "code",
   "execution_count": 7,
   "metadata": {},
   "outputs": [],
   "source": [
    "# Upload in bulk to couchdb\n",
    "for i in range(1280000//10000, len(new_twitter_cdb_bulk['docs'])//10000):\n",
    "    out = {'docs': new_twitter_cdb_bulk['docs'][i*10000:(i+1)*10000]}\n",
    "    json_data = json.dumps(out).encode('utf-8')\n",
    "    subprocess.run(['curl', '-X', 'POST', f'http://172.26.133.251:5984/tweet_database__electorate/_bulk_docs', '--header', 'Content-Type: application/json', '--data-binary', '@-', '-u', 'group9_admin:group9_H1'], input=json_data)\n",
    "\n",
    "out = {'docs': new_twitter_cdb_bulk['docs'][(i+1)*10000:len(new_twitter_cdb_bulk['docs'])]}\n",
    "json_data = json.dumps(out).encode('utf-8')\n",
    "subprocess.run(['curl', '-X', 'POST', f'http://172.26.133.251:5984/tweet_database__electorate/_bulk_docs', '--header', 'Content-Type: application/json', '--data-binary', '@-', '-u', 'group9_admin:group9_H1'], input=json_data)\n"
   ]
  },
  {
   "cell_type": "code",
   "execution_count": null,
   "metadata": {},
   "outputs": [],
   "source": []
  }
 ],
 "metadata": {
  "kernelspec": {
   "display_name": "base",
   "language": "python",
   "name": "python3"
  },
  "language_info": {
   "codemirror_mode": {
    "name": "ipython",
    "version": 3
   },
   "file_extension": ".py",
   "mimetype": "text/x-python",
   "name": "python",
   "nbconvert_exporter": "python",
   "pygments_lexer": "ipython3",
   "version": "3.9.7"
  },
  "orig_nbformat": 4
 },
 "nbformat": 4,
 "nbformat_minor": 2
}
