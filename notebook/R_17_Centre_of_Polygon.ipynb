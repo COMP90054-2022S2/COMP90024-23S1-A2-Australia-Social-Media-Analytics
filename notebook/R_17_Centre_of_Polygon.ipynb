{
 "cells": [
  {
   "attachments": {},
   "cell_type": "markdown",
   "metadata": {},
   "source": [
    "# R 17 Create Centre of polygons \n",
    "- for backend"
   ]
  },
  {
   "cell_type": "code",
   "execution_count": 1,
   "metadata": {},
   "outputs": [
    {
     "name": "stderr",
     "output_type": "stream",
     "text": [
      "/Applications/anaconda3/lib/python3.9/site-packages/geopandas/_compat.py:112: UserWarning: The Shapely GEOS version (3.10.2-CAPI-1.16.0) is incompatible with the GEOS version PyGEOS was compiled with (3.10.1-CAPI-1.16.0). Conversions between both will be slow.\n",
      "  warnings.warn(\n"
     ]
    }
   ],
   "source": [
    "import geopandas as gpd\n",
    "import pandas as pd\n",
    "import json"
   ]
  },
  {
   "cell_type": "code",
   "execution_count": 2,
   "metadata": {},
   "outputs": [
    {
     "data": {
      "text/html": [
       "<div>\n",
       "<style scoped>\n",
       "    .dataframe tbody tr th:only-of-type {\n",
       "        vertical-align: middle;\n",
       "    }\n",
       "\n",
       "    .dataframe tbody tr th {\n",
       "        vertical-align: top;\n",
       "    }\n",
       "\n",
       "    .dataframe thead th {\n",
       "        text-align: right;\n",
       "    }\n",
       "</style>\n",
       "<table border=\"1\" class=\"dataframe\">\n",
       "  <thead>\n",
       "    <tr style=\"text-align: right;\">\n",
       "      <th></th>\n",
       "      <th>Unnamed: 0</th>\n",
       "      <th>state</th>\n",
       "      <th>DivisionId</th>\n",
       "      <th>DivisionAb</th>\n",
       "      <th>DivisionName</th>\n",
       "      <th>WinningParty2022</th>\n",
       "      <th>WinningPercent2022</th>\n",
       "      <th>WinningParty2019</th>\n",
       "      <th>WinningPercent2019</th>\n",
       "      <th>ChangedWinningParty</th>\n",
       "      <th>ChangeInWinningPercent</th>\n",
       "      <th>2022WinningPartyOwnChangeInPercent</th>\n",
       "    </tr>\n",
       "  </thead>\n",
       "  <tbody>\n",
       "    <tr>\n",
       "      <th>69</th>\n",
       "      <td>69</td>\n",
       "      <td>SA</td>\n",
       "      <td>179.0</td>\n",
       "      <td>ADEL</td>\n",
       "      <td>Adelaide</td>\n",
       "      <td>ALP</td>\n",
       "      <td>0.581838</td>\n",
       "      <td>ALP</td>\n",
       "      <td>0.583035</td>\n",
       "      <td>False</td>\n",
       "      <td>-0.001197</td>\n",
       "      <td>-0.001197</td>\n",
       "    </tr>\n",
       "    <tr>\n",
       "      <th>82</th>\n",
       "      <td>82</td>\n",
       "      <td>VIC</td>\n",
       "      <td>197.0</td>\n",
       "      <td>ASTO</td>\n",
       "      <td>Aston</td>\n",
       "      <td>LP</td>\n",
       "      <td>0.601259</td>\n",
       "      <td>LP</td>\n",
       "      <td>0.574094</td>\n",
       "      <td>False</td>\n",
       "      <td>0.027165</td>\n",
       "      <td>0.027165</td>\n",
       "    </tr>\n",
       "    <tr>\n",
       "      <th>83</th>\n",
       "      <td>83</td>\n",
       "      <td>VIC</td>\n",
       "      <td>198.0</td>\n",
       "      <td>BALL</td>\n",
       "      <td>Ballarat</td>\n",
       "      <td>ALP</td>\n",
       "      <td>0.602348</td>\n",
       "      <td>ALP</td>\n",
       "      <td>0.573600</td>\n",
       "      <td>False</td>\n",
       "      <td>0.028748</td>\n",
       "      <td>0.028748</td>\n",
       "    </tr>\n",
       "    <tr>\n",
       "      <th>2</th>\n",
       "      <td>2</td>\n",
       "      <td>NSW</td>\n",
       "      <td>103.0</td>\n",
       "      <td>BANK</td>\n",
       "      <td>Banks</td>\n",
       "      <td>LP</td>\n",
       "      <td>0.562619</td>\n",
       "      <td>LP</td>\n",
       "      <td>0.514405</td>\n",
       "      <td>False</td>\n",
       "      <td>0.048214</td>\n",
       "      <td>0.048214</td>\n",
       "    </tr>\n",
       "    <tr>\n",
       "      <th>70</th>\n",
       "      <td>70</td>\n",
       "      <td>SA</td>\n",
       "      <td>180.0</td>\n",
       "      <td>BARK</td>\n",
       "      <td>Barker</td>\n",
       "      <td>LP</td>\n",
       "      <td>0.689446</td>\n",
       "      <td>LP</td>\n",
       "      <td>0.534262</td>\n",
       "      <td>False</td>\n",
       "      <td>0.155184</td>\n",
       "      <td>0.155184</td>\n",
       "    </tr>\n",
       "    <tr>\n",
       "      <th>...</th>\n",
       "      <td>...</td>\n",
       "      <td>...</td>\n",
       "      <td>...</td>\n",
       "      <td>...</td>\n",
       "      <td>...</td>\n",
       "      <td>...</td>\n",
       "      <td>...</td>\n",
       "      <td>...</td>\n",
       "      <td>...</td>\n",
       "      <td>...</td>\n",
       "      <td>...</td>\n",
       "      <td>...</td>\n",
       "    </tr>\n",
       "    <tr>\n",
       "      <th>44</th>\n",
       "      <td>44</td>\n",
       "      <td>NSW</td>\n",
       "      <td>153.0</td>\n",
       "      <td>WERR</td>\n",
       "      <td>Werriwa</td>\n",
       "      <td>ALP</td>\n",
       "      <td>0.554712</td>\n",
       "      <td>ALP</td>\n",
       "      <td>0.581965</td>\n",
       "      <td>False</td>\n",
       "      <td>-0.027253</td>\n",
       "      <td>-0.027253</td>\n",
       "    </tr>\n",
       "    <tr>\n",
       "      <th>41</th>\n",
       "      <td>41</td>\n",
       "      <td>NSW</td>\n",
       "      <td>150.0</td>\n",
       "      <td>WHIT</td>\n",
       "      <td>Whitlam</td>\n",
       "      <td>ALP</td>\n",
       "      <td>0.609140</td>\n",
       "      <td>ALP</td>\n",
       "      <td>0.637234</td>\n",
       "      <td>False</td>\n",
       "      <td>-0.028095</td>\n",
       "      <td>-0.028095</td>\n",
       "    </tr>\n",
       "    <tr>\n",
       "      <th>68</th>\n",
       "      <td>68</td>\n",
       "      <td>QLD</td>\n",
       "      <td>178.0</td>\n",
       "      <td>WBAY</td>\n",
       "      <td>Wide Bay</td>\n",
       "      <td>LNP</td>\n",
       "      <td>0.631488</td>\n",
       "      <td>LNP</td>\n",
       "      <td>0.581880</td>\n",
       "      <td>False</td>\n",
       "      <td>0.049608</td>\n",
       "      <td>0.049608</td>\n",
       "    </tr>\n",
       "    <tr>\n",
       "      <th>112</th>\n",
       "      <td>112</td>\n",
       "      <td>VIC</td>\n",
       "      <td>234.0</td>\n",
       "      <td>WILL</td>\n",
       "      <td>Wills</td>\n",
       "      <td>ALP</td>\n",
       "      <td>0.584651</td>\n",
       "      <td>ALP</td>\n",
       "      <td>0.549277</td>\n",
       "      <td>False</td>\n",
       "      <td>0.035374</td>\n",
       "      <td>0.035374</td>\n",
       "    </tr>\n",
       "    <tr>\n",
       "      <th>139</th>\n",
       "      <td>139</td>\n",
       "      <td>QLD</td>\n",
       "      <td>316.0</td>\n",
       "      <td>WRIG</td>\n",
       "      <td>Wright</td>\n",
       "      <td>LNP</td>\n",
       "      <td>0.645774</td>\n",
       "      <td>LNP</td>\n",
       "      <td>0.596153</td>\n",
       "      <td>False</td>\n",
       "      <td>0.049622</td>\n",
       "      <td>0.049622</td>\n",
       "    </tr>\n",
       "  </tbody>\n",
       "</table>\n",
       "<p>151 rows × 12 columns</p>\n",
       "</div>"
      ],
      "text/plain": [
       "     Unnamed: 0 state  DivisionId DivisionAb DivisionName WinningParty2022  \\\n",
       "69           69    SA       179.0       ADEL     Adelaide              ALP   \n",
       "82           82   VIC       197.0       ASTO        Aston               LP   \n",
       "83           83   VIC       198.0       BALL     Ballarat              ALP   \n",
       "2             2   NSW       103.0       BANK        Banks               LP   \n",
       "70           70    SA       180.0       BARK       Barker               LP   \n",
       "..          ...   ...         ...        ...          ...              ...   \n",
       "44           44   NSW       153.0       WERR      Werriwa              ALP   \n",
       "41           41   NSW       150.0       WHIT      Whitlam              ALP   \n",
       "68           68   QLD       178.0       WBAY     Wide Bay              LNP   \n",
       "112         112   VIC       234.0       WILL        Wills              ALP   \n",
       "139         139   QLD       316.0       WRIG       Wright              LNP   \n",
       "\n",
       "     WinningPercent2022 WinningParty2019  WinningPercent2019  \\\n",
       "69             0.581838              ALP            0.583035   \n",
       "82             0.601259               LP            0.574094   \n",
       "83             0.602348              ALP            0.573600   \n",
       "2              0.562619               LP            0.514405   \n",
       "70             0.689446               LP            0.534262   \n",
       "..                  ...              ...                 ...   \n",
       "44             0.554712              ALP            0.581965   \n",
       "41             0.609140              ALP            0.637234   \n",
       "68             0.631488              LNP            0.581880   \n",
       "112            0.584651              ALP            0.549277   \n",
       "139            0.645774              LNP            0.596153   \n",
       "\n",
       "     ChangedWinningParty  ChangeInWinningPercent  \\\n",
       "69                 False               -0.001197   \n",
       "82                 False                0.027165   \n",
       "83                 False                0.028748   \n",
       "2                  False                0.048214   \n",
       "70                 False                0.155184   \n",
       "..                   ...                     ...   \n",
       "44                 False               -0.027253   \n",
       "41                 False               -0.028095   \n",
       "68                 False                0.049608   \n",
       "112                False                0.035374   \n",
       "139                False                0.049622   \n",
       "\n",
       "     2022WinningPartyOwnChangeInPercent  \n",
       "69                            -0.001197  \n",
       "82                             0.027165  \n",
       "83                             0.028748  \n",
       "2                              0.048214  \n",
       "70                             0.155184  \n",
       "..                                  ...  \n",
       "44                            -0.027253  \n",
       "41                            -0.028095  \n",
       "68                             0.049608  \n",
       "112                            0.035374  \n",
       "139                            0.049622  \n",
       "\n",
       "[151 rows x 12 columns]"
      ]
     },
     "execution_count": 2,
     "metadata": {},
     "output_type": "execute_result"
    }
   ],
   "source": [
    "Election = pd.read_csv('../data/curated/ElectionData/2022ElectionData.csv')\n",
    "Election.sort_values(['DivisionName'])"
   ]
  },
  {
   "attachments": {},
   "cell_type": "markdown",
   "metadata": {},
   "source": [
    "## Get 2019 and 2022 electorate list"
   ]
  },
  {
   "cell_type": "code",
   "execution_count": 3,
   "metadata": {},
   "outputs": [],
   "source": [
    "df_2019 = Election[(Election['WinningParty2019'] == 'LP') | (Election['WinningParty2019'] == 'LNP') | (Election['WinningParty2019'] == 'NP')]\n",
    "df_2022 = Election[Election['WinningParty2022'] == 'ALP']"
   ]
  },
  {
   "cell_type": "code",
   "execution_count": 4,
   "metadata": {},
   "outputs": [],
   "source": [
    "winning_electorate_2019 = list(df_2019['DivisionName'])\n",
    "winning_electorate_2022 = list(df_2022['DivisionName'])"
   ]
  },
  {
   "attachments": {},
   "cell_type": "markdown",
   "metadata": {},
   "source": [
    "## Get centroids from geographic data "
   ]
  },
  {
   "cell_type": "code",
   "execution_count": 5,
   "metadata": {},
   "outputs": [],
   "source": [
    "gdf = gpd.read_file('../data/raw/Geography/2021_ELB_region.shp')\n",
    "gdf = gdf[['Elect_div', 'geometry']]"
   ]
  },
  {
   "cell_type": "code",
   "execution_count": 6,
   "metadata": {},
   "outputs": [
    {
     "name": "stderr",
     "output_type": "stream",
     "text": [
      "/var/folders/xg/8w_3dndd6l5c3n99vd7vd3f40000gn/T/ipykernel_63466/601049228.py:5: ShapelyDeprecationWarning: Iteration over multi-part geometries is deprecated and will be removed in Shapely 2.0. Use the `geoms` property to access the constituent parts of a multi-part geometry.\n",
      "  largest_polygon = max(row['geometry'], key=lambda geom: geom.area)\n"
     ]
    }
   ],
   "source": [
    "# deal with centroid of multipolygons: create the right centroid point\n",
    "centroids = []\n",
    "for index, row in gdf.iterrows():\n",
    "    if row['geometry'].geom_type == 'MultiPolygon':\n",
    "        largest_polygon = max(row['geometry'], key=lambda geom: geom.area)\n",
    "        centroid = largest_polygon.centroid\n",
    "    else:\n",
    "        centroid = row['geometry'].centroid\n",
    "    \n",
    "    centroids.append(centroid)\n"
   ]
  },
  {
   "cell_type": "code",
   "execution_count": 7,
   "metadata": {},
   "outputs": [
    {
     "name": "stderr",
     "output_type": "stream",
     "text": [
      "/Applications/anaconda3/lib/python3.9/site-packages/pandas/core/dtypes/cast.py:122: ShapelyDeprecationWarning: The array interface is deprecated and will no longer work in Shapely 2.0. Convert the '.coords' to a numpy array instead.\n",
      "  arr = construct_1d_object_array_from_listlike(values)\n"
     ]
    }
   ],
   "source": [
    "gdf['centroid'] = centroids"
   ]
  },
  {
   "cell_type": "code",
   "execution_count": 9,
   "metadata": {},
   "outputs": [],
   "source": [
    "gdf = gdf[['Elect_div', 'centroid']]"
   ]
  },
  {
   "attachments": {},
   "cell_type": "markdown",
   "metadata": {},
   "source": [
    "## Get it into Geolocation form"
   ]
  },
  {
   "cell_type": "code",
   "execution_count": 10,
   "metadata": {},
   "outputs": [],
   "source": [
    "outlist2022 = []\n",
    "outlist2019 = []\n",
    "\n",
    "for id, row in gdf.iterrows():\n",
    "\n",
    "    if row['Elect_div'] in winning_electorate_2022:\n",
    "        outlist2022.append({'lat': row['centroid'].coords[0][0], 'lng': row['centroid'].coords[0][1], 'name':row['Elect_div'] })\n",
    "    \n",
    "    if row['Elect_div'] in winning_electorate_2019:\n",
    "        outlist2019.append({'lat': row['centroid'].coords[0][0], 'lng': row['centroid'].coords[0][1], 'name':row['Elect_div']})"
   ]
  },
  {
   "cell_type": "code",
   "execution_count": 11,
   "metadata": {},
   "outputs": [],
   "source": [
    "with open('../data/curated/GeoJson/2019_winning_party_centroid.json', 'w') as f:\n",
    "    json.dump(outlist2019, f)\n",
    "\n",
    "with open('../data/curated/GeoJson/2022_winning_party_centroid.json', 'w') as f:\n",
    "    json.dump(outlist2022, f)"
   ]
  },
  {
   "cell_type": "code",
   "execution_count": null,
   "metadata": {},
   "outputs": [],
   "source": []
  }
 ],
 "metadata": {
  "kernelspec": {
   "display_name": "base",
   "language": "python",
   "name": "python3"
  },
  "language_info": {
   "codemirror_mode": {
    "name": "ipython",
    "version": 3
   },
   "file_extension": ".py",
   "mimetype": "text/x-python",
   "name": "python",
   "nbconvert_exporter": "python",
   "pygments_lexer": "ipython3",
   "version": "3.9.7"
  },
  "orig_nbformat": 4
 },
 "nbformat": 4,
 "nbformat_minor": 2
}
