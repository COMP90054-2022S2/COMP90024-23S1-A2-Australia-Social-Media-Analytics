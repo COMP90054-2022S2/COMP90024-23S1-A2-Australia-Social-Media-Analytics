{
 "cells": [
  {
   "attachments": {},
   "cell_type": "markdown",
   "id": "326c29b8",
   "metadata": {},
   "source": [
    "# R_15 Create API functions to CDB and Backend Functions"
   ]
  },
  {
   "cell_type": "code",
   "execution_count": 9,
   "id": "cda44e82-e4bf-4cba-b230-c1c8faf51ef4",
   "metadata": {},
   "outputs": [],
   "source": [
    "import requests\n",
    "import time\n",
    "\n",
    "username = 'group9_admin'\n",
    "password = 'group9_H1'"
   ]
  },
  {
   "cell_type": "code",
   "execution_count": 10,
   "id": "0e1894f1-a7ef-4b85-b29f-d4746652226d",
   "metadata": {},
   "outputs": [],
   "source": [
    "def make_get_request(username, password, url, params = {}):\n",
    "    \"\"\" Helper to make the GET request using the \n",
    "            username - str\n",
    "            password - str\n",
    "            url - str (e.g. http://172.26.133.251:5984/tweet_database/_design/date/_view/date_electorate__nsentiment)\n",
    "            params - dict (e.g. {'group': 'True'})\"\"\"\n",
    "    \n",
    "    start = time.time()\n",
    "\n",
    "    # Set the authentication credentials\n",
    "    auth = (username, password)\n",
    "\n",
    "    # Send GET request using requests library\n",
    "    response = requests.get(url, params=params, auth=auth)\n",
    "    \n",
    "    end = time.time()\n",
    "    print(end-start)\n",
    "\n",
    "    if response.ok:\n",
    "        return response.json()\n",
    "    else:\n",
    "        return 'Error: '+ response.status_code"
   ]
  },
  {
   "attachments": {},
   "cell_type": "markdown",
   "id": "6fc3a7e1",
   "metadata": {},
   "source": [
    "***"
   ]
  },
  {
   "attachments": {},
   "cell_type": "markdown",
   "id": "27fdaf55",
   "metadata": {},
   "source": [
    "## BY DATE, BY ELECTORATE => [NUMBER OF POS TWEETS, NUMBER OF NEU TWEETS, NUMBER OF NEG TWEETS]\n",
    "\n",
    "- MAP CLICK ELECTORATE: PIE CHART\n",
    "    - pre election\n",
    "    - post election"
   ]
  },
  {
   "cell_type": "code",
   "execution_count": 11,
   "id": "48979929-32c3-4991-a45f-734e65e0f22f",
   "metadata": {},
   "outputs": [],
   "source": [
    "def GET_date_electorate__n_sentiment(startdate, enddate, username, password):\n",
    "    url = 'http://172.26.133.251:5984/tweet_database/_design/date/_view/date_electorate__nsentiment'\n",
    "\n",
    "    # Set the parameters for the GET request\n",
    "    params = {\n",
    "        'group': 'True',\n",
    "        'startkey': f'[\"{startdate}\"]',\n",
    "        'endkey': f'[\"{enddate}\"]'\n",
    "    }\n",
    "\n",
    "    returned_data_json = make_get_request(username, password, url, params)\n",
    "    \n",
    "    return returned_data_json"
   ]
  },
  {
   "cell_type": "code",
   "execution_count": 12,
   "id": "55647e44-0deb-4014-85be-22d239ac174a",
   "metadata": {},
   "outputs": [
    {
     "name": "stdout",
     "output_type": "stream",
     "text": [
      "3.028303861618042\n"
     ]
    }
   ],
   "source": [
    "date_electorate__n_sentiment = GET_date_electorate__n_sentiment('2022-02-09', '2022-05-22', username, password) # Pre election\n",
    "GET_date_electorate__n_sentiment('2022-05-21', '2023-06-30', username, password) # post election"
   ]
  },
  {
   "attachments": {},
   "cell_type": "markdown",
   "id": "c8d13299",
   "metadata": {},
   "source": []
  },
  {
   "cell_type": "code",
   "execution_count": 1,
   "id": "f56b6f81",
   "metadata": {},
   "outputs": [],
   "source": [
    "## Sentiment count of tweets in this time period in this electorate for bar chart purposes\n",
    "\n",
    "electorate_n_sent = {}\n",
    "\n",
    "for i in range(len(date_electorate__n_sentiment['rows'])):\n",
    "    \n",
    "    electorate = date_electorate__n_sentiment['rows'][i]['key'][1]\n",
    "    if electorate not in electorate_n_sent:\n",
    "        electorate_n_sent[electorate] = [0, 0, 0]\n",
    "    \n",
    "    for j in range(3):\n",
    "        electorate_n_sent[electorate][j] += date_electorate__n_sentiment['rows'][i]['value'][j]['sum']\n",
    "\n",
    "electorate_n_sent"
   ]
  },
  {
   "cell_type": "code",
   "execution_count": 14,
   "id": "418c1aa6",
   "metadata": {},
   "outputs": [],
   "source": [
    "# output format: [pos_tweet_count, neu_tweet_count, neg_tweet_count]"
   ]
  },
  {
   "cell_type": "code",
   "execution_count": 6,
   "id": "60027f9c",
   "metadata": {},
   "outputs": [
    {
     "data": {
      "text/plain": [
       "[29, 766, 1]"
      ]
     },
     "execution_count": 6,
     "metadata": {},
     "output_type": "execute_result"
    }
   ],
   "source": [
    "# use this method to look for data\n",
    "electorate_n_sent.get('Adelaide', [0, 0, 0])"
   ]
  },
  {
   "attachments": {},
   "cell_type": "markdown",
   "id": "b11c7ce1",
   "metadata": {},
   "source": [
    "***"
   ]
  },
  {
   "attachments": {},
   "cell_type": "markdown",
   "id": "b0ce36d2",
   "metadata": {},
   "source": [
    "## BY DATE, BY ELECTORATE => [NUMBER OF POS TWEETS, NUMBER OF NEU TWEETS, NUMBER OF NEG TWEETS]\n",
    "### POLITICAL\n",
    "\n",
    "- MAP CLICK ELECTORATE: PIE CHART\n",
    "    - pre election\n",
    "    - post election"
   ]
  },
  {
   "cell_type": "code",
   "execution_count": 15,
   "id": "572eb63a-abd5-44eb-a9b4-dd979e51bde7",
   "metadata": {},
   "outputs": [],
   "source": [
    "def GET_date_electorate__n_sentiment__pol(startdate, enddate, username, password):\n",
    "    url = 'http://172.26.133.251:5984/tweet_database/_design/date/_view/date_electorate__nsentiment__pol'\n",
    "\n",
    "    # Set the parameters for the GET request\n",
    "    params = {\n",
    "        'group': 'True',\n",
    "        'startkey': f'[\"{startdate}\"]',\n",
    "        'endkey': f'[\"{enddate}\"]'\n",
    "    }\n",
    "\n",
    "    returned_data_json = make_get_request(username, password, url, params)\n",
    "    \n",
    "    return returned_data_json"
   ]
  },
  {
   "cell_type": "code",
   "execution_count": 16,
   "id": "f9357a6e-1fbe-4566-80f6-7feaeefbaaa6",
   "metadata": {},
   "outputs": [
    {
     "name": "stdout",
     "output_type": "stream",
     "text": [
      "0.7326390743255615\n"
     ]
    }
   ],
   "source": [
    "date_electorate_n_sentiment__pol = GET_date_electorate__n_sentiment__pol('2022-02-09', '2022-05-22', username, password) # pre election\n",
    "GET_date_electorate__n_sentiment__pol('2022-05-21', '2023-06-30', username, password) # post election"
   ]
  },
  {
   "attachments": {},
   "cell_type": "markdown",
   "id": "975ca570",
   "metadata": {},
   "source": []
  },
  {
   "cell_type": "code",
   "execution_count": 2,
   "id": "c4aa2732",
   "metadata": {},
   "outputs": [],
   "source": [
    "## Sentiment count of tweets in this time period in this electorate for bar chart purposes\n",
    "\n",
    "electorate_n_sent = {}\n",
    "\n",
    "for i in range(len(date_electorate_n_sentiment__pol['rows'])):\n",
    "    \n",
    "    electorate = date_electorate_n_sentiment__pol['rows'][i]['key'][1]\n",
    "    if electorate not in electorate_n_sent:\n",
    "        electorate_n_sent[electorate] = [0, 0, 0]\n",
    "    \n",
    "    for j in range(3):\n",
    "        electorate_n_sent[electorate][j] += date_electorate_n_sentiment__pol['rows'][i]['value'][j]['sum']\n",
    "\n",
    "electorate_n_sent"
   ]
  },
  {
   "attachments": {},
   "cell_type": "markdown",
   "id": "73ff6c90",
   "metadata": {},
   "source": [
    "***"
   ]
  },
  {
   "attachments": {},
   "cell_type": "markdown",
   "id": "154baa2b",
   "metadata": {},
   "source": [
    "## BY DATE, BY ELECTORATE => AVERAGE SENTIMENT\n",
    "\n",
    "- MAP: NUMBER OF TWEETS FOR ALL ELECTORATE FOR THIS PERIOD; SENTIMENT FOR ALL ELECTORATE FOR THIS PERIOD; MAP CLICK INTO ELECTORATE: SENTIMENT FOR THIS ELECTORATE FOR THIS PERIOD; MAP CLICK INTO ELECTORATE: NUMBER OF TWEETS FOR THIS ELECTORATE FOR THIS PERIOD \n",
    "    - pre election\n",
    "    - post election\n",
    "- MAP CLICK INTO ELECTORATE: SENTIMENT FOR ONE PARTCULAR ELECTORATE GROUPED BY DAY\n",
    "    - pre election\n",
    "    - post election\n",
    "- DASHBOARD: DISTRIBUTION PAGE: WHOLE AUSTRALIA LINE GRAPH BY MONTH\n",
    "    -pre election\n",
    "    -post election\n",
    "- DASHBOARD: DISTRIBUTION PAGE: WHOLE AUSTRALIA LINE GRAPH BY DAY\n",
    "    -pre election\n",
    "    -post election\n",
    "- DASHBOARD: DISTRIBUTION PAGE: SCATTER PLOT OF Y = SENTIMENT X = CHANGED GOVERNING PARTY IN 2022 ELECTION\n",
    "    - 1 month pre election\n",
    "    - 2 month pre election\n",
    "    - 3 month pre election\n",
    "    - 1 month post election\n",
    "    - 2 month post election\n",
    "    - 3 month post election\n",
    "- DASHBOARD: RANKING PAGE: RANK ELECTORATE BY SENTIMENT\n",
    "    - 1 month pre election\n",
    "    - 2 month pre election\n",
    "    - 3 month pre election\n",
    "    - 1 month post election\n",
    "    - 2 month post election\n",
    "    - 3 month post election\n",
    "- DASHBOARD: RANKING PAGE: RANK ELECTORATE BY NUMBER OF TWEETS\n",
    "    - 1 month pre election\n",
    "    - 2 month pre election\n",
    "    - 3 month pre election\n",
    "    - 1 month post election\n",
    "    - 2 month post election\n",
    "    - 3 month post election"
   ]
  },
  {
   "cell_type": "code",
   "execution_count": 18,
   "id": "f8880ee9-d6f0-47c8-b4d2-fd0b73892845",
   "metadata": {},
   "outputs": [],
   "source": [
    "def GET_date_electorate__avgsent(startdate, enddate, username, password):\n",
    "    url = 'http://172.26.133.251:5984/tweet_database/_design/date/_view/date_electorate__avgsent'\n",
    "\n",
    "    # Set the parameters for the GET request\n",
    "    params = {\n",
    "        'group': 'True',\n",
    "        'startkey': f'[\"{startdate}\"]',\n",
    "        'endkey': f'[\"{enddate}\"]'\n",
    "    }\n",
    "\n",
    "    returned_data_json = make_get_request(username, password, url, params)\n",
    "    \n",
    "    return returned_data_json"
   ]
  },
  {
   "cell_type": "code",
   "execution_count": 19,
   "id": "b1f92ad6-3b48-46e2-9208-e3153cc243c5",
   "metadata": {},
   "outputs": [
    {
     "name": "stdout",
     "output_type": "stream",
     "text": [
      "2.301499128341675\n"
     ]
    }
   ],
   "source": [
    "date_electorate__avgsent = GET_date_electorate__avgsent('2022-02-09', '2022-05-22', username, password) # Pre election\n",
    "\n",
    "\n",
    "GET_date_electorate__avgsent('2022-02-09', '2022-05-22', username, password) # Post election\n",
    "GET_date_electorate__avgsent('2022-05-21', '2022-06-21', username, password) # 1 month post election \n",
    "GET_date_electorate__avgsent('2022-05-21', '2022-07-21', username, password) # 2 month post election\n",
    "GET_date_electorate__avgsent('2022-05-21', '2022-08-21', username, password) # 3 month post election\n",
    "GET_date_electorate__avgsent('2022-02-21', '2022-05-22', username, password) # 1 month post election \n",
    "GET_date_electorate__avgsent('2022-03-21', '2022-05-22', username, password) # 2 month post election\n",
    "GET_date_electorate__avgsent('2022-04-21', '2022-05-22', username, password) # 3 month post election"
   ]
  },
  {
   "attachments": {},
   "cell_type": "markdown",
   "id": "2a454c73",
   "metadata": {},
   "source": []
  },
  {
   "cell_type": "code",
   "execution_count": 43,
   "id": "3fd77306",
   "metadata": {},
   "outputs": [],
   "source": [
    "## sentiment of tweets for each electorate by day - for displaying in line graph once we click onto electorate\n",
    "daily_by_electorate_sentiment = {}\n",
    "\n",
    "for i in range(len(date_electorate__avgsent['rows'])):\n",
    "\n",
    "    electorate = date_electorate__avgsent['rows'][i]['key'][1]\n",
    "    if electorate not in daily_by_electorate_sentiment:\n",
    "        daily_by_electorate_sentiment[electorate] = {}\n",
    "    \n",
    "    date = date_electorate__avgsent['rows'][i]['key'][0]\n",
    "\n",
    "    daily_by_electorate_sentiment[electorate][date] = date_electorate__avgsent['rows'][i]['value']['sum']/date_electorate__avgsent['rows'][i]['value']['count']"
   ]
  },
  {
   "cell_type": "code",
   "execution_count": 44,
   "id": "0613c37d",
   "metadata": {},
   "outputs": [
    {
     "data": {
      "text/plain": [
       "dict_keys(['2022-02-10', '2022-02-11', '2022-02-12', '2022-02-13', '2022-02-14', '2022-02-15', '2022-02-16', '2022-02-17', '2022-02-18', '2022-02-19', '2022-02-20', '2022-02-21', '2022-02-22', '2022-02-23', '2022-02-24', '2022-02-25', '2022-02-26', '2022-02-27', '2022-02-28', '2022-03-01', '2022-03-02', '2022-03-03', '2022-03-04', '2022-03-05', '2022-03-06', '2022-03-07', '2022-03-08', '2022-03-09', '2022-03-10', '2022-03-11', '2022-03-12', '2022-03-13', '2022-03-14', '2022-03-15', '2022-03-16', '2022-03-17', '2022-03-18', '2022-03-19', '2022-03-20', '2022-03-21', '2022-03-22', '2022-03-23', '2022-03-24', '2022-03-25', '2022-03-26', '2022-03-27', '2022-03-28', '2022-03-30', '2022-03-31', '2022-04-01', '2022-04-02', '2022-04-03', '2022-04-04', '2022-04-05', '2022-04-06', '2022-04-07', '2022-04-08', '2022-04-09', '2022-04-10', '2022-04-11', '2022-04-12', '2022-04-13', '2022-04-14', '2022-04-15', '2022-04-16', '2022-04-17', '2022-04-18', '2022-04-19', '2022-04-20', '2022-04-21', '2022-04-22', '2022-04-23', '2022-04-24', '2022-04-25', '2022-04-26', '2022-04-27', '2022-04-28', '2022-04-29', '2022-04-30', '2022-05-01', '2022-05-02', '2022-05-03', '2022-05-04', '2022-05-05', '2022-05-06', '2022-05-07', '2022-05-08', '2022-05-09', '2022-05-10', '2022-05-11', '2022-05-12', '2022-05-13', '2022-05-14', '2022-05-15', '2022-05-16', '2022-05-17', '2022-05-18', '2022-05-19', '2022-05-20', '2022-05-21'])"
      ]
     },
     "execution_count": 44,
     "metadata": {},
     "output_type": "execute_result"
    }
   ],
   "source": [
    "daily_by_electorate_sentiment.get('Adelaide', {}).keys()"
   ]
  },
  {
   "cell_type": "code",
   "execution_count": 45,
   "id": "f405853f",
   "metadata": {},
   "outputs": [
    {
     "data": {
      "text/plain": [
       "dict_values([0.12814, 0.17605714285714286, 0.37673749999999995, 0.58075, 0.30670000000000003, 0.0, 0.38905, 0.270675, 0.1036909090909091, -0.011014285714285723, 0.6996666666666668, 0.3294, 0.32455, 0.29618666666666665, 0.20424000000000003, 0.31253, 0.3904117647058824, 0.33571666666666666, 0.2907, 0.2886666666666667, 0.35819999999999996, 0.601175, 0.3101833333333333, 0.30363571428571434, 0.25732222222222223, 0.1592, 0.3206, -0.0053500000000000075, 0.30169999999999997, 0.18055384615384615, 0.51665, 0.22089999999999999, 0.6369, 0.4465333333333334, 0.3195571428571428, 0.24641666666666664, 0.2255095238095238, 0.38158749999999997, 0.39815555555555554, -0.1445, 0.0, 0.032766666666666666, 0.8029999999999999, 0.3505846153846154, 0.43332857142857145, 0.21028888888888891, 0.0, 0.19923749999999998, 0.13428333333333334, 0.22348181818181817, 0.11664444444444445, 0.13675, 0.5453333333333333, 0.78365, 0.282925, 0.3471230769230769, 0.25465, 0.3160071428571429, 0.0641, 0.7126, 0.5328999999999999, 0.255075, 0.19626, 0.35392500000000005, 0.12727, 0.14178, -0.05876428571428571, 0.5423428571428571, 0.4199125, 0.07256153846153844, 0.12348095238095237, 0.18001250000000002, 0.08897368421052632, 0.2145375, 0.0633, 0.28435, 0.43960000000000005, 0.11179285714285715, 0.264525, 0.57094, 0.3351, 0.059188888888888895, 0.2794666666666667, 0.5724428571428571, 0.47974999999999995, 0.13517857142857143, 0.1416, 0.88, 0.1591, 0.49942000000000003, 0.63049, 0.14806315789473684, 0.32717272727272734, 0.29264545454545454, 0.32192000000000004, 0.26165, 0.30273636363636364, -0.043690909090909086, 0.18946249999999998, 0.16312])"
      ]
     },
     "execution_count": 45,
     "metadata": {},
     "output_type": "execute_result"
    }
   ],
   "source": [
    "daily_by_electorate_sentiment.get('Adelaide', {}).values()"
   ]
  },
  {
   "cell_type": "code",
   "execution_count": 55,
   "id": "4b03eaab",
   "metadata": {},
   "outputs": [],
   "source": [
    "## sentiment of tweets for each electorate by month - for displaying in line graph once we click onto electorate\n",
    "monthly_by_electorate_sentiment = {}\n",
    "\n",
    "for i in range(len(date_electorate__avgsent['rows'])):\n",
    "\n",
    "    electorate = date_electorate__avgsent['rows'][i]['key'][1]\n",
    "    if electorate not in monthly_by_electorate_sentiment:\n",
    "        monthly_by_electorate_sentiment[electorate] = {}\n",
    "    \n",
    "    month = date_electorate__avgsent['rows'][i]['key'][0][5:7]\n",
    "\n",
    "    monthly_by_electorate_sentiment[electorate][month] = date_electorate__avgsent['rows'][i]['value']['sum']/date_electorate__avgsent['rows'][i]['value']['count']"
   ]
  },
  {
   "cell_type": "code",
   "execution_count": 56,
   "id": "57256cda",
   "metadata": {},
   "outputs": [
    {
     "data": {
      "text/plain": [
       "dict_keys(['02', '03', '04', '05'])"
      ]
     },
     "execution_count": 56,
     "metadata": {},
     "output_type": "execute_result"
    }
   ],
   "source": [
    "monthly_by_electorate_sentiment.get('Adelaide', {}).keys()"
   ]
  },
  {
   "cell_type": "code",
   "execution_count": 57,
   "id": "0f46dc10",
   "metadata": {},
   "outputs": [
    {
     "data": {
      "text/plain": [
       "dict_values([0.2907, 0.13428333333333334, 0.264525, 0.16312])"
      ]
     },
     "execution_count": 57,
     "metadata": {},
     "output_type": "execute_result"
    }
   ],
   "source": [
    "monthly_by_electorate_sentiment.get('Adelaide', {}).values()"
   ]
  },
  {
   "attachments": {},
   "cell_type": "markdown",
   "id": "897570ee",
   "metadata": {},
   "source": []
  },
  {
   "cell_type": "code",
   "execution_count": 3,
   "id": "ed530704",
   "metadata": {},
   "outputs": [],
   "source": [
    "## Sentiment and number of tweets of each electorate for this time period - for map and for displaying number of tweets once we click onto electorate\n",
    "## Also useable for plot 2 on the dashboard (scatter plot x = change of electorate, y = sentiment)\n",
    "\n",
    "electorate_avg_sent_sum_count = {}\n",
    "\n",
    "for i in range(len(date_electorate__avgsent['rows'])):\n",
    "    \n",
    "    electorate = date_electorate__avgsent['rows'][i]['key'][1]\n",
    "    if electorate not in electorate_avg_sent_sum_count:\n",
    "        electorate_avg_sent_sum_count[electorate] = [0, 0]\n",
    "    \n",
    "    electorate_avg_sent_sum_count[electorate][0] += date_electorate__avgsent['rows'][i]['value']['sum']\n",
    "    electorate_avg_sent_sum_count[electorate][1] += date_electorate__avgsent['rows'][i]['value']['count']\n",
    "\n",
    "electorate_avg_sent = {key:{'avg_sentiment': electorate_avg_sent_sum_count[key][0]/electorate_avg_sent_sum_count[key][1], 'n tweets': electorate_avg_sent_sum_count[key][1]} for key in electorate_avg_sent_sum_count}\n",
    "electorate_avg_sent"
   ]
  },
  {
   "attachments": {},
   "cell_type": "markdown",
   "id": "55073375",
   "metadata": {},
   "source": []
  },
  {
   "cell_type": "code",
   "execution_count": 103,
   "id": "be568adb",
   "metadata": {},
   "outputs": [],
   "source": [
    "## sentiment of tweets for whole Australia by day - for displaying in line graph of the dashboard page\n",
    "daily_AUS_sentiment_sum_count = {}\n",
    "\n",
    "for i in range(len(date_electorate__avgsent['rows'])):\n",
    "\n",
    "    date = date_electorate__avgsent['rows'][i]['key'][0]\n",
    "    \n",
    "    if date not in daily_AUS_sentiment_sum_count:\n",
    "        daily_AUS_sentiment_sum_count[date] = {'sum': 0, 'count': 0}\n",
    "\n",
    "    daily_AUS_sentiment_sum_count[date]['sum'] += date_electorate__avgsent['rows'][i]['value']['sum']\n",
    "    daily_AUS_sentiment_sum_count[date]['count'] += date_electorate__avgsent['rows'][i]['value']['count']\n",
    "\n",
    "daily_AUS_sentiment = {key: daily_AUS_sentiment_sum_count[key]['sum']/daily_AUS_sentiment_sum_count[key]['count'] for key in daily_AUS_sentiment_sum_count}\n"
   ]
  },
  {
   "cell_type": "code",
   "execution_count": 105,
   "id": "d1d5056f",
   "metadata": {},
   "outputs": [],
   "source": [
    "## sentiment of tweets for whole Australia by day - for displaying in line graph of the dashboard page\n",
    "monthly_AUS_sentiment_sum_count = {}\n",
    "\n",
    "for i in range(len(date_electorate__avgsent['rows'])):\n",
    "\n",
    "    month = date_electorate__avgsent['rows'][i]['key'][0][5:7]\n",
    "    \n",
    "    if month not in monthly_AUS_sentiment_sum_count:\n",
    "        monthly_AUS_sentiment_sum_count[month] = {'sum': 0, 'count': 0}\n",
    "\n",
    "    monthly_AUS_sentiment_sum_count[month]['sum'] += date_electorate__avgsent['rows'][i]['value']['sum']\n",
    "    monthly_AUS_sentiment_sum_count[month]['count'] += date_electorate__avgsent['rows'][i]['value']['count']\n",
    "\n",
    "monthly_AUS_sentiment = {key: monthly_AUS_sentiment_sum_count[key]['sum']/monthly_AUS_sentiment_sum_count[key]['count'] for key in monthly_AUS_sentiment_sum_count}\n"
   ]
  },
  {
   "attachments": {},
   "cell_type": "markdown",
   "id": "b228d4c5",
   "metadata": {},
   "source": [
    "***"
   ]
  },
  {
   "attachments": {},
   "cell_type": "markdown",
   "id": "ef705f77",
   "metadata": {},
   "source": [
    "## BY DATE, BY ELECTORATE => AVERAGE SENTIMENT\n",
    "### POLITICAL\n",
    "\n",
    "- MAP: NUMBER OF TWEETS FOR ALL ELECTORATE FOR THIS PERIOD; SENTIMENT FOR ALL ELECTORATE FOR THIS PERIOD; MAP CLICK INTO ELECTORATE: SENTIMENT FOR THIS ELECTORATE FOR THIS PERIOD; MAP CLICK INTO ELECTORATE: NUMBER OF TWEETS FOR THIS ELECTORATE FOR THIS PERIOD \n",
    "    - pre election\n",
    "    - post election\n",
    "- MAP CLICK INTO ELECTORATE: SENTIMENT FOR ONE PARTCULAR ELECTORATE GROUPED BY DAY\n",
    "    - pre election\n",
    "    - post election\n",
    "- DASHBOARD: DISTRIBUTION PAGE: WHOLE AUSTRALIA LINE GRAPH BY MONTH\n",
    "    -pre election\n",
    "    -post election\n",
    "- DASHBOARD: DISTRIBUTION PAGE: WHOLE AUSTRALIA LINE GRAPH BY DAY\n",
    "    -pre election\n",
    "    -post election\n",
    "- DASHBOARD: DISTRIBUTION PAGE: SCATTER PLOT OF Y = SENTIMENT X = CHANGED GOVERNING PARTY IN 2022 ELECTION\n",
    "    - 1 month pre election\n",
    "    - 2 month pre election\n",
    "    - 3 month pre election\n",
    "    - 1 month post election\n",
    "    - 2 month post election\n",
    "    - 3 month post election\n",
    " DASHBOARD: RANKING PAGE: RANK ELECTORATE BY SENTIMENT\n",
    "    - 1 month pre election\n",
    "    - 2 month pre election\n",
    "    - 3 month pre election\n",
    "    - 1 month post election\n",
    "    - 2 month post election\n",
    "    - 3 month post election\n",
    "- DASHBOARD: RANKING PAGE: RANK ELECTORATE BY NUMBER OF TWEETS\n",
    "    - 1 month pre election\n",
    "    - 2 month pre election\n",
    "    - 3 month pre election\n",
    "    - 1 month post election\n",
    "    - 2 month post election\n",
    "    - 3 month post election"
   ]
  },
  {
   "cell_type": "code",
   "execution_count": 22,
   "id": "61aa5957-1150-4315-a31e-6e3e4284ffff",
   "metadata": {},
   "outputs": [],
   "source": [
    "def GET_date_electorate__avgsent__pol(startdate, enddate, username, password):\n",
    "    url = 'http://172.26.133.251:5984/tweet_database/_design/date/_view/date_electorate__avgsent__pol'\n",
    "\n",
    "    # Set the parameters for the GET request\n",
    "    params = {\n",
    "        'group': 'True',\n",
    "        'startkey': f'[\"{startdate}\"]',\n",
    "        'endkey': f'[\"{enddate}\"]'\n",
    "    }\n",
    "\n",
    "    returned_data_json = make_get_request(username, password, url, params)\n",
    "    \n",
    "    return returned_data_json"
   ]
  },
  {
   "cell_type": "code",
   "execution_count": 23,
   "id": "cd0f7183-cf40-4845-9a22-01305a583278",
   "metadata": {},
   "outputs": [
    {
     "name": "stdout",
     "output_type": "stream",
     "text": [
      "0.7084598541259766\n"
     ]
    }
   ],
   "source": [
    "date_electorate__avgsent__pol = GET_date_electorate__avgsent__pol('2022-02-09', '2022-05-22', username, password) # Pre Election\n",
    "\n",
    "GET_date_electorate__avgsent__pol('2022-05-21', '2023-06-30', username, password) # Post election\n",
    "GET_date_electorate__avgsent__pol('2022-05-21', '2022-06-21', username, password) # 1 month post election \n",
    "GET_date_electorate__avgsent__pol('2022-05-21', '2022-07-21', username, password) # 2 month post election\n",
    "GET_date_electorate__avgsent__pol('2022-05-21', '2022-08-21', username, password) # 3 month post election\n",
    "GET_date_electorate__avgsent__pol('2022-02-21', '2022-05-22', username, password) # 1 month post election \n",
    "GET_date_electorate__avgsent__pol('2022-03-21', '2022-05-22', username, password) # 2 month post election\n",
    "GET_date_electorate__avgsent__pol('2022-04-21', '2022-05-22', username, password) # 3 month post election"
   ]
  },
  {
   "attachments": {},
   "cell_type": "markdown",
   "id": "965ce16c",
   "metadata": {},
   "source": []
  },
  {
   "cell_type": "code",
   "execution_count": 4,
   "id": "4d34d8da",
   "metadata": {},
   "outputs": [],
   "source": [
    "## Sentiment and number of political tweets of each electorate for this time period - for map and for displaying number of tweets once we click onto electorate\n",
    "## Also useable for plot 2 on the dashboard (scatter plot x = change of electorate, y = sentiment)\n",
    "\n",
    "electorate_avg_sent_pol_sum_count = {}\n",
    "\n",
    "for i in range(len(date_electorate__avgsent__pol['rows'])):\n",
    "    \n",
    "    electorate = date_electorate__avgsent__pol['rows'][i]['key'][1]\n",
    "    if electorate not in electorate_avg_sent_pol_sum_count:\n",
    "        electorate_avg_sent_pol_sum_count[electorate] = [0, 0]\n",
    "    \n",
    "    electorate_avg_sent_pol_sum_count[electorate][0] += date_electorate__avgsent__pol['rows'][i]['value']['sum']\n",
    "    electorate_avg_sent_pol_sum_count[electorate][1] += date_electorate__avgsent__pol['rows'][i]['value']['count']\n",
    "\n",
    "electorate_avg_sent = {key:{'avg_sentiment': electorate_avg_sent_pol_sum_count[key][0]/electorate_avg_sent_pol_sum_count[key][1], 'n tweets': electorate_avg_sent_pol_sum_count[key][1]} for key in electorate_avg_sent_pol_sum_count}\n",
    "electorate_avg_sent"
   ]
  },
  {
   "attachments": {},
   "cell_type": "markdown",
   "id": "b68537e2",
   "metadata": {},
   "source": []
  },
  {
   "cell_type": "code",
   "execution_count": null,
   "id": "9369b2d9",
   "metadata": {},
   "outputs": [],
   "source": [
    "## sentiment of tweets for whole Australia by day - for displaying in line graph of the dashboard page\n",
    "daily_AUS_sentiment_pol_sum_count = {}\n",
    "\n",
    "for i in range(len(date_electorate__avgsent['rows'])):\n",
    "\n",
    "    date = date_electorate__avgsent['rows'][i]['key'][0]\n",
    "    \n",
    "    if date not in daily_AUS_sentiment_pol_sum_count:\n",
    "        daily_AUS_sentiment_pol_sum_count[date] = {'sum': 0, 'count': 0}\n",
    "\n",
    "    daily_AUS_sentiment_pol_sum_count[date]['sum'] += date_electorate__avgsent['rows'][i]['value']['sum']\n",
    "    daily_AUS_sentiment_pol_sum_count[date]['count'] += date_electorate__avgsent['rows'][i]['value']['count']\n",
    "\n",
    "daily_AUS_sentiment_pol = {key: daily_AUS_sentiment_pol_sum_count[key]['sum']/daily_AUS_sentiment_pol_sum_count[key]['count'] for key in daily_AUS_sentiment_pol_sum_count}\n"
   ]
  },
  {
   "cell_type": "code",
   "execution_count": 5,
   "id": "b125ad68",
   "metadata": {},
   "outputs": [],
   "source": [
    "daily_AUS_sentiment_pol"
   ]
  },
  {
   "cell_type": "code",
   "execution_count": 108,
   "id": "76df07fc",
   "metadata": {},
   "outputs": [],
   "source": [
    "## sentiment of tweets for whole Australia by day - for displaying in line graph of the dashboard page\n",
    "monthly_AUS_sentiment_pol_sum_count = {}\n",
    "\n",
    "for i in range(len(date_electorate__avgsent['rows'])):\n",
    "\n",
    "    month = date_electorate__avgsent['rows'][i]['key'][0][5:7]\n",
    "    \n",
    "    if month not in monthly_AUS_sentiment_pol_sum_count:\n",
    "        monthly_AUS_sentiment_pol_sum_count[month] = {'sum': 0, 'count': 0}\n",
    "\n",
    "    monthly_AUS_sentiment_pol_sum_count[month]['sum'] += date_electorate__avgsent['rows'][i]['value']['sum']\n",
    "    monthly_AUS_sentiment_pol_sum_count[month]['count'] += date_electorate__avgsent['rows'][i]['value']['count']\n",
    "\n",
    "monthly_AUS_sentiment_pol = {key: monthly_AUS_sentiment_pol_sum_count[key]['sum']/monthly_AUS_sentiment_pol_sum_count[key]['count'] for key in monthly_AUS_sentiment_pol_sum_count}\n"
   ]
  },
  {
   "cell_type": "code",
   "execution_count": 120,
   "id": "a292deb2",
   "metadata": {},
   "outputs": [
    {
     "data": {
      "text/plain": [
       "{'02': 0.1393940900813823,\n",
       " '03': 0.13572388149380663,\n",
       " '04': 0.14365651314610248,\n",
       " '05': 0.14610041370083438}"
      ]
     },
     "execution_count": 120,
     "metadata": {},
     "output_type": "execute_result"
    }
   ],
   "source": [
    "monthly_AUS_sentiment_pol"
   ]
  },
  {
   "attachments": {},
   "cell_type": "markdown",
   "id": "b66356a9",
   "metadata": {},
   "source": [
    "***"
   ]
  },
  {
   "attachments": {},
   "cell_type": "markdown",
   "id": "f3d21381",
   "metadata": {},
   "source": [
    "## BY WEEK, BY ELECTORATE => AVERAGE SENTIMENT\n",
    "\n",
    "- DASHBOARD: DISTRIBUTION PAGE: WHOLE AUSTRALIA LINE GRAPH BY WEEK\n",
    "    - pre election\n",
    "    - post election\n",
    "\n",
    "- DASHBOARD: DISTRIBUTION PAGE: SCATTER PLOT OF Y = SENTIMENT X = CHANGED GOVERNING PARTY IN 2022 ELECTION\n",
    "    - 1 week pre election\n",
    "    - 2 week pre election\n",
    "    - 3 week pre election\n",
    "    - 1 week post election\n",
    "    - 2 week post election\n",
    "    - 3 week post election\n",
    "- DASHBOARD: RANKING PAGE: RANK ELECTORATE BY SENTIMENT\n",
    "    - 1 week pre election\n",
    "    - 2 week pre election\n",
    "    - 3 week pre election\n",
    "    - 1 week post election\n",
    "    - 2 week post election\n",
    "    - 3 week post election\n",
    "- DASHBOARD: RANKING PAGE: RANK ELECTORATE BY NUMBER OF TWEETS\n",
    "    - 1 week pre election\n",
    "    - 2 week pre election\n",
    "    - 3 week pre election\n",
    "    - 1 week post election\n",
    "    - 2 week post election\n",
    "    - 3 week post election"
   ]
  },
  {
   "cell_type": "code",
   "execution_count": 28,
   "id": "01a9f31f-4252-42c0-9311-b0f5c8507aa6",
   "metadata": {},
   "outputs": [],
   "source": [
    "def GET_week_electorate__avgsent(startweek, endweek, username, password):\n",
    "    url = 'http://172.26.133.251:5984/tweet_database/_design/week/_view/week_electorate__avgsent'\n",
    "\n",
    "    # Set the parameters for the GET request\n",
    "    params = {\n",
    "        'group': 'True',\n",
    "        'startkey': f'[{startweek}]',\n",
    "        'endkey': f'[{endweek}]'\n",
    "    }\n",
    "\n",
    "    returned_data_json = make_get_request(username, password, url, params)\n",
    "    \n",
    "    return returned_data_json"
   ]
  },
  {
   "cell_type": "code",
   "execution_count": 29,
   "id": "a81808e6-ead0-431f-a0e7-6df667026f01",
   "metadata": {},
   "outputs": [
    {
     "name": "stdout",
     "output_type": "stream",
     "text": [
      "0.7217729091644287\n"
     ]
    }
   ],
   "source": [
    "week_electorate__avgsent = GET_week_electorate__avgsent(-15, 0, username, password) # PRE ELECTION\n",
    "GET_week_electorate__avgsent(0, 20, username, password) # POST ELECTION\n",
    "GET_week_electorate__avgsent(0, 2, username, password) # 1 week POST ELECTION \n",
    "GET_week_electorate__avgsent(0, 3, username, password) # 2 week POST ELECTION\n",
    "GET_week_electorate__avgsent(0, 4, username, password) # 3 week POST ELECTION\n",
    "GET_week_electorate__avgsent(-1, 0, username, password) # 1 week PRE ELECTION \n",
    "GET_week_electorate__avgsent(-2, 0, username, password) # 2 week PRE ELECTION\n",
    "GET_week_electorate__avgsent(-3, 0, username, password) # 3 week PRE ELECTION"
   ]
  },
  {
   "attachments": {},
   "cell_type": "markdown",
   "id": "447014a7",
   "metadata": {},
   "source": []
  },
  {
   "cell_type": "code",
   "execution_count": 76,
   "id": "ce60611c",
   "metadata": {},
   "outputs": [],
   "source": [
    "## sentiment of tweets for each electorate by week - for displaying in line graph once we click onto electorate\n",
    "weekly_by_electorate_sentiment = {}\n",
    "\n",
    "for i in range(len(week_electorate__avgsent['rows'])):\n",
    "\n",
    "    electorate = week_electorate__avgsent['rows'][i]['key'][1]\n",
    "    if electorate not in weekly_by_electorate_sentiment:\n",
    "        weekly_by_electorate_sentiment[electorate] = {}\n",
    "    \n",
    "    date = week_electorate__avgsent['rows'][i]['key'][0]\n",
    "\n",
    "    weekly_by_electorate_sentiment[electorate][date] = week_electorate__avgsent['rows'][i]['value']['sum']/week_electorate__avgsent['rows'][i]['value']['count']"
   ]
  },
  {
   "cell_type": "code",
   "execution_count": 77,
   "id": "31939bef",
   "metadata": {},
   "outputs": [
    {
     "data": {
      "text/plain": [
       "dict_keys([-15, -14, -13, -12, -11, -10, -9, -8, -7, -6, -5, -4, -3, -2, -1])"
      ]
     },
     "execution_count": 77,
     "metadata": {},
     "output_type": "execute_result"
    }
   ],
   "source": [
    "weekly_by_electorate_sentiment.get('Adelaide', {}).keys()"
   ]
  },
  {
   "cell_type": "code",
   "execution_count": 78,
   "id": "057bc939",
   "metadata": {},
   "outputs": [
    {
     "data": {
      "text/plain": [
       "dict_values([0.24434999999999998, 0.16525714285714282, 0.3450592592592593, 0.33486078431372546, 0.26275192307692313, 0.29100175438596493, 0.2632586956521739, 0.1712131147540984, 0.34601000000000004, 0.24038205128205128, 0.15813684210526316, 0.18922236842105258, 0.3247055555555556, 0.3407134615384615, 0.19985205479452056])"
      ]
     },
     "execution_count": 78,
     "metadata": {},
     "output_type": "execute_result"
    }
   ],
   "source": [
    "weekly_by_electorate_sentiment.get('Adelaide', {}).values()"
   ]
  },
  {
   "attachments": {},
   "cell_type": "markdown",
   "id": "263a8082",
   "metadata": {},
   "source": []
  },
  {
   "cell_type": "code",
   "execution_count": 6,
   "id": "28698a70",
   "metadata": {},
   "outputs": [],
   "source": [
    "## Sentiment count of tweets in this time period in this electorate for bar chart purposes\n",
    "\n",
    "electorate_week_avg_sent_pol_sum_count = {}\n",
    "\n",
    "for i in range(len(week_electorate__avgsent['rows'])):\n",
    "    \n",
    "    electorate = week_electorate__avgsent['rows'][i]['key'][1]\n",
    "    if electorate not in electorate_week_avg_sent_pol_sum_count:\n",
    "        electorate_week_avg_sent_pol_sum_count[electorate] = [0, 0]\n",
    "    \n",
    "    electorate_week_avg_sent_pol_sum_count[electorate][0] += week_electorate__avgsent['rows'][i]['value']['sum']\n",
    "    electorate_week_avg_sent_pol_sum_count[electorate][1] += week_electorate__avgsent['rows'][i]['value']['count']\n",
    "\n",
    "electorate_week_avg_sent = {key:{'avg_sentiment':electorate_week_avg_sent_pol_sum_count[key][0]/electorate_week_avg_sent_pol_sum_count[key][1], 'n tweets':electorate_week_avg_sent_pol_sum_count[key][1]} for key in electorate_week_avg_sent_pol_sum_count}\n",
    "electorate_week_avg_sent"
   ]
  },
  {
   "attachments": {},
   "cell_type": "markdown",
   "id": "33381f48",
   "metadata": {},
   "source": []
  },
  {
   "cell_type": "code",
   "execution_count": 113,
   "id": "ce00ad59",
   "metadata": {},
   "outputs": [],
   "source": [
    "## sentiment of tweets for whole Australia by day - for displaying in line graph of the dashboard page\n",
    "weekly_AUS_sentiment_sum_count = {}\n",
    "\n",
    "for i in range(len(week_electorate__avgsent['rows'])):\n",
    "\n",
    "    week = week_electorate__avgsent['rows'][i]['key'][0]\n",
    "    \n",
    "    if week not in weekly_AUS_sentiment_sum_count:\n",
    "        weekly_AUS_sentiment_sum_count[week] = {'sum': 0, 'count': 0}\n",
    "\n",
    "    weekly_AUS_sentiment_sum_count[week]['sum'] += week_electorate__avgsent['rows'][i]['value']['sum']\n",
    "    weekly_AUS_sentiment_sum_count[week]['count'] += week_electorate__avgsent['rows'][i]['value']['count']\n",
    "\n",
    "weekly_AUS_sentiment = {key: weekly_AUS_sentiment_sum_count[key]['sum']/weekly_AUS_sentiment_sum_count[key]['count'] for key in weekly_AUS_sentiment_sum_count}\n"
   ]
  },
  {
   "cell_type": "code",
   "execution_count": 121,
   "id": "96fb6679",
   "metadata": {},
   "outputs": [
    {
     "data": {
      "text/plain": [
       "{-15: 0.14664940045946084,\n",
       " -14: 0.14668559918360569,\n",
       " -13: 0.13473668058430693,\n",
       " -12: 0.1246588534592415,\n",
       " -11: 0.13768629074600744,\n",
       " -10: 0.1387165499790928,\n",
       " -9: 0.13502133555746884,\n",
       " -8: 0.14049444460039856,\n",
       " -7: 0.14570688329876066,\n",
       " -6: 0.14161201799485865,\n",
       " -5: 0.14312148780267167,\n",
       " -4: 0.14540618075241435,\n",
       " -3: 0.15232354205726736,\n",
       " -2: 0.1397039910972202,\n",
       " -1: 0.1464544474946763}"
      ]
     },
     "execution_count": 121,
     "metadata": {},
     "output_type": "execute_result"
    }
   ],
   "source": [
    "weekly_AUS_sentiment"
   ]
  },
  {
   "attachments": {},
   "cell_type": "markdown",
   "id": "a3f92892",
   "metadata": {},
   "source": [
    "***"
   ]
  },
  {
   "attachments": {},
   "cell_type": "markdown",
   "id": "065648c3",
   "metadata": {},
   "source": [
    "## BY WEEK, BY ELECTORATE => AVERAGE SENTIMENT\n",
    "### POLITICAL\n",
    "\n",
    "- DASHBOARD: DISTRIBUTION PAGE: WHOLE AUSTRALIA LINE GRAPH BY WEEK\n",
    "    - pre election\n",
    "    - post election\n",
    "\n",
    "- DASHBOARD: DISTRIBUTION PAGE: SCATTER PLOT OF Y = SENTIMENT X = CHANGED GOVERNING PARTY IN 2022 ELECTION\n",
    "    - 1 week pre election\n",
    "    - 2 week pre election\n",
    "    - 3 week pre election\n",
    "    - 1 week post election\n",
    "    - 2 week post election\n",
    "    - 3 week post election\n",
    "- DASHBOARD: RANKING PAGE: RANK ELECTORATE BY SENTIMENT\n",
    "    - 1 week pre election\n",
    "    - 2 week pre election\n",
    "    - 3 week pre election\n",
    "    - 1 week post election\n",
    "    - 2 week post election\n",
    "    - 3 week post election\n",
    "- DASHBOARD: RANKING PAGE: RANK ELECTORATE BY NUMBER OF TWEETS\n",
    "    - 1 week pre election\n",
    "    - 2 week pre election\n",
    "    - 3 week pre election\n",
    "    - 1 week post election\n",
    "    - 2 week post election\n",
    "    - 3 week post election"
   ]
  },
  {
   "cell_type": "code",
   "execution_count": 81,
   "id": "a4a80b20-8b9d-4175-b991-7edaa7c51a6b",
   "metadata": {},
   "outputs": [],
   "source": [
    "def GET_week_electorate__avgsent__pol(startweek, endweek, username, password):\n",
    "    url = 'http://172.26.133.251:5984/tweet_database/_design/week/_view/week_electorate__avgsent__pol'\n",
    "\n",
    "    # Set the parameters for the GET request\n",
    "    params = {\n",
    "        'group': 'True',\n",
    "        'startkey': f'[{startweek}]',\n",
    "        'endkey': f'[{endweek}]'\n",
    "    }\n",
    "\n",
    "    returned_data_json = make_get_request(username, password, url, params)\n",
    "    \n",
    "    return returned_data_json"
   ]
  },
  {
   "cell_type": "code",
   "execution_count": 87,
   "id": "dea8dcba-552c-4570-af11-acbd2d20b9c3",
   "metadata": {},
   "outputs": [],
   "source": [
    "week_electorate__avgsent__pol = GET_week_electorate__avgsent__pol(-15, 0, username, password) # PRE ELECTION\n",
    "GET_week_electorate__avgsent__pol(0, 20, username, password) # POST ELECTION \n",
    "GET_week_electorate__avgsent__pol(0, 2, username, password) # 1 week POST ELECTION \n",
    "GET_week_electorate__avgsent__pol(0, 3, username, password) # 2 week POST ELECTION\n",
    "GET_week_electorate__avgsent__pol(0, 4, username, password) # 3 week POST ELECTION\n",
    "GET_week_electorate__avgsent__pol(-1, 0, username, password) # 1 week PRE ELECTION \n",
    "GET_week_electorate__avgsent__pol(-2, 0, username, password) # 2 week PRE ELECTION\n",
    "GET_week_electorate__avgsent__pol(-3, 0, username, password) # 3 week PRE ELECTION\n"
   ]
  },
  {
   "attachments": {},
   "cell_type": "markdown",
   "id": "00402f14",
   "metadata": {},
   "source": []
  },
  {
   "cell_type": "code",
   "execution_count": 83,
   "id": "e411d209",
   "metadata": {},
   "outputs": [],
   "source": [
    "## sentiment of tweets for each electorate by week - for displaying in line graph once we click onto electorate\n",
    "weekly_by_electorate_pol_sentiment = {}\n",
    "\n",
    "for i in range(len(week_electorate__avgsent__pol['rows'])):\n",
    "\n",
    "    electorate = week_electorate__avgsent__pol['rows'][i]['key'][1]\n",
    "    if electorate not in weekly_by_electorate_pol_sentiment:\n",
    "        weekly_by_electorate_pol_sentiment[electorate] = {}\n",
    "    \n",
    "    date = week_electorate__avgsent__pol['rows'][i]['key'][0]\n",
    "\n",
    "    weekly_by_electorate_pol_sentiment[electorate][date] = week_electorate__avgsent__pol['rows'][i]['value']['sum']/week_electorate__avgsent__pol['rows'][i]['value']['count']"
   ]
  },
  {
   "cell_type": "code",
   "execution_count": 84,
   "id": "3c41b141",
   "metadata": {},
   "outputs": [
    {
     "data": {
      "text/plain": [
       "dict_keys([-15, -14, -13, -12, -11, -10, -9, -8, -7, -6, -5, -4, -3, -2, -1])"
      ]
     },
     "execution_count": 84,
     "metadata": {},
     "output_type": "execute_result"
    }
   ],
   "source": [
    "weekly_by_electorate_pol_sentiment.get('Adelaide', {}).keys()"
   ]
  },
  {
   "cell_type": "code",
   "execution_count": 85,
   "id": "e21f1706",
   "metadata": {},
   "outputs": [
    {
     "data": {
      "text/plain": [
       "dict_values([0.9349, 0.5154333333333333, 0.49454444444444445, 0.6363125000000001, 0.00843333333333333, 0.4643857142857143, 0.6099, 0.6572333333333333, 0.739325, 0.5667666666666666, 0.422425, 0.4311875, 0.5387727272727273, 0.7411714285714286, 0.09072666666666666])"
      ]
     },
     "execution_count": 85,
     "metadata": {},
     "output_type": "execute_result"
    }
   ],
   "source": [
    "weekly_by_electorate_pol_sentiment.get('Adelaide', {}).values()"
   ]
  },
  {
   "attachments": {},
   "cell_type": "markdown",
   "id": "f896064a",
   "metadata": {},
   "source": []
  },
  {
   "cell_type": "code",
   "execution_count": 7,
   "id": "d2cc3506",
   "metadata": {},
   "outputs": [],
   "source": [
    "## Sentiment count of tweets in this time period in this electorate for bar chart purposes\n",
    "\n",
    "electorate_week_avg_sent_pol_sum_count = {}\n",
    "\n",
    "for i in range(len(week_electorate__avgsent__pol['rows'])):\n",
    "    \n",
    "    electorate = week_electorate__avgsent__pol['rows'][i]['key'][1]\n",
    "    if electorate not in electorate_week_avg_sent_pol_sum_count:\n",
    "        electorate_week_avg_sent_pol_sum_count[electorate] = [0, 0]\n",
    "    \n",
    "    electorate_week_avg_sent_pol_sum_count[electorate][0] += week_electorate__avgsent__pol['rows'][i]['value']['sum']\n",
    "    electorate_week_avg_sent_pol_sum_count[electorate][1] += week_electorate__avgsent__pol['rows'][i]['value']['count']\n",
    "\n",
    "electorate_week_avg_sent_pol = {key:electorate_week_avg_sent_pol_sum_count[key][0]/electorate_week_avg_sent_pol_sum_count[key][1] for key in electorate_week_avg_sent_pol_sum_count}\n",
    "electorate_week_avg_sent_pol"
   ]
  },
  {
   "cell_type": "code",
   "execution_count": null,
   "id": "e8a43b29",
   "metadata": {},
   "outputs": [],
   "source": []
  },
  {
   "cell_type": "code",
   "execution_count": 115,
   "id": "cd9c3362",
   "metadata": {},
   "outputs": [],
   "source": [
    "## sentiment of tweets for whole Australia by day - for displaying in line graph of the dashboard page\n",
    "weekly_AUS_sentiment_pol_sum_count = {}\n",
    "\n",
    "for i in range(len(week_electorate__avgsent__pol['rows'])):\n",
    "\n",
    "    week = week_electorate__avgsent__pol['rows'][i]['key'][0]\n",
    "    \n",
    "    if week not in weekly_AUS_sentiment_pol_sum_count:\n",
    "        weekly_AUS_sentiment_pol_sum_count[week] = {'sum': 0, 'count': 0}\n",
    "\n",
    "    weekly_AUS_sentiment_pol_sum_count[week]['sum'] += week_electorate__avgsent__pol['rows'][i]['value']['sum']\n",
    "    weekly_AUS_sentiment_pol_sum_count[week]['count'] += week_electorate__avgsent__pol['rows'][i]['value']['count']\n",
    "\n",
    "weekly_AUS_sentiment_pol = {key: weekly_AUS_sentiment_pol_sum_count[key]['sum']/weekly_AUS_sentiment_pol_sum_count[key]['count'] for key in weekly_AUS_sentiment_pol_sum_count}\n"
   ]
  },
  {
   "attachments": {},
   "cell_type": "markdown",
   "id": "bf85aef3",
   "metadata": {},
   "source": [
    "***"
   ]
  },
  {
   "attachments": {},
   "cell_type": "markdown",
   "id": "4c607015",
   "metadata": {},
   "source": [
    "## NUMBER OF POLITICAL TWEETS, NUMBER OF TWEETS, PERCENTAGE OF POLITICAL TWEETS\n",
    "\n",
    "- DASHBOARD: DISTRIUTION: TABLE COMPARING TWEET AND TOOT"
   ]
  },
  {
   "cell_type": "code",
   "execution_count": null,
   "id": "86fad183",
   "metadata": {},
   "outputs": [],
   "source": [
    "def GET_tweet_political(username, password):\n",
    "    url = 'http://172.26.133.251:5984/tweet_database/_design/political/_view/political'\n",
    "\n",
    "    returned_data_json = make_get_request(username, password, url)\n",
    "    \n",
    "    return returned_data_json"
   ]
  },
  {
   "cell_type": "code",
   "execution_count": null,
   "id": "2a890aa0",
   "metadata": {},
   "outputs": [
    {
     "name": "stdout",
     "output_type": "stream",
     "text": [
      "0.032476186752319336\n"
     ]
    }
   ],
   "source": [
    "tweet_political = GET_tweet_political(username, password)"
   ]
  },
  {
   "cell_type": "code",
   "execution_count": null,
   "id": "485d521e",
   "metadata": {},
   "outputs": [
    {
     "data": {
      "text/plain": [
       "{'sum': 307585, 'count': 2517277, 'mean': 0.12218957230372343}"
      ]
     },
     "metadata": {},
     "output_type": "display_data"
    }
   ],
   "source": [
    "## Number of tweets that are political - for the TWEET VS TOOT\n",
    "tweet_political_stats = {'sum': tweet_political['rows'][0]['value']['sum'], \n",
    "    'count': tweet_political['rows'][0]['value']['count'], \n",
    "    'mean': tweet_political['rows'][0]['value']['sum']/tweet_political['rows'][0]['value']['count']}\n",
    "\n",
    "tweet_political_stats"
   ]
  },
  {
   "attachments": {},
   "cell_type": "markdown",
   "id": "0dcd4a92",
   "metadata": {},
   "source": []
  },
  {
   "attachments": {},
   "cell_type": "markdown",
   "id": "47df840f",
   "metadata": {},
   "source": [
    "## NUMBER OF PARTIAL MATCH TOOT, NUMBER OF TOOTS, PERCENTAGE OF PARTIAL MATCH TOOTS\n",
    "\n",
    "- DASHBOARD: DISTRIUTION: TABLE COMPARING TWEET AND TOOT"
   ]
  },
  {
   "cell_type": "code",
   "execution_count": null,
   "id": "0c26e45a",
   "metadata": {},
   "outputs": [],
   "source": [
    "def GET_toot_partial_match(username, password):\n",
    "    url = 'http://172.26.133.251:5984/toot_database/_design/partial_match/_view/partial_match'\n",
    "\n",
    "    returned_data_json = make_get_request(username, password, url)\n",
    "    \n",
    "    return returned_data_json"
   ]
  },
  {
   "cell_type": "code",
   "execution_count": null,
   "id": "c66117c3",
   "metadata": {},
   "outputs": [
    {
     "name": "stdout",
     "output_type": "stream",
     "text": [
      "0.14587783813476562\n"
     ]
    }
   ],
   "source": [
    "toot_partial_match = GET_toot_partial_match(username, password)"
   ]
  },
  {
   "cell_type": "code",
   "execution_count": null,
   "id": "8d264922",
   "metadata": {},
   "outputs": [
    {
     "data": {
      "text/plain": [
       "{'sum': 297297, 'count': 389455, 'mean': 0.7633667561078944}"
      ]
     },
     "metadata": {},
     "output_type": "display_data"
    }
   ],
   "source": [
    "## Number of toots that are partial_match\n",
    "toot_political_stats = {'sum': toot_partial_match['rows'][0]['value']['sum'], \n",
    "    'count': toot_partial_match['rows'][0]['value']['count'], \n",
    "    'mean': toot_partial_match['rows'][0]['value']['sum']/toot_partial_match['rows'][0]['value']['count']}\n",
    "\n",
    "toot_political_stats\n",
    "\n",
    "# REMEMBER: WHEN PRESENTING SUM FOR NON-PARTIAL MATCH (== EXACT MATCH): USE COUNT-SUM INSTAED OF SUM, AND 1-MEAN INSTEAD OF MEAN\n",
    "# THIS IS BECAUSE SUM AND MEAN ARE CURRENTLY FOR PARTIAL MATCH"
   ]
  },
  {
   "attachments": {},
   "cell_type": "markdown",
   "id": "566efaef",
   "metadata": {},
   "source": [
    "***\n",
    "***"
   ]
  },
  {
   "attachments": {},
   "cell_type": "markdown",
   "id": "d01cf7c8-c753-45e3-bf60-89c80c0c6f50",
   "metadata": {},
   "source": [
    "# QUERY"
   ]
  },
  {
   "attachments": {},
   "cell_type": "markdown",
   "id": "b24d167d",
   "metadata": {},
   "source": [
    "## RETURN TOP 5 POSITIVE QUERY FOR A CERTAIN ELECTORATE (WHOLE TIME PERIOD)\n",
    "\n",
    "### POLITICAL"
   ]
  },
  {
   "cell_type": "code",
   "execution_count": 61,
   "id": "d1f4966a-eff1-4706-b9ba-30412ca23297",
   "metadata": {},
   "outputs": [],
   "source": [
    "def make_post_request(username, password, url, request_body):\n",
    "    \"\"\" Helper to make the POST request using the \n",
    "            username - str\n",
    "            password - str\n",
    "            url - str (e.g. http://172.26.133.251:5984/tweet_database__electorate/_partition/Adelaide/_find)\n",
    "            params - dict (e.g. {\"selector\": {\"is_political\": {\"$eq\": 1}},\"sort\": [{\"pos_score\": \"desc\"}],\"limit\": top_k})\"\"\"\n",
    "\n",
    "    start = time.time()\n",
    "    \n",
    "    # Set the authentication credentials\n",
    "    auth = (username, password)\n",
    "\n",
    "    # Send GET request using requests library\n",
    "    response = requests.post(url, json=request_body, auth=auth)\n",
    "    \n",
    "    end = time.time()\n",
    "    print(end-start)\n",
    "\n",
    "    if response.ok:\n",
    "        return response.json()\n",
    "    else:\n",
    "        return 'Error: '+ response.status_code"
   ]
  },
  {
   "cell_type": "code",
   "execution_count": 62,
   "id": "9af922a8",
   "metadata": {},
   "outputs": [],
   "source": [
    "def get_top_pos_tweets(username, password, electorate, top_k = 5):\n",
    "\n",
    "    electorate = electorate.lower()\n",
    "    electorate = electorate[0].upper() + electorate[1:]\n",
    "\n",
    "    url = f\"http://172.26.133.251:5984/tweet_database__electorate/_partition/{electorate}/_find\"\n",
    "    \n",
    "    request_body = {\n",
    "            \"selector\": {\n",
    "                \"is_political\": {\n",
    "                    \"$eq\": 1\n",
    "                }\n",
    "            },\n",
    "        \"sort\": [\n",
    "            {\n",
    "                \"pos_score\": \"desc\"\n",
    "            }\n",
    "        ],\n",
    "        \"limit\": top_k\n",
    "    }\n",
    "\n",
    "    returned_json_data = make_post_request(username, password, url, request_body)\n",
    "\n",
    "    return returned_json_data"
   ]
  },
  {
   "cell_type": "code",
   "execution_count": 73,
   "id": "6fbb319b",
   "metadata": {},
   "outputs": [
    {
     "name": "stdout",
     "output_type": "stream",
     "text": [
      "0.7389249801635742\n"
     ]
    }
   ],
   "source": [
    "top_5_pos_tweets = get_top_pos_tweets(username, password, 'Hawke')"
   ]
  },
  {
   "cell_type": "code",
   "execution_count": 13,
   "id": "141c1d31",
   "metadata": {},
   "outputs": [],
   "source": [
    "## TOP 5 POS TWEETS OF AN ELECTORATE\n",
    "\n",
    "if type(top_5_pos_tweets) is dict:\n",
    "    cleaned_tweet_list = []\n",
    "    for i in range(len(top_5_pos_tweets['docs'])):\n",
    "        cleaned_tweet = {}\n",
    "        cleaned_tweet['author'] = top_5_pos_tweets['docs'][i]['author_id']\n",
    "        cleaned_tweet['tweet_id'] = top_5_pos_tweets['docs'][i]['_id'].split(':')[1]\n",
    "        cleaned_tweet['date'] = top_5_pos_tweets['docs'][i]['date']\n",
    "        cleaned_tweet['text'] = top_5_pos_tweets['docs'][i]['text']\n",
    "        cleaned_tweet['pos_score'] = top_5_pos_tweets['docs'][i]['pos_score']\n",
    "        cleaned_tweet['compound_score'] = top_5_pos_tweets['docs'][i]['compound_score']\n",
    "\n",
    "        cleaned_tweet_list.append(cleaned_tweet)\n",
    "\n",
    "    display(cleaned_tweet_list)\n",
    "\n",
    "else:\n",
    "    print(top_5_pos_tweets)"
   ]
  },
  {
   "attachments": {},
   "cell_type": "markdown",
   "id": "d739c450",
   "metadata": {},
   "source": [
    "## RETURN TOP 5 NEGATIVE QUERY FOR A CERTAIN ELECTORATE (WHOLE TIME PERIOD)\n",
    "### POLITICAL"
   ]
  },
  {
   "cell_type": "code",
   "execution_count": 75,
   "id": "43e42824-f14d-4b34-9636-748467851f10",
   "metadata": {},
   "outputs": [],
   "source": [
    "def get_top_neg_tweets(username, password, electorate, top_k = 5):\n",
    "\n",
    "    electorate = electorate.lower()\n",
    "    electorate = electorate[0].upper() + electorate[1:]\n",
    "\n",
    "    url = f\"http://172.26.133.251:5984/tweet_database__electorate/_partition/{electorate}/_find\"\n",
    "    \n",
    "    request_body = {\n",
    "            \"selector\": {\n",
    "                \"is_political\": {\n",
    "                    \"$eq\": 1\n",
    "                }\n",
    "            },\n",
    "        \"sort\": [\n",
    "            {\n",
    "                \"neg_score\": \"desc\"\n",
    "            }\n",
    "        ],\n",
    "        \"limit\": top_k\n",
    "    }\n",
    "\n",
    "    returned_json_data = make_post_request(username, password, url, request_body)\n",
    "\n",
    "    return returned_json_data"
   ]
  },
  {
   "cell_type": "code",
   "execution_count": 76,
   "id": "24ea20e9",
   "metadata": {},
   "outputs": [
    {
     "name": "stdout",
     "output_type": "stream",
     "text": [
      "0.16455984115600586\n"
     ]
    }
   ],
   "source": [
    "top_5_neg_tweets = get_top_neg_tweets(username, password, 'Hawke')"
   ]
  },
  {
   "cell_type": "code",
   "execution_count": 12,
   "id": "9b8b530e",
   "metadata": {},
   "outputs": [],
   "source": [
    "## TOP 5 POS TWEETS OF AN ELECTORATE\n",
    "if type(top_5_neg_tweets) is dict:\n",
    "    cleaned_tweet_list = []\n",
    "    for i in range(len(top_5_neg_tweets['docs'])):\n",
    "        cleaned_tweet = {}\n",
    "        cleaned_tweet['author'] = top_5_neg_tweets['docs'][i]['author_id']\n",
    "        cleaned_tweet['tweet_id'] = top_5_neg_tweets['docs'][i]['_id'].split(':')[1]\n",
    "        cleaned_tweet['date'] = top_5_neg_tweets['docs'][i]['date']\n",
    "        cleaned_tweet['text'] = top_5_neg_tweets['docs'][i]['text']\n",
    "        cleaned_tweet['neg_score'] = top_5_neg_tweets['docs'][i]['neg_score']\n",
    "        cleaned_tweet['compound_score'] = top_5_neg_tweets['docs'][i]['compound_score']\n",
    "\n",
    "        cleaned_tweet_list.append(cleaned_tweet)\n",
    "\n",
    "    display(cleaned_tweet_list)\n",
    "\n",
    "else:\n",
    "    print(top_5_neg_tweets)"
   ]
  },
  {
   "attachments": {},
   "cell_type": "markdown",
   "id": "c2dbfb3b",
   "metadata": {},
   "source": [
    "## RETURN TOP 5 POSITIVE QUERY FOR A CERTAIN ELECTORATE (WHOLE TIME PERIOD)"
   ]
  },
  {
   "cell_type": "code",
   "execution_count": 65,
   "id": "49e8796b",
   "metadata": {},
   "outputs": [],
   "source": [
    "def make_post_request(username, password, url, request_body):\n",
    "    \"\"\" Helper to make the POST request using the \n",
    "            username - str\n",
    "            password - str\n",
    "            url - str (e.g. http://172.26.133.251:5984/tweet_database__electorate/_partition/Adelaide/_find)\n",
    "            params - dict (e.g. {\"selector\": {\"is_political\": {\"$eq\": 1}},\"sort\": [{\"pos_score\": \"desc\"}],\"limit\": top_k})\"\"\"\n",
    "\n",
    "    start = time.time()\n",
    "    \n",
    "    # Set the authentication credentials\n",
    "    auth = (username, password)\n",
    "\n",
    "    # Send GET request using requests library\n",
    "    response = requests.post(url, json=request_body, auth=auth)\n",
    "    \n",
    "    end = time.time()\n",
    "    print(end-start)\n",
    "\n",
    "    if response.ok:\n",
    "        return response.json()\n",
    "    else:\n",
    "        return 'Error: '+ response.status_code"
   ]
  },
  {
   "cell_type": "code",
   "execution_count": 78,
   "id": "07dec600",
   "metadata": {},
   "outputs": [],
   "source": [
    "def get_top_pos_tweets(username, password, electorate, top_k = 5):\n",
    "\n",
    "    electorate = electorate.lower()\n",
    "    electorate = electorate[0].upper() + electorate[1:]\n",
    "\n",
    "    url = f\"http://172.26.133.251:5984/tweet_database__electorate/_partition/{electorate}/_find\"\n",
    "    \n",
    "    request_body = {\n",
    "            \"selector\": {\n",
    "            },\n",
    "        \"sort\": [\n",
    "            {\n",
    "                \"pos_score\": \"desc\"\n",
    "            }\n",
    "        ],\n",
    "        \"limit\": top_k\n",
    "    }\n",
    "\n",
    "    returned_json_data = make_post_request(username, password, url, request_body)\n",
    "\n",
    "    return returned_json_data"
   ]
  },
  {
   "cell_type": "code",
   "execution_count": 79,
   "id": "12ba6aed",
   "metadata": {},
   "outputs": [
    {
     "name": "stdout",
     "output_type": "stream",
     "text": [
      "0.03566694259643555\n"
     ]
    }
   ],
   "source": [
    "top_5_pos_tweets = get_top_pos_tweets(username, password, 'Hawke')"
   ]
  },
  {
   "cell_type": "code",
   "execution_count": 11,
   "id": "49e46226",
   "metadata": {},
   "outputs": [],
   "source": [
    "## TOP 5 POS TWEETS OF AN ELECTORATE\n",
    "\n",
    "if type(top_5_pos_tweets) is dict:\n",
    "    cleaned_tweet_list = []\n",
    "    for i in range(len(top_5_pos_tweets['docs'])):\n",
    "        cleaned_tweet = {}\n",
    "        cleaned_tweet['author'] = top_5_pos_tweets['docs'][i]['author_id']\n",
    "        cleaned_tweet['tweet_id'] = top_5_pos_tweets['docs'][i]['_id'].split(':')[1]\n",
    "        cleaned_tweet['date'] = top_5_pos_tweets['docs'][i]['date']\n",
    "        cleaned_tweet['text'] = top_5_pos_tweets['docs'][i]['text']\n",
    "        cleaned_tweet['pos_score'] = top_5_pos_tweets['docs'][i]['pos_score']\n",
    "        cleaned_tweet['compound_score'] = top_5_pos_tweets['docs'][i]['compound_score']\n",
    "\n",
    "        cleaned_tweet_list.append(cleaned_tweet)\n",
    "\n",
    "    display(cleaned_tweet_list)\n",
    "\n",
    "else:\n",
    "    print(top_5_pos_tweets)"
   ]
  },
  {
   "attachments": {},
   "cell_type": "markdown",
   "id": "a26bfd57",
   "metadata": {},
   "source": [
    "## RETURN TOP 5 NEGATIVE QUERY FOR A CERTAIN ELECTORATE (WHOLE TIME PERIOD)"
   ]
  },
  {
   "cell_type": "code",
   "execution_count": 82,
   "id": "e8c06f49",
   "metadata": {},
   "outputs": [],
   "source": [
    "def get_top_neg_tweets(username, password, electorate, top_k = 5):\n",
    "\n",
    "    electorate = electorate.lower()\n",
    "    electorate = electorate[0].upper() + electorate[1:]\n",
    "\n",
    "    url = f\"http://172.26.133.251:5984/tweet_database__electorate/_partition/{electorate}/_find\"\n",
    "    \n",
    "    request_body = {\n",
    "            \"selector\": {\n",
    "            },\n",
    "        \"sort\": [\n",
    "            {\n",
    "                \"neg_score\": \"desc\"\n",
    "            }\n",
    "        ],\n",
    "        \"limit\": top_k\n",
    "    }\n",
    "\n",
    "    returned_json_data = make_post_request(username, password, url, request_body)\n",
    "\n",
    "    return returned_json_data"
   ]
  },
  {
   "cell_type": "code",
   "execution_count": 83,
   "id": "2df275e1",
   "metadata": {},
   "outputs": [
    {
     "name": "stdout",
     "output_type": "stream",
     "text": [
      "0.11432409286499023\n"
     ]
    }
   ],
   "source": [
    "top_5_neg_tweets = get_top_neg_tweets(username, password, 'Hawke')"
   ]
  },
  {
   "cell_type": "code",
   "execution_count": 10,
   "id": "227eb3b9",
   "metadata": {},
   "outputs": [],
   "source": [
    "## TOP 5 POS TWEETS OF AN ELECTORATE\n",
    "if type(top_5_neg_tweets) is dict:\n",
    "    cleaned_tweet_list = []\n",
    "    for i in range(len(top_5_neg_tweets['docs'])):\n",
    "        cleaned_tweet = {}\n",
    "        cleaned_tweet['author'] = top_5_neg_tweets['docs'][i]['author_id']\n",
    "        cleaned_tweet['tweet_id'] = top_5_neg_tweets['docs'][i]['_id'].split(':')[1]\n",
    "        cleaned_tweet['date'] = top_5_neg_tweets['docs'][i]['date']\n",
    "        cleaned_tweet['text'] = top_5_neg_tweets['docs'][i]['text']\n",
    "        cleaned_tweet['neg_score'] = top_5_neg_tweets['docs'][i]['neg_score']\n",
    "        cleaned_tweet['compound_score'] = top_5_neg_tweets['docs'][i]['compound_score']\n",
    "\n",
    "        cleaned_tweet_list.append(cleaned_tweet)\n",
    "\n",
    "    display(cleaned_tweet_list)\n",
    "\n",
    "else:\n",
    "    print(top_5_neg_tweets)"
   ]
  },
  {
   "attachments": {},
   "cell_type": "markdown",
   "id": "b3da496f",
   "metadata": {},
   "source": [
    "***\n",
    "***\n",
    "***"
   ]
  },
  {
   "attachments": {},
   "cell_type": "markdown",
   "id": "d3ef23cf",
   "metadata": {},
   "source": [
    "# PLS IGNORE: TESTING WHETHER QUERY ON NON PARTITION DATABASE CAN WORK"
   ]
  },
  {
   "cell_type": "code",
   "execution_count": 70,
   "id": "c3314eee",
   "metadata": {},
   "outputs": [],
   "source": [
    "\n",
    "\n",
    "# def get_top_pos_tweets(username, password, electorate, top_k = 5):\n",
    "\n",
    "#     electorate = electorate.lower()\n",
    "#     electorate = electorate[0].upper() + electorate[1:]\n",
    "\n",
    "#     url = f\"http://172.26.133.251:5984/tweet_database/_find\"\n",
    "    \n",
    "#     request_body = {\n",
    "#             \"selector\": {\n",
    "#                 \"is_political\": {\n",
    "#                     \"$eq\": 1\n",
    "#                 }\n",
    "#             },\n",
    "#         \"sort\": [\n",
    "#             {\n",
    "#                 \"pos_score\": \"desc\"\n",
    "#             }\n",
    "#         ],\n",
    "#         \"limit\": top_k\n",
    "#     }\n",
    "\n",
    "#     returned_json_data = make_post_request(username, password, url, request_body)\n",
    "\n",
    "#     return returned_json_data"
   ]
  },
  {
   "cell_type": "code",
   "execution_count": 9,
   "id": "c3daf2e2",
   "metadata": {},
   "outputs": [],
   "source": [
    "# get_top_pos_tweets(username, password, 'Darwin', 5)"
   ]
  },
  {
   "cell_type": "code",
   "execution_count": null,
   "id": "b1b3806c",
   "metadata": {},
   "outputs": [],
   "source": []
  }
 ],
 "metadata": {
  "kernelspec": {
   "display_name": "Python 3 (ipykernel)",
   "language": "python",
   "name": "python3"
  },
  "language_info": {
   "codemirror_mode": {
    "name": "ipython",
    "version": 3
   },
   "file_extension": ".py",
   "mimetype": "text/x-python",
   "name": "python",
   "nbconvert_exporter": "python",
   "pygments_lexer": "ipython3",
   "version": "3.9.7"
  }
 },
 "nbformat": 4,
 "nbformat_minor": 5
}
