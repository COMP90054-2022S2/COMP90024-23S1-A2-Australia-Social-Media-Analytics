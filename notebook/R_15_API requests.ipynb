{
 "cells": [
  {
   "attachments": {},
   "cell_type": "markdown",
   "id": "326c29b8",
   "metadata": {},
   "source": [
    "# R_15 Create API functions to CDB and Backend Functions"
   ]
  },
  {
   "cell_type": "code",
   "execution_count": 9,
   "id": "cda44e82-e4bf-4cba-b230-c1c8faf51ef4",
   "metadata": {},
   "outputs": [],
   "source": [
    "import requests\n",
    "import time\n",
    "\n",
    "username = 'group9_admin'\n",
    "password = 'group9_H1'"
   ]
  },
  {
   "cell_type": "code",
   "execution_count": 10,
   "id": "0e1894f1-a7ef-4b85-b29f-d4746652226d",
   "metadata": {},
   "outputs": [],
   "source": [
    "def make_get_request(username, password, url, params = {}):\n",
    "    \"\"\" Helper to make the GET request using the \n",
    "            username - str\n",
    "            password - str\n",
    "            url - str (e.g. http://172.26.133.251:5984/tweet_database/_design/date/_view/date_electorate__nsentiment)\n",
    "            params - dict (e.g. {'group': 'True'})\"\"\"\n",
    "    \n",
    "    start = time.time()\n",
    "\n",
    "    # Set the authentication credentials\n",
    "    auth = (username, password)\n",
    "\n",
    "    # Send GET request using requests library\n",
    "    response = requests.get(url, params=params, auth=auth)\n",
    "    \n",
    "    end = time.time()\n",
    "    print(end-start)\n",
    "\n",
    "    if response.ok:\n",
    "        return response.json()\n",
    "    else:\n",
    "        return 'Error: '+ response.status_code"
   ]
  },
  {
   "attachments": {},
   "cell_type": "markdown",
   "id": "6fc3a7e1",
   "metadata": {},
   "source": [
    "***"
   ]
  },
  {
   "attachments": {},
   "cell_type": "markdown",
   "id": "27fdaf55",
   "metadata": {},
   "source": [
    "## BY DATE, BY ELECTORATE => [NUMBER OF POS TWEETS, NUMBER OF NEU TWEETS, NUMBER OF NEG TWEETS]\n",
    "\n",
    "- MAP CLICK ELECTORATE: PIE CHART\n",
    "    - pre election\n",
    "    - post election"
   ]
  },
  {
   "cell_type": "code",
   "execution_count": 11,
   "id": "48979929-32c3-4991-a45f-734e65e0f22f",
   "metadata": {},
   "outputs": [],
   "source": [
    "def GET_date_electorate__n_sentiment(startdate, enddate, username, password):\n",
    "    url = 'http://172.26.133.251:5984/tweet_database/_design/date/_view/date_electorate__nsentiment'\n",
    "\n",
    "    # Set the parameters for the GET request\n",
    "    params = {\n",
    "        'group': 'True',\n",
    "        'startkey': f'[\"{startdate}\"]',\n",
    "        'endkey': f'[\"{enddate}\"]'\n",
    "    }\n",
    "\n",
    "    returned_data_json = make_get_request(username, password, url, params)\n",
    "    \n",
    "    return returned_data_json"
   ]
  },
  {
   "cell_type": "code",
   "execution_count": 12,
   "id": "55647e44-0deb-4014-85be-22d239ac174a",
   "metadata": {},
   "outputs": [
    {
     "name": "stdout",
     "output_type": "stream",
     "text": [
      "3.028303861618042\n"
     ]
    }
   ],
   "source": [
    "date_electorate__n_sentiment = GET_date_electorate__n_sentiment('2022-02-09', '2022-05-22', username, password) # Pre election\n",
    "GET_date_electorate__n_sentiment('2022-05-21', '2023-06-30', username, password) # post election"
   ]
  },
  {
   "attachments": {},
   "cell_type": "markdown",
   "id": "c8d13299",
   "metadata": {},
   "source": []
  },
  {
   "cell_type": "code",
   "execution_count": 13,
   "id": "f56b6f81",
   "metadata": {},
   "outputs": [
    {
     "data": {
      "text/plain": [
       "{'Adelaide': [29, 766, 1],\n",
       " 'Aston': [1, 175, 0],\n",
       " 'Ballarat': [812, 15175, 43],\n",
       " 'Barker': [121, 2448, 6],\n",
       " 'Barton': [3, 107, 0],\n",
       " 'Bass': [300, 5119, 5],\n",
       " 'Bean': [109, 4348, 4],\n",
       " 'Bendigo': [648, 7466, 8],\n",
       " 'Berowra': [7, 170, 0],\n",
       " 'Blair': [6, 273, 0],\n",
       " 'Blaxland': [13, 490, 1],\n",
       " 'Bonner': [8, 127, 0],\n",
       " 'Boothby': [4583, 60703, 78],\n",
       " 'Bowman': [10, 594, 0],\n",
       " 'Braddon': [173, 2482, 2],\n",
       " 'Brisbane': [26, 711, 0],\n",
       " 'Bruce': [4, 66, 0],\n",
       " 'Burt': [5005, 85238, 99],\n",
       " 'Calare': [1626, 19992, 29],\n",
       " 'Canberra': [1855, 26542, 28],\n",
       " 'Canning': [6, 240, 0],\n",
       " 'Capricornia': [215, 2531, 4],\n",
       " 'Casey': [33, 744, 2],\n",
       " 'Chifley': [0, 51, 0],\n",
       " 'Clark': [21, 250, 0],\n",
       " 'Cook': [1, 115, 0],\n",
       " 'Cooper': [13, 253, 0],\n",
       " 'Corangamite': [245, 3810, 1],\n",
       " 'Corio': [81, 2045, 2],\n",
       " 'Cowper': [260, 4823, 6],\n",
       " 'Cunningham': [861, 10387, 16],\n",
       " 'Curtin': [12, 440, 1],\n",
       " 'Dawson': [179, 3615, 13],\n",
       " 'Deakin': [2, 69, 0],\n",
       " 'Dickson': [12, 252, 0],\n",
       " 'Dobell': [1289, 15724, 12],\n",
       " 'Durack': [191, 3729, 4],\n",
       " 'Eden-Monaro': [181, 4067, 4],\n",
       " 'Fadden': [3304, 40944, 77],\n",
       " 'Fairfax': [869, 14278, 39],\n",
       " 'Farrer': [161, 2567, 2],\n",
       " 'Fisher': [19, 500, 0],\n",
       " 'Flinders': [17, 413, 0],\n",
       " 'Flynn': [161, 2266, 2],\n",
       " 'Forde': [23, 1676, 0],\n",
       " 'Forrest': [325, 2624, 7],\n",
       " 'Franklin': [881, 15158, 22],\n",
       " 'Gellibrand': [4, 136, 0],\n",
       " 'Gilmore': [286, 5148, 8],\n",
       " 'Gippsland': [271, 3333, 5],\n",
       " 'Goldstein': [20455, 291905, 377],\n",
       " 'Grayndler': [9, 382, 0],\n",
       " 'Grey': [665, 14370, 21],\n",
       " 'Griffith': [13, 429, 1],\n",
       " 'Groom': [121, 1954, 1],\n",
       " 'Hasluck': [49, 530, 0],\n",
       " 'Hawke': [255, 3455, 7],\n",
       " 'Herbert': [432, 7254, 10],\n",
       " 'Hindmarsh': [9, 118, 0],\n",
       " 'Hinkler': [497, 4526, 5],\n",
       " 'Holt': [4, 140, 0],\n",
       " 'Hume': [51, 762, 0],\n",
       " 'Hunter': [106, 2191, 2],\n",
       " 'Indi': [189, 3575, 3],\n",
       " 'Isaacs': [3, 154, 0],\n",
       " 'Jagajaga': [3, 83, 0],\n",
       " 'Kennedy': [850, 11991, 22],\n",
       " 'Kingsford Smith': [16, 507, 0],\n",
       " 'Kingston': [1, 66, 0],\n",
       " 'Kooyong': [7, 180, 0],\n",
       " 'La Trobe': [104, 1552, 5],\n",
       " 'Lalor': [3, 149, 0],\n",
       " 'Leichhardt': [377, 7512, 5],\n",
       " 'Lilley': [8054, 119300, 175],\n",
       " 'Lindsay': [3, 178, 0],\n",
       " 'Lingiari': [1004, 17013, 10],\n",
       " 'Longman': [48, 1016, 1],\n",
       " 'Lyne': [94, 1970, 6],\n",
       " 'Lyons': [925, 8946, 9],\n",
       " 'Macarthur': [3, 131, 0],\n",
       " 'Mackellar': [14, 361, 1],\n",
       " 'Macnamara': [40, 1194, 0],\n",
       " 'Macquarie': [185, 3187, 3],\n",
       " 'Makin': [1, 118, 0],\n",
       " 'Mallee': [191, 3122, 2],\n",
       " 'Maranoa': [85, 1211, 0],\n",
       " 'Mayo': [297, 6577, 0],\n",
       " 'McEwen': [86, 1104, 0],\n",
       " 'McMahon': [22266, 272513, 341],\n",
       " 'McPherson': [6, 167, 0],\n",
       " 'Melbourne': [75, 2097, 0],\n",
       " 'Monash': [230, 2820, 4],\n",
       " 'Moncrieff': [26, 314, 1],\n",
       " 'Moore': [1, 85, 0],\n",
       " 'Moreton': [2, 125, 0],\n",
       " 'New England': [285, 3209, 1],\n",
       " 'Newcastle': [12, 208, 0],\n",
       " 'Nicholls': [1914, 29622, 44],\n",
       " 'North Sydney': [27, 613, 1],\n",
       " \"O'Connor\": [1013, 12783, 22],\n",
       " 'Page': [87, 2939, 0],\n",
       " 'Parkes': [489, 7537, 16],\n",
       " 'Parramatta': [3, 234, 0],\n",
       " 'Paterson': [319, 4958, 6],\n",
       " 'Pearce': [2, 110, 0],\n",
       " 'Rankin': [1, 23, 0],\n",
       " 'Reid': [6, 289, 0],\n",
       " 'Richmond': [251, 4017, 4],\n",
       " 'Riverina': [246, 2407, 9],\n",
       " 'Robertson': [11, 322, 1],\n",
       " 'Ryan': [10, 238, 0],\n",
       " 'Scullin': [5, 112, 0],\n",
       " 'Shortland': [713, 12066, 14],\n",
       " 'Solomon': [1, 72, 0],\n",
       " 'Spence': [57, 1544, 2],\n",
       " 'Sturt': [6, 174, 0],\n",
       " 'Swan': [8, 273, 0],\n",
       " 'Sydney': [80, 2057, 0],\n",
       " 'Wannon': [321, 7125, 7],\n",
       " 'Warringah': [9, 350, 1],\n",
       " 'Watson': [16, 798, 0],\n",
       " 'Wentworth': [25, 440, 0],\n",
       " 'Whitlam': [157, 1371, 1],\n",
       " 'Wide Bay': [341, 2920, 7],\n",
       " 'Wright': [184, 2205, 2],\n",
       " 'Bennelong': [4, 167, 0],\n",
       " 'Bradfield': [5, 135, 0],\n",
       " 'Brand': [14, 176, 0],\n",
       " 'Fenner': [4, 127, 0],\n",
       " 'Fowler': [4, 112, 0],\n",
       " 'Fraser': [14, 363, 1],\n",
       " 'Fremantle': [22, 261, 0],\n",
       " 'Higgins': [15, 638, 0],\n",
       " 'Hotham': [4, 83, 0],\n",
       " 'Hughes': [12, 246, 0],\n",
       " 'Oxley': [0, 103, 0],\n",
       " 'Perth': [10, 429, 0],\n",
       " 'Tangney': [1, 57, 0],\n",
       " 'Calwell': [0, 131, 0],\n",
       " 'Chisholm': [7, 177, 0],\n",
       " 'Cowan': [1, 44, 0],\n",
       " 'Menzies': [3, 129, 0],\n",
       " 'Wills': [10, 208, 0],\n",
       " 'Gorton': [3, 69, 0],\n",
       " 'Maribyrnong': [15, 481, 0],\n",
       " 'Mitchell': [4, 60, 0],\n",
       " 'Banks': [3, 29, 0],\n",
       " 'Greenway': [2, 74, 0],\n",
       " 'Petrie': [4, 77, 0],\n",
       " 'Werriwa': [1, 36, 0],\n",
       " 'Dunkley': [5, 80, 0]}"
      ]
     },
     "execution_count": 13,
     "metadata": {},
     "output_type": "execute_result"
    }
   ],
   "source": [
    "## Sentiment count of tweets in this time period in this electorate for bar chart purposes\n",
    "\n",
    "electorate_n_sent = {}\n",
    "\n",
    "for i in range(len(date_electorate__n_sentiment['rows'])):\n",
    "    \n",
    "    electorate = date_electorate__n_sentiment['rows'][i]['key'][1]\n",
    "    if electorate not in electorate_n_sent:\n",
    "        electorate_n_sent[electorate] = [0, 0, 0]\n",
    "    \n",
    "    for j in range(3):\n",
    "        electorate_n_sent[electorate][j] += date_electorate__n_sentiment['rows'][i]['value'][j]['sum']\n",
    "\n",
    "electorate_n_sent"
   ]
  },
  {
   "cell_type": "code",
   "execution_count": 14,
   "id": "418c1aa6",
   "metadata": {},
   "outputs": [],
   "source": [
    "# output format: [pos_tweet_count, neu_tweet_count, neg_tweet_count]"
   ]
  },
  {
   "cell_type": "code",
   "execution_count": 6,
   "id": "60027f9c",
   "metadata": {},
   "outputs": [
    {
     "data": {
      "text/plain": [
       "[29, 766, 1]"
      ]
     },
     "execution_count": 6,
     "metadata": {},
     "output_type": "execute_result"
    }
   ],
   "source": [
    "# use this method to look for data\n",
    "electorate_n_sent.get('Adelaide', [0, 0, 0])"
   ]
  },
  {
   "attachments": {},
   "cell_type": "markdown",
   "id": "b11c7ce1",
   "metadata": {},
   "source": [
    "***"
   ]
  },
  {
   "attachments": {},
   "cell_type": "markdown",
   "id": "b0ce36d2",
   "metadata": {},
   "source": [
    "## BY DATE, BY ELECTORATE => [NUMBER OF POS TWEETS, NUMBER OF NEU TWEETS, NUMBER OF NEG TWEETS]\n",
    "### POLITICAL\n",
    "\n",
    "- MAP CLICK ELECTORATE: PIE CHART\n",
    "    - pre election\n",
    "    - post election"
   ]
  },
  {
   "cell_type": "code",
   "execution_count": 15,
   "id": "572eb63a-abd5-44eb-a9b4-dd979e51bde7",
   "metadata": {},
   "outputs": [],
   "source": [
    "def GET_date_electorate__n_sentiment__pol(startdate, enddate, username, password):\n",
    "    url = 'http://172.26.133.251:5984/tweet_database/_design/date/_view/date_electorate__nsentiment__pol'\n",
    "\n",
    "    # Set the parameters for the GET request\n",
    "    params = {\n",
    "        'group': 'True',\n",
    "        'startkey': f'[\"{startdate}\"]',\n",
    "        'endkey': f'[\"{enddate}\"]'\n",
    "    }\n",
    "\n",
    "    returned_data_json = make_get_request(username, password, url, params)\n",
    "    \n",
    "    return returned_data_json"
   ]
  },
  {
   "cell_type": "code",
   "execution_count": 16,
   "id": "f9357a6e-1fbe-4566-80f6-7feaeefbaaa6",
   "metadata": {},
   "outputs": [
    {
     "name": "stdout",
     "output_type": "stream",
     "text": [
      "0.7326390743255615\n"
     ]
    }
   ],
   "source": [
    "date_electorate_n_sentiment__pol = GET_date_electorate__n_sentiment__pol('2022-02-09', '2022-05-22', username, password) # pre election\n",
    "GET_date_electorate__n_sentiment__pol('2022-05-21', '2023-06-30', username, password) # post election"
   ]
  },
  {
   "attachments": {},
   "cell_type": "markdown",
   "id": "975ca570",
   "metadata": {},
   "source": []
  },
  {
   "cell_type": "code",
   "execution_count": 17,
   "id": "c4aa2732",
   "metadata": {},
   "outputs": [
    {
     "data": {
      "text/plain": [
       "{'Ballarat': [19, 1023, 0],\n",
       " 'Barker': [3, 310, 1],\n",
       " 'Barton': [0, 8, 0],\n",
       " 'Bass': [16, 790, 0],\n",
       " 'Bendigo': [14, 589, 2],\n",
       " 'Blaxland': [1, 41, 0],\n",
       " 'Bonner': [0, 6, 0],\n",
       " 'Boothby': [103, 7271, 2],\n",
       " 'Bowman': [2, 87, 0],\n",
       " 'Braddon': [4, 198, 0],\n",
       " 'Burt': [138, 11357, 4],\n",
       " 'Calare': [32, 3281, 0],\n",
       " 'Canberra': [56, 4062, 1],\n",
       " 'Capricornia': [6, 263, 0],\n",
       " 'Casey': [0, 125, 0],\n",
       " 'Corangamite': [6, 469, 0],\n",
       " 'Cowper': [4, 662, 0],\n",
       " 'Cunningham': [29, 1644, 0],\n",
       " 'Dawson': [9, 445, 0],\n",
       " 'Deakin': [0, 12, 0],\n",
       " 'Dickson': [0, 24, 0],\n",
       " 'Dobell': [25, 1667, 0],\n",
       " 'Durack': [3, 547, 0],\n",
       " 'Eden-Monaro': [5, 548, 0],\n",
       " 'Fadden': [131, 5198, 2],\n",
       " 'Fairfax': [28, 2194, 2],\n",
       " 'Farrer': [3, 299, 0],\n",
       " 'Fisher': [1, 109, 0],\n",
       " 'Flynn': [4, 317, 0],\n",
       " 'Forde': [1, 79, 0],\n",
       " 'Forrest': [2, 232, 0],\n",
       " 'Franklin': [26, 2178, 1],\n",
       " 'Gellibrand': [0, 21, 0],\n",
       " 'Gilmore': [4, 877, 2],\n",
       " 'Goldstein': [524, 39318, 7],\n",
       " 'Grey': [23, 1842, 0],\n",
       " 'Griffith': [1, 52, 0],\n",
       " 'Groom': [4, 323, 0],\n",
       " 'Hawke': [11, 414, 0],\n",
       " 'Herbert': [7, 831, 0],\n",
       " 'Hinkler': [9, 437, 0],\n",
       " 'Hume': [5, 116, 0],\n",
       " 'Hunter': [2, 237, 0],\n",
       " 'Indi': [6, 510, 0],\n",
       " 'Jagajaga': [0, 36, 0],\n",
       " 'Kennedy': [31, 1799, 1],\n",
       " 'Kooyong': [0, 26, 0],\n",
       " 'Lalor': [0, 21, 0],\n",
       " 'Leichhardt': [8, 966, 0],\n",
       " 'Lilley': [260, 18682, 4],\n",
       " 'Lingiari': [18, 2022, 0],\n",
       " 'Longman': [1, 150, 0],\n",
       " 'Lyne': [3, 272, 0],\n",
       " 'Lyons': [20, 1290, 0],\n",
       " 'Mackellar': [0, 39, 0],\n",
       " 'Macnamara': [1, 165, 0],\n",
       " 'Macquarie': [3, 514, 0],\n",
       " 'Mallee': [5, 360, 0],\n",
       " 'Mayo': [10, 785, 0],\n",
       " 'McMahon': [599, 35047, 15],\n",
       " 'Melbourne': [3, 206, 0],\n",
       " 'Monash': [3, 310, 0],\n",
       " 'Moncrieff': [0, 26, 1],\n",
       " 'New England': [8, 384, 0],\n",
       " 'Nicholls': [51, 4698, 1],\n",
       " 'North Sydney': [1, 94, 0],\n",
       " \"O'Connor\": [19, 1834, 0],\n",
       " 'Page': [0, 401, 0],\n",
       " 'Parkes': [14, 772, 0],\n",
       " 'Paterson': [6, 648, 0],\n",
       " 'Richmond': [5, 448, 0],\n",
       " 'Riverina': [3, 288, 0],\n",
       " 'Ryan': [0, 24, 0],\n",
       " 'Shortland': [18, 1534, 1],\n",
       " 'Sydney': [2, 345, 0],\n",
       " 'Wannon': [13, 1270, 0],\n",
       " 'Watson': [0, 94, 0],\n",
       " 'Whitlam': [0, 137, 0],\n",
       " 'Wide Bay': [9, 331, 0],\n",
       " 'Wright': [4, 268, 0],\n",
       " 'Bean': [0, 77, 0],\n",
       " 'Brisbane': [0, 77, 0],\n",
       " 'Clark': [0, 37, 0],\n",
       " 'Cooper': [3, 43, 0],\n",
       " 'Corio': [4, 199, 0],\n",
       " 'Curtin': [1, 17, 0],\n",
       " 'Fraser': [1, 67, 0],\n",
       " 'Fremantle': [0, 18, 0],\n",
       " 'Gippsland': [5, 388, 1],\n",
       " 'Hasluck': [0, 51, 0],\n",
       " 'Macarthur': [0, 14, 0],\n",
       " 'Maranoa': [5, 143, 0],\n",
       " 'Parramatta': [0, 31, 0],\n",
       " 'Scullin': [0, 15, 0],\n",
       " 'Spence': [1, 134, 0],\n",
       " 'Sturt': [0, 15, 0],\n",
       " 'Adelaide': [2, 101, 0],\n",
       " 'Blair': [0, 76, 0],\n",
       " 'Chisholm': [2, 29, 0],\n",
       " 'Flinders': [0, 67, 0],\n",
       " 'Hindmarsh': [0, 12, 0],\n",
       " 'La Trobe': [1, 144, 0],\n",
       " 'Makin': [0, 20, 0],\n",
       " 'McPherson': [0, 14, 0],\n",
       " 'Moreton': [0, 64, 0],\n",
       " 'Pearce': [0, 16, 0],\n",
       " 'Reid': [0, 49, 0],\n",
       " 'Swan': [0, 27, 0],\n",
       " 'Wentworth': [0, 47, 0],\n",
       " 'Bradfield': [0, 20, 0],\n",
       " 'Higgins': [0, 102, 0],\n",
       " 'McEwen': [4, 228, 0],\n",
       " 'Fenner': [1, 21, 0],\n",
       " 'Lindsay': [0, 22, 0],\n",
       " 'Perth': [0, 47, 0],\n",
       " 'Solomon': [0, 10, 0],\n",
       " 'Wills': [2, 28, 0],\n",
       " 'Berowra': [0, 24, 0],\n",
       " 'Kingsford Smith': [1, 57, 0],\n",
       " 'Warringah': [1, 39, 0],\n",
       " 'Aston': [0, 27, 0],\n",
       " 'Hughes': [0, 44, 0],\n",
       " 'Isaacs': [0, 30, 0],\n",
       " 'Maribyrnong': [0, 73, 0],\n",
       " 'Robertson': [1, 23, 0],\n",
       " 'Bennelong': [0, 29, 0],\n",
       " 'Moore': [1, 5, 0],\n",
       " 'Canning': [1, 20, 0],\n",
       " 'Newcastle': [1, 22, 0],\n",
       " 'Oxley': [0, 9, 0],\n",
       " 'Grayndler': [0, 68, 0],\n",
       " 'Bruce': [0, 3, 0],\n",
       " 'Fowler': [0, 18, 0],\n",
       " 'Banks': [0, 5, 0],\n",
       " 'Kingston': [0, 9, 0],\n",
       " 'Calwell': [0, 6, 0],\n",
       " 'Menzies': [0, 11, 0],\n",
       " 'Petrie': [0, 14, 0],\n",
       " 'Dunkley': [0, 11, 0],\n",
       " 'Mitchell': [0, 6, 0],\n",
       " 'Brand': [1, 24, 0],\n",
       " 'Hotham': [0, 12, 0],\n",
       " 'Chifley': [0, 4, 0],\n",
       " 'Tangney': [0, 6, 0],\n",
       " 'Werriwa': [0, 3, 0],\n",
       " 'Holt': [0, 15, 0],\n",
       " 'Gorton': [0, 3, 0],\n",
       " 'Greenway': [0, 8, 0],\n",
       " 'Rankin': [0, 3, 0],\n",
       " 'Cook': [0, 2, 0],\n",
       " 'Cowan': [0, 1, 0]}"
      ]
     },
     "execution_count": 17,
     "metadata": {},
     "output_type": "execute_result"
    }
   ],
   "source": [
    "## Sentiment count of tweets in this time period in this electorate for bar chart purposes\n",
    "\n",
    "electorate_n_sent = {}\n",
    "\n",
    "for i in range(len(date_electorate_n_sentiment__pol['rows'])):\n",
    "    \n",
    "    electorate = date_electorate_n_sentiment__pol['rows'][i]['key'][1]\n",
    "    if electorate not in electorate_n_sent:\n",
    "        electorate_n_sent[electorate] = [0, 0, 0]\n",
    "    \n",
    "    for j in range(3):\n",
    "        electorate_n_sent[electorate][j] += date_electorate_n_sentiment__pol['rows'][i]['value'][j]['sum']\n",
    "\n",
    "electorate_n_sent"
   ]
  },
  {
   "attachments": {},
   "cell_type": "markdown",
   "id": "73ff6c90",
   "metadata": {},
   "source": [
    "***"
   ]
  },
  {
   "attachments": {},
   "cell_type": "markdown",
   "id": "154baa2b",
   "metadata": {},
   "source": [
    "## BY DATE, BY ELECTORATE => AVERAGE SENTIMENT\n",
    "\n",
    "- MAP: NUMBER OF TWEETS FOR ALL ELECTORATE FOR THIS PERIOD; SENTIMENT FOR ALL ELECTORATE FOR THIS PERIOD; MAP CLICK INTO ELECTORATE: SENTIMENT FOR THIS ELECTORATE FOR THIS PERIOD; MAP CLICK INTO ELECTORATE: NUMBER OF TWEETS FOR THIS ELECTORATE FOR THIS PERIOD \n",
    "    - pre election\n",
    "    - post election\n",
    "- MAP CLICK INTO ELECTORATE: SENTIMENT FOR ONE PARTCULAR ELECTORATE GROUPED BY DAY\n",
    "    - pre election\n",
    "    - post election\n",
    "- DASHBOARD: DISTRIBUTION PAGE: WHOLE AUSTRALIA LINE GRAPH BY MONTH\n",
    "    -pre election\n",
    "    -post election\n",
    "- DASHBOARD: DISTRIBUTION PAGE: WHOLE AUSTRALIA LINE GRAPH BY DAY\n",
    "    -pre election\n",
    "    -post election\n",
    "- DASHBOARD: DISTRIBUTION PAGE: SCATTER PLOT OF Y = SENTIMENT X = CHANGED GOVERNING PARTY IN 2022 ELECTION\n",
    "    - 1 month pre election\n",
    "    - 2 month pre election\n",
    "    - 3 month pre election\n",
    "    - 1 month post election\n",
    "    - 2 month post election\n",
    "    - 3 month post election\n",
    "- DASHBOARD: RANKING PAGE: RANK ELECTORATE BY SENTIMENT\n",
    "    - 1 month pre election\n",
    "    - 2 month pre election\n",
    "    - 3 month pre election\n",
    "    - 1 month post election\n",
    "    - 2 month post election\n",
    "    - 3 month post election\n",
    "- DASHBOARD: RANKING PAGE: RANK ELECTORATE BY NUMBER OF TWEETS\n",
    "    - 1 month pre election\n",
    "    - 2 month pre election\n",
    "    - 3 month pre election\n",
    "    - 1 month post election\n",
    "    - 2 month post election\n",
    "    - 3 month post election"
   ]
  },
  {
   "cell_type": "code",
   "execution_count": 18,
   "id": "f8880ee9-d6f0-47c8-b4d2-fd0b73892845",
   "metadata": {},
   "outputs": [],
   "source": [
    "def GET_date_electorate__avgsent(startdate, enddate, username, password):\n",
    "    url = 'http://172.26.133.251:5984/tweet_database/_design/date/_view/date_electorate__avgsent'\n",
    "\n",
    "    # Set the parameters for the GET request\n",
    "    params = {\n",
    "        'group': 'True',\n",
    "        'startkey': f'[\"{startdate}\"]',\n",
    "        'endkey': f'[\"{enddate}\"]'\n",
    "    }\n",
    "\n",
    "    returned_data_json = make_get_request(username, password, url, params)\n",
    "    \n",
    "    return returned_data_json"
   ]
  },
  {
   "cell_type": "code",
   "execution_count": 19,
   "id": "b1f92ad6-3b48-46e2-9208-e3153cc243c5",
   "metadata": {},
   "outputs": [
    {
     "name": "stdout",
     "output_type": "stream",
     "text": [
      "2.301499128341675\n"
     ]
    }
   ],
   "source": [
    "date_electorate__avgsent = GET_date_electorate__avgsent('2022-02-09', '2022-05-22', username, password) # Pre election\n",
    "\n",
    "\n",
    "GET_date_electorate__avgsent('2022-02-09', '2022-05-22', username, password) # Post election\n",
    "GET_date_electorate__avgsent('2022-05-21', '2022-06-21', username, password) # 1 month post election \n",
    "GET_date_electorate__avgsent('2022-05-21', '2022-07-21', username, password) # 2 month post election\n",
    "GET_date_electorate__avgsent('2022-05-21', '2022-08-21', username, password) # 3 month post election\n",
    "GET_date_electorate__avgsent('2022-02-21', '2022-05-22', username, password) # 1 month post election \n",
    "GET_date_electorate__avgsent('2022-03-21', '2022-05-22', username, password) # 2 month post election\n",
    "GET_date_electorate__avgsent('2022-04-21', '2022-05-22', username, password) # 3 month post election"
   ]
  },
  {
   "attachments": {},
   "cell_type": "markdown",
   "id": "2a454c73",
   "metadata": {},
   "source": []
  },
  {
   "cell_type": "code",
   "execution_count": 43,
   "id": "3fd77306",
   "metadata": {},
   "outputs": [],
   "source": [
    "## sentiment of tweets for each electorate by day - for displaying in line graph once we click onto electorate\n",
    "daily_by_electorate_sentiment = {}\n",
    "\n",
    "for i in range(len(date_electorate__avgsent['rows'])):\n",
    "\n",
    "    electorate = date_electorate__avgsent['rows'][i]['key'][1]\n",
    "    if electorate not in daily_by_electorate_sentiment:\n",
    "        daily_by_electorate_sentiment[electorate] = {}\n",
    "    \n",
    "    date = date_electorate__avgsent['rows'][i]['key'][0]\n",
    "\n",
    "    daily_by_electorate_sentiment[electorate][date] = date_electorate__avgsent['rows'][i]['value']['sum']/date_electorate__avgsent['rows'][i]['value']['count']"
   ]
  },
  {
   "cell_type": "code",
   "execution_count": 44,
   "id": "0613c37d",
   "metadata": {},
   "outputs": [
    {
     "data": {
      "text/plain": [
       "dict_keys(['2022-02-10', '2022-02-11', '2022-02-12', '2022-02-13', '2022-02-14', '2022-02-15', '2022-02-16', '2022-02-17', '2022-02-18', '2022-02-19', '2022-02-20', '2022-02-21', '2022-02-22', '2022-02-23', '2022-02-24', '2022-02-25', '2022-02-26', '2022-02-27', '2022-02-28', '2022-03-01', '2022-03-02', '2022-03-03', '2022-03-04', '2022-03-05', '2022-03-06', '2022-03-07', '2022-03-08', '2022-03-09', '2022-03-10', '2022-03-11', '2022-03-12', '2022-03-13', '2022-03-14', '2022-03-15', '2022-03-16', '2022-03-17', '2022-03-18', '2022-03-19', '2022-03-20', '2022-03-21', '2022-03-22', '2022-03-23', '2022-03-24', '2022-03-25', '2022-03-26', '2022-03-27', '2022-03-28', '2022-03-30', '2022-03-31', '2022-04-01', '2022-04-02', '2022-04-03', '2022-04-04', '2022-04-05', '2022-04-06', '2022-04-07', '2022-04-08', '2022-04-09', '2022-04-10', '2022-04-11', '2022-04-12', '2022-04-13', '2022-04-14', '2022-04-15', '2022-04-16', '2022-04-17', '2022-04-18', '2022-04-19', '2022-04-20', '2022-04-21', '2022-04-22', '2022-04-23', '2022-04-24', '2022-04-25', '2022-04-26', '2022-04-27', '2022-04-28', '2022-04-29', '2022-04-30', '2022-05-01', '2022-05-02', '2022-05-03', '2022-05-04', '2022-05-05', '2022-05-06', '2022-05-07', '2022-05-08', '2022-05-09', '2022-05-10', '2022-05-11', '2022-05-12', '2022-05-13', '2022-05-14', '2022-05-15', '2022-05-16', '2022-05-17', '2022-05-18', '2022-05-19', '2022-05-20', '2022-05-21'])"
      ]
     },
     "execution_count": 44,
     "metadata": {},
     "output_type": "execute_result"
    }
   ],
   "source": [
    "daily_by_electorate_sentiment.get('Adelaide', {}).keys()"
   ]
  },
  {
   "cell_type": "code",
   "execution_count": 45,
   "id": "f405853f",
   "metadata": {},
   "outputs": [
    {
     "data": {
      "text/plain": [
       "dict_values([0.12814, 0.17605714285714286, 0.37673749999999995, 0.58075, 0.30670000000000003, 0.0, 0.38905, 0.270675, 0.1036909090909091, -0.011014285714285723, 0.6996666666666668, 0.3294, 0.32455, 0.29618666666666665, 0.20424000000000003, 0.31253, 0.3904117647058824, 0.33571666666666666, 0.2907, 0.2886666666666667, 0.35819999999999996, 0.601175, 0.3101833333333333, 0.30363571428571434, 0.25732222222222223, 0.1592, 0.3206, -0.0053500000000000075, 0.30169999999999997, 0.18055384615384615, 0.51665, 0.22089999999999999, 0.6369, 0.4465333333333334, 0.3195571428571428, 0.24641666666666664, 0.2255095238095238, 0.38158749999999997, 0.39815555555555554, -0.1445, 0.0, 0.032766666666666666, 0.8029999999999999, 0.3505846153846154, 0.43332857142857145, 0.21028888888888891, 0.0, 0.19923749999999998, 0.13428333333333334, 0.22348181818181817, 0.11664444444444445, 0.13675, 0.5453333333333333, 0.78365, 0.282925, 0.3471230769230769, 0.25465, 0.3160071428571429, 0.0641, 0.7126, 0.5328999999999999, 0.255075, 0.19626, 0.35392500000000005, 0.12727, 0.14178, -0.05876428571428571, 0.5423428571428571, 0.4199125, 0.07256153846153844, 0.12348095238095237, 0.18001250000000002, 0.08897368421052632, 0.2145375, 0.0633, 0.28435, 0.43960000000000005, 0.11179285714285715, 0.264525, 0.57094, 0.3351, 0.059188888888888895, 0.2794666666666667, 0.5724428571428571, 0.47974999999999995, 0.13517857142857143, 0.1416, 0.88, 0.1591, 0.49942000000000003, 0.63049, 0.14806315789473684, 0.32717272727272734, 0.29264545454545454, 0.32192000000000004, 0.26165, 0.30273636363636364, -0.043690909090909086, 0.18946249999999998, 0.16312])"
      ]
     },
     "execution_count": 45,
     "metadata": {},
     "output_type": "execute_result"
    }
   ],
   "source": [
    "daily_by_electorate_sentiment.get('Adelaide', {}).values()"
   ]
  },
  {
   "cell_type": "code",
   "execution_count": 55,
   "id": "4b03eaab",
   "metadata": {},
   "outputs": [],
   "source": [
    "## sentiment of tweets for each electorate by month - for displaying in line graph once we click onto electorate\n",
    "monthly_by_electorate_sentiment = {}\n",
    "\n",
    "for i in range(len(date_electorate__avgsent['rows'])):\n",
    "\n",
    "    electorate = date_electorate__avgsent['rows'][i]['key'][1]\n",
    "    if electorate not in monthly_by_electorate_sentiment:\n",
    "        monthly_by_electorate_sentiment[electorate] = {}\n",
    "    \n",
    "    month = date_electorate__avgsent['rows'][i]['key'][0][5:7]\n",
    "\n",
    "    monthly_by_electorate_sentiment[electorate][month] = date_electorate__avgsent['rows'][i]['value']['sum']/date_electorate__avgsent['rows'][i]['value']['count']"
   ]
  },
  {
   "cell_type": "code",
   "execution_count": 56,
   "id": "57256cda",
   "metadata": {},
   "outputs": [
    {
     "data": {
      "text/plain": [
       "dict_keys(['02', '03', '04', '05'])"
      ]
     },
     "execution_count": 56,
     "metadata": {},
     "output_type": "execute_result"
    }
   ],
   "source": [
    "monthly_by_electorate_sentiment.get('Adelaide', {}).keys()"
   ]
  },
  {
   "cell_type": "code",
   "execution_count": 57,
   "id": "0f46dc10",
   "metadata": {},
   "outputs": [
    {
     "data": {
      "text/plain": [
       "dict_values([0.2907, 0.13428333333333334, 0.264525, 0.16312])"
      ]
     },
     "execution_count": 57,
     "metadata": {},
     "output_type": "execute_result"
    }
   ],
   "source": [
    "monthly_by_electorate_sentiment.get('Adelaide', {}).values()"
   ]
  },
  {
   "attachments": {},
   "cell_type": "markdown",
   "id": "897570ee",
   "metadata": {},
   "source": []
  },
  {
   "cell_type": "code",
   "execution_count": 21,
   "id": "ed530704",
   "metadata": {},
   "outputs": [
    {
     "data": {
      "text/plain": [
       "{'Adelaide': {'avg_sentiment': 0.253896105527638, 'n tweets': 796},\n",
       " 'Aston': {'avg_sentiment': 0.22689545454545454, 'n tweets': 176},\n",
       " 'Ballarat': {'avg_sentiment': 0.0406829444791017, 'n tweets': 16030},\n",
       " 'Barker': {'avg_sentiment': 0.11827203883495148, 'n tweets': 2575},\n",
       " 'Barton': {'avg_sentiment': 0.23526272727272726, 'n tweets': 110},\n",
       " 'Bass': {'avg_sentiment': 0.13673075221238934, 'n tweets': 5424},\n",
       " 'Bean': {'avg_sentiment': 0.17122871553463356, 'n tweets': 4461},\n",
       " 'Bendigo': {'avg_sentiment': 0.17232889682344246, 'n tweets': 8122},\n",
       " 'Berowra': {'avg_sentiment': 0.1788841807909604, 'n tweets': 177},\n",
       " 'Blair': {'avg_sentiment': 0.23245985663082439, 'n tweets': 279},\n",
       " 'Blaxland': {'avg_sentiment': -0.030445833333333325, 'n tweets': 504},\n",
       " 'Bonner': {'avg_sentiment': 0.2549555555555556, 'n tweets': 135},\n",
       " 'Boothby': {'avg_sentiment': 0.16836416375986776, 'n tweets': 65364},\n",
       " 'Bowman': {'avg_sentiment': 0.10673344370860925, 'n tweets': 604},\n",
       " 'Braddon': {'avg_sentiment': 0.09582070003763649, 'n tweets': 2657},\n",
       " 'Brisbane': {'avg_sentiment': 0.26643772048846665, 'n tweets': 737},\n",
       " 'Bruce': {'avg_sentiment': 0.12640000000000004, 'n tweets': 70},\n",
       " 'Burt': {'avg_sentiment': 0.12362033937703397, 'n tweets': 90342},\n",
       " 'Calare': {'avg_sentiment': 0.14751665819744075, 'n tweets': 21647},\n",
       " 'Canberra': {'avg_sentiment': 0.16585156024626213, 'n tweets': 28425},\n",
       " 'Canning': {'avg_sentiment': 0.31852967479674793, 'n tweets': 246},\n",
       " 'Capricornia': {'avg_sentiment': 0.16877185454545449, 'n tweets': 2750},\n",
       " 'Casey': {'avg_sentiment': 0.16582618741976887, 'n tweets': 779},\n",
       " 'Chifley': {'avg_sentiment': 0.06335882352941175, 'n tweets': 51},\n",
       " 'Clark': {'avg_sentiment': 0.23225018450184504, 'n tweets': 271},\n",
       " 'Cook': {'avg_sentiment': 0.23806551724137942, 'n tweets': 116},\n",
       " 'Cooper': {'avg_sentiment': 0.25856879699248125, 'n tweets': 266},\n",
       " 'Corangamite': {'avg_sentiment': 0.1585304733727811, 'n tweets': 4056},\n",
       " 'Corio': {'avg_sentiment': 0.14543745300751879, 'n tweets': 2128},\n",
       " 'Cowper': {'avg_sentiment': 0.11615574769109846, 'n tweets': 5089},\n",
       " 'Cunningham': {'avg_sentiment': 0.18023031782670448, 'n tweets': 11264},\n",
       " 'Curtin': {'avg_sentiment': 0.10649006622516553, 'n tweets': 453},\n",
       " 'Dawson': {'avg_sentiment': 0.12476611505122145, 'n tweets': 3807},\n",
       " 'Deakin': {'avg_sentiment': 0.31938169014084505, 'n tweets': 71},\n",
       " 'Dickson': {'avg_sentiment': 0.11819318181818182, 'n tweets': 264},\n",
       " 'Dobell': {'avg_sentiment': 0.1501472187958884, 'n tweets': 17025},\n",
       " 'Durack': {'avg_sentiment': 0.1320933231396534, 'n tweets': 3924},\n",
       " 'Eden-Monaro': {'avg_sentiment': 0.10420830197554092, 'n tweets': 4252},\n",
       " 'Fadden': {'avg_sentiment': 0.12908903102086858, 'n tweets': 44325},\n",
       " 'Fairfax': {'avg_sentiment': 0.09689484393520352, 'n tweets': 15186},\n",
       " 'Farrer': {'avg_sentiment': 0.13115113553113558, 'n tweets': 2730},\n",
       " 'Fisher': {'avg_sentiment': 0.15074932562620422, 'n tweets': 519},\n",
       " 'Flinders': {'avg_sentiment': 0.14239906976744188, 'n tweets': 430},\n",
       " 'Flynn': {'avg_sentiment': 0.1385758336764101, 'n tweets': 2429},\n",
       " 'Forde': {'avg_sentiment': 0.18285709240729833, 'n tweets': 1699},\n",
       " 'Forrest': {'avg_sentiment': 0.19237973612990522, 'n tweets': 2956},\n",
       " 'Franklin': {'avg_sentiment': 0.14090889110267113, 'n tweets': 16061},\n",
       " 'Gellibrand': {'avg_sentiment': 0.2304192857142857, 'n tweets': 140},\n",
       " 'Gilmore': {'avg_sentiment': 0.09209386255053291, 'n tweets': 5442},\n",
       " 'Gippsland': {'avg_sentiment': 0.14598168467719588, 'n tweets': 3609},\n",
       " 'Goldstein': {'avg_sentiment': 0.1391834778104286, 'n tweets': 312737},\n",
       " 'Grayndler': {'avg_sentiment': 0.19505652173913046, 'n tweets': 391},\n",
       " 'Grey': {'avg_sentiment': 0.09245102284803401, 'n tweets': 15056},\n",
       " 'Griffith': {'avg_sentiment': 0.24323453724604968, 'n tweets': 443},\n",
       " 'Groom': {'avg_sentiment': 0.19060770712909442, 'n tweets': 2076},\n",
       " 'Hasluck': {'avg_sentiment': 0.20983298791019003, 'n tweets': 579},\n",
       " 'Hawke': {'avg_sentiment': 0.15199163303739577, 'n tweets': 3717},\n",
       " 'Herbert': {'avg_sentiment': 0.09268204261954265, 'n tweets': 7696},\n",
       " 'Hindmarsh': {'avg_sentiment': 0.24291732283464562, 'n tweets': 127},\n",
       " 'Hinkler': {'avg_sentiment': 0.2579507756563247, 'n tweets': 5028},\n",
       " 'Holt': {'avg_sentiment': 0.21912500000000001, 'n tweets': 144},\n",
       " 'Hume': {'avg_sentiment': 0.148379458794588, 'n tweets': 813},\n",
       " 'Hunter': {'avg_sentiment': 0.14021265767725094, 'n tweets': 2299},\n",
       " 'Indi': {'avg_sentiment': 0.15695967613485529, 'n tweets': 3767},\n",
       " 'Isaacs': {'avg_sentiment': 0.231496178343949, 'n tweets': 157},\n",
       " 'Jagajaga': {'avg_sentiment': 0.4240255813953487, 'n tweets': 86},\n",
       " 'Kennedy': {'avg_sentiment': 0.11713543496851438, 'n tweets': 12863},\n",
       " 'Kingsford Smith': {'avg_sentiment': 0.2280458891013385, 'n tweets': 523},\n",
       " 'Kingston': {'avg_sentiment': 0.23955074626865672, 'n tweets': 67},\n",
       " 'Kooyong': {'avg_sentiment': 0.3387358288770054, 'n tweets': 187},\n",
       " 'La Trobe': {'avg_sentiment': 0.16868187838651413, 'n tweets': 1661},\n",
       " 'Lalor': {'avg_sentiment': 0.3256657894736842, 'n tweets': 152},\n",
       " 'Leichhardt': {'avg_sentiment': 0.1419029516088168, 'n tweets': 7894},\n",
       " 'Lilley': {'avg_sentiment': 0.12351851186788892, 'n tweets': 127529},\n",
       " 'Lindsay': {'avg_sentiment': 0.31159005524861877, 'n tweets': 181},\n",
       " 'Lingiari': {'avg_sentiment': 0.09256180174183169, 'n tweets': 18027},\n",
       " 'Longman': {'avg_sentiment': 0.0760192488262911, 'n tweets': 1065},\n",
       " 'Lyne': {'avg_sentiment': 0.1465296135265701, 'n tweets': 2070},\n",
       " 'Lyons': {'avg_sentiment': 0.16224577935222667, 'n tweets': 9880},\n",
       " 'Macarthur': {'avg_sentiment': 0.20851865671641792, 'n tweets': 134},\n",
       " 'Mackellar': {'avg_sentiment': 0.1697771276595745, 'n tweets': 376},\n",
       " 'Macnamara': {'avg_sentiment': 0.3126525121555916, 'n tweets': 1234},\n",
       " 'Macquarie': {'avg_sentiment': 0.1464375111111111, 'n tweets': 3375},\n",
       " 'Makin': {'avg_sentiment': 0.3423319327731091, 'n tweets': 119},\n",
       " 'Mallee': {'avg_sentiment': 0.15745306184012067, 'n tweets': 3315},\n",
       " 'Maranoa': {'avg_sentiment': 0.17689506172839506, 'n tweets': 1296},\n",
       " 'Mayo': {'avg_sentiment': 0.11822983706720971, 'n tweets': 6874},\n",
       " 'McEwen': {'avg_sentiment': 0.20430445378151263, 'n tweets': 1190},\n",
       " 'McMahon': {'avg_sentiment': 0.15444543507725664, 'n tweets': 295120},\n",
       " 'McPherson': {'avg_sentiment': 0.2288768786127167, 'n tweets': 173},\n",
       " 'Melbourne': {'avg_sentiment': 0.28403388581952105, 'n tweets': 2172},\n",
       " 'Monash': {'avg_sentiment': 0.17848919449901768, 'n tweets': 3054},\n",
       " 'Moncrieff': {'avg_sentiment': 0.2932035190615835, 'n tweets': 341},\n",
       " 'Moore': {'avg_sentiment': 0.17199418604651165, 'n tweets': 86},\n",
       " 'Moreton': {'avg_sentiment': 0.354116535433071, 'n tweets': 127},\n",
       " 'New England': {'avg_sentiment': 0.18029127324749641, 'n tweets': 3495},\n",
       " 'Newcastle': {'avg_sentiment': 0.2627981818181818, 'n tweets': 220},\n",
       " 'Nicholls': {'avg_sentiment': 0.13740317922735906, 'n tweets': 31580},\n",
       " 'North Sydney': {'avg_sentiment': 0.19407659906396252, 'n tweets': 641},\n",
       " \"O'Connor\": {'avg_sentiment': 0.1135768707482993, 'n tweets': 13818},\n",
       " 'Page': {'avg_sentiment': 0.064134666226041, 'n tweets': 3026},\n",
       " 'Parkes': {'avg_sentiment': 0.09929961452375033, 'n tweets': 8042},\n",
       " 'Parramatta': {'avg_sentiment': 0.23333966244725737, 'n tweets': 237},\n",
       " 'Paterson': {'avg_sentiment': 0.07199072496687492, 'n tweets': 5283},\n",
       " 'Pearce': {'avg_sentiment': 0.14076160714285715, 'n tweets': 112},\n",
       " 'Rankin': {'avg_sentiment': 0.09806666666666665, 'n tweets': 24},\n",
       " 'Reid': {'avg_sentiment': 0.2237030508474576, 'n tweets': 295},\n",
       " 'Richmond': {'avg_sentiment': 0.1405631320224719, 'n tweets': 4272},\n",
       " 'Riverina': {'avg_sentiment': 0.20914406461307286, 'n tweets': 2662},\n",
       " 'Robertson': {'avg_sentiment': 0.1412640718562874, 'n tweets': 334},\n",
       " 'Ryan': {'avg_sentiment': 0.24776693548387096, 'n tweets': 248},\n",
       " 'Scullin': {'avg_sentiment': 0.1441205128205128, 'n tweets': 117},\n",
       " 'Shortland': {'avg_sentiment': 0.14385428750097712, 'n tweets': 12793},\n",
       " 'Solomon': {'avg_sentiment': 0.26437808219178077, 'n tweets': 73},\n",
       " 'Spence': {'avg_sentiment': 0.14152202121023083, 'n tweets': 1603},\n",
       " 'Sturt': {'avg_sentiment': 0.2847883333333334, 'n tweets': 180},\n",
       " 'Swan': {'avg_sentiment': 0.23589323843416365, 'n tweets': 281},\n",
       " 'Sydney': {'avg_sentiment': 0.25834875994384643, 'n tweets': 2137},\n",
       " 'Wannon': {'avg_sentiment': 0.1683092177646586, 'n tweets': 7453},\n",
       " 'Warringah': {'avg_sentiment': 0.22138111111111108, 'n tweets': 360},\n",
       " 'Watson': {'avg_sentiment': 0.1265287469287469, 'n tweets': 814},\n",
       " 'Wentworth': {'avg_sentiment': 0.24435419354838708, 'n tweets': 465},\n",
       " 'Whitlam': {'avg_sentiment': 0.21465454545454546, 'n tweets': 1529},\n",
       " 'Wide Bay': {'avg_sentiment': 0.19224247246022028, 'n tweets': 3268},\n",
       " 'Wright': {'avg_sentiment': 0.11179807611877882, 'n tweets': 2391},\n",
       " 'Bennelong': {'avg_sentiment': 0.1610941520467836, 'n tweets': 171},\n",
       " 'Bradfield': {'avg_sentiment': 0.20418428571428568, 'n tweets': 140},\n",
       " 'Brand': {'avg_sentiment': 0.22547368421052633, 'n tweets': 190},\n",
       " 'Fenner': {'avg_sentiment': 0.16843282442748092, 'n tweets': 131},\n",
       " 'Fowler': {'avg_sentiment': 0.33467413793103445, 'n tweets': 116},\n",
       " 'Fraser': {'avg_sentiment': 0.375810582010582, 'n tweets': 378},\n",
       " 'Fremantle': {'avg_sentiment': 0.21364098939929332, 'n tweets': 283},\n",
       " 'Higgins': {'avg_sentiment': 0.1378513016845329, 'n tweets': 653},\n",
       " 'Hotham': {'avg_sentiment': 0.2562241379310345, 'n tweets': 87},\n",
       " 'Hughes': {'avg_sentiment': 0.24651782945736425, 'n tweets': 258},\n",
       " 'Oxley': {'avg_sentiment': 0.30792427184466026, 'n tweets': 103},\n",
       " 'Perth': {'avg_sentiment': 0.19749703872437363, 'n tweets': 439},\n",
       " 'Tangney': {'avg_sentiment': 0.19942068965517237, 'n tweets': 58},\n",
       " 'Calwell': {'avg_sentiment': 0.25520839694656483, 'n tweets': 131},\n",
       " 'Chisholm': {'avg_sentiment': 0.3098695652173913, 'n tweets': 184},\n",
       " 'Cowan': {'avg_sentiment': 0.12392444444444445, 'n tweets': 45},\n",
       " 'Menzies': {'avg_sentiment': 0.14231969696969698, 'n tweets': 132},\n",
       " 'Wills': {'avg_sentiment': 0.23332798165137608, 'n tweets': 218},\n",
       " 'Gorton': {'avg_sentiment': 0.1743513888888889, 'n tweets': 72},\n",
       " 'Maribyrnong': {'avg_sentiment': 0.29988810483870965, 'n tweets': 496},\n",
       " 'Mitchell': {'avg_sentiment': 0.19397812500000003, 'n tweets': 64},\n",
       " 'Banks': {'avg_sentiment': 0.32220312500000003, 'n tweets': 32},\n",
       " 'Greenway': {'avg_sentiment': 0.16677236842105264, 'n tweets': 76},\n",
       " 'Petrie': {'avg_sentiment': 0.38287283950617285, 'n tweets': 81},\n",
       " 'Werriwa': {'avg_sentiment': 0.20242432432432433, 'n tweets': 37},\n",
       " 'Dunkley': {'avg_sentiment': 0.24026470588235296, 'n tweets': 85}}"
      ]
     },
     "execution_count": 21,
     "metadata": {},
     "output_type": "execute_result"
    }
   ],
   "source": [
    "## Sentiment and number of tweets of each electorate for this time period - for map and for displaying number of tweets once we click onto electorate\n",
    "## Also useable for plot 2 on the dashboard (scatter plot x = change of electorate, y = sentiment)\n",
    "\n",
    "electorate_avg_sent_sum_count = {}\n",
    "\n",
    "for i in range(len(date_electorate__avgsent['rows'])):\n",
    "    \n",
    "    electorate = date_electorate__avgsent['rows'][i]['key'][1]\n",
    "    if electorate not in electorate_avg_sent_sum_count:\n",
    "        electorate_avg_sent_sum_count[electorate] = [0, 0]\n",
    "    \n",
    "    electorate_avg_sent_sum_count[electorate][0] += date_electorate__avgsent['rows'][i]['value']['sum']\n",
    "    electorate_avg_sent_sum_count[electorate][1] += date_electorate__avgsent['rows'][i]['value']['count']\n",
    "\n",
    "electorate_avg_sent = {key:{'avg_sentiment': electorate_avg_sent_sum_count[key][0]/electorate_avg_sent_sum_count[key][1], 'n tweets': electorate_avg_sent_sum_count[key][1]} for key in electorate_avg_sent_sum_count}\n",
    "electorate_avg_sent"
   ]
  },
  {
   "attachments": {},
   "cell_type": "markdown",
   "id": "55073375",
   "metadata": {},
   "source": []
  },
  {
   "cell_type": "code",
   "execution_count": 103,
   "id": "be568adb",
   "metadata": {},
   "outputs": [],
   "source": [
    "## sentiment of tweets for whole Australia by day - for displaying in line graph of the dashboard page\n",
    "daily_AUS_sentiment_sum_count = {}\n",
    "\n",
    "for i in range(len(date_electorate__avgsent['rows'])):\n",
    "\n",
    "    date = date_electorate__avgsent['rows'][i]['key'][0]\n",
    "    \n",
    "    if date not in daily_AUS_sentiment_sum_count:\n",
    "        daily_AUS_sentiment_sum_count[date] = {'sum': 0, 'count': 0}\n",
    "\n",
    "    daily_AUS_sentiment_sum_count[date]['sum'] += date_electorate__avgsent['rows'][i]['value']['sum']\n",
    "    daily_AUS_sentiment_sum_count[date]['count'] += date_electorate__avgsent['rows'][i]['value']['count']\n",
    "\n",
    "daily_AUS_sentiment = {key: daily_AUS_sentiment_sum_count[key]['sum']/daily_AUS_sentiment_sum_count[key]['count'] for key in daily_AUS_sentiment_sum_count}\n"
   ]
  },
  {
   "cell_type": "code",
   "execution_count": 105,
   "id": "d1d5056f",
   "metadata": {},
   "outputs": [],
   "source": [
    "## sentiment of tweets for whole Australia by day - for displaying in line graph of the dashboard page\n",
    "monthly_AUS_sentiment_sum_count = {}\n",
    "\n",
    "for i in range(len(date_electorate__avgsent['rows'])):\n",
    "\n",
    "    month = date_electorate__avgsent['rows'][i]['key'][0][5:7]\n",
    "    \n",
    "    if month not in monthly_AUS_sentiment_sum_count:\n",
    "        monthly_AUS_sentiment_sum_count[month] = {'sum': 0, 'count': 0}\n",
    "\n",
    "    monthly_AUS_sentiment_sum_count[month]['sum'] += date_electorate__avgsent['rows'][i]['value']['sum']\n",
    "    monthly_AUS_sentiment_sum_count[month]['count'] += date_electorate__avgsent['rows'][i]['value']['count']\n",
    "\n",
    "monthly_AUS_sentiment = {key: monthly_AUS_sentiment_sum_count[key]['sum']/monthly_AUS_sentiment_sum_count[key]['count'] for key in monthly_AUS_sentiment_sum_count}\n"
   ]
  },
  {
   "attachments": {},
   "cell_type": "markdown",
   "id": "b228d4c5",
   "metadata": {},
   "source": [
    "***"
   ]
  },
  {
   "attachments": {},
   "cell_type": "markdown",
   "id": "ef705f77",
   "metadata": {},
   "source": [
    "## BY DATE, BY ELECTORATE => AVERAGE SENTIMENT\n",
    "### POLITICAL\n",
    "\n",
    "- MAP: NUMBER OF TWEETS FOR ALL ELECTORATE FOR THIS PERIOD; SENTIMENT FOR ALL ELECTORATE FOR THIS PERIOD; MAP CLICK INTO ELECTORATE: SENTIMENT FOR THIS ELECTORATE FOR THIS PERIOD; MAP CLICK INTO ELECTORATE: NUMBER OF TWEETS FOR THIS ELECTORATE FOR THIS PERIOD \n",
    "    - pre election\n",
    "    - post election\n",
    "- MAP CLICK INTO ELECTORATE: SENTIMENT FOR ONE PARTCULAR ELECTORATE GROUPED BY DAY\n",
    "    - pre election\n",
    "    - post election\n",
    "- DASHBOARD: DISTRIBUTION PAGE: WHOLE AUSTRALIA LINE GRAPH BY MONTH\n",
    "    -pre election\n",
    "    -post election\n",
    "- DASHBOARD: DISTRIBUTION PAGE: WHOLE AUSTRALIA LINE GRAPH BY DAY\n",
    "    -pre election\n",
    "    -post election\n",
    "- DASHBOARD: DISTRIBUTION PAGE: SCATTER PLOT OF Y = SENTIMENT X = CHANGED GOVERNING PARTY IN 2022 ELECTION\n",
    "    - 1 month pre election\n",
    "    - 2 month pre election\n",
    "    - 3 month pre election\n",
    "    - 1 month post election\n",
    "    - 2 month post election\n",
    "    - 3 month post election\n",
    " DASHBOARD: RANKING PAGE: RANK ELECTORATE BY SENTIMENT\n",
    "    - 1 month pre election\n",
    "    - 2 month pre election\n",
    "    - 3 month pre election\n",
    "    - 1 month post election\n",
    "    - 2 month post election\n",
    "    - 3 month post election\n",
    "- DASHBOARD: RANKING PAGE: RANK ELECTORATE BY NUMBER OF TWEETS\n",
    "    - 1 month pre election\n",
    "    - 2 month pre election\n",
    "    - 3 month pre election\n",
    "    - 1 month post election\n",
    "    - 2 month post election\n",
    "    - 3 month post election"
   ]
  },
  {
   "cell_type": "code",
   "execution_count": 22,
   "id": "61aa5957-1150-4315-a31e-6e3e4284ffff",
   "metadata": {},
   "outputs": [],
   "source": [
    "def GET_date_electorate__avgsent__pol(startdate, enddate, username, password):\n",
    "    url = 'http://172.26.133.251:5984/tweet_database/_design/date/_view/date_electorate__avgsent__pol'\n",
    "\n",
    "    # Set the parameters for the GET request\n",
    "    params = {\n",
    "        'group': 'True',\n",
    "        'startkey': f'[\"{startdate}\"]',\n",
    "        'endkey': f'[\"{enddate}\"]'\n",
    "    }\n",
    "\n",
    "    returned_data_json = make_get_request(username, password, url, params)\n",
    "    \n",
    "    return returned_data_json"
   ]
  },
  {
   "cell_type": "code",
   "execution_count": 23,
   "id": "cd0f7183-cf40-4845-9a22-01305a583278",
   "metadata": {},
   "outputs": [
    {
     "name": "stdout",
     "output_type": "stream",
     "text": [
      "0.7084598541259766\n"
     ]
    }
   ],
   "source": [
    "date_electorate__avgsent__pol = GET_date_electorate__avgsent__pol('2022-02-09', '2022-05-22', username, password) # Pre Election\n",
    "\n",
    "GET_date_electorate__avgsent__pol('2022-05-21', '2023-06-30', username, password) # Post election\n",
    "GET_date_electorate__avgsent__pol('2022-05-21', '2022-06-21', username, password) # 1 month post election \n",
    "GET_date_electorate__avgsent__pol('2022-05-21', '2022-07-21', username, password) # 2 month post election\n",
    "GET_date_electorate__avgsent__pol('2022-05-21', '2022-08-21', username, password) # 3 month post election\n",
    "GET_date_electorate__avgsent__pol('2022-02-21', '2022-05-22', username, password) # 1 month post election \n",
    "GET_date_electorate__avgsent__pol('2022-03-21', '2022-05-22', username, password) # 2 month post election\n",
    "GET_date_electorate__avgsent__pol('2022-04-21', '2022-05-22', username, password) # 3 month post election"
   ]
  },
  {
   "attachments": {},
   "cell_type": "markdown",
   "id": "965ce16c",
   "metadata": {},
   "source": []
  },
  {
   "cell_type": "code",
   "execution_count": 26,
   "id": "4d34d8da",
   "metadata": {},
   "outputs": [
    {
     "data": {
      "text/plain": [
       "{'Ballarat': {'avg_sentiment': 0.09604587332053745, 'n tweets': 1042},\n",
       " 'Barker': {'avg_sentiment': 0.13687452229299357, 'n tweets': 314},\n",
       " 'Barton': {'avg_sentiment': -0.031849999999999976, 'n tweets': 8},\n",
       " 'Bass': {'avg_sentiment': 0.13327270471464023, 'n tweets': 806},\n",
       " 'Bendigo': {'avg_sentiment': 0.2440960330578513, 'n tweets': 605},\n",
       " 'Blaxland': {'avg_sentiment': -0.020776190476190476, 'n tweets': 42},\n",
       " 'Bonner': {'avg_sentiment': 0.45026666666666665, 'n tweets': 6},\n",
       " 'Boothby': {'avg_sentiment': 0.1808399267895879, 'n tweets': 7376},\n",
       " 'Bowman': {'avg_sentiment': 0.21097865168539326, 'n tweets': 89},\n",
       " 'Braddon': {'avg_sentiment': 0.08518762376237624, 'n tweets': 202},\n",
       " 'Burt': {'avg_sentiment': 0.09934469084268197, 'n tweets': 11499},\n",
       " 'Calare': {'avg_sentiment': 0.03591672200422578, 'n tweets': 3313},\n",
       " 'Canberra': {'avg_sentiment': 0.17303408594319009, 'n tweets': 4119},\n",
       " 'Capricornia': {'avg_sentiment': 0.12475576208178439, 'n tweets': 269},\n",
       " 'Casey': {'avg_sentiment': 0.13820799999999997, 'n tweets': 125},\n",
       " 'Corangamite': {'avg_sentiment': 0.1614812631578948, 'n tweets': 475},\n",
       " 'Cowper': {'avg_sentiment': 0.12902387387387385, 'n tweets': 666},\n",
       " 'Cunningham': {'avg_sentiment': 0.20348792588164977, 'n tweets': 1673},\n",
       " 'Dawson': {'avg_sentiment': 0.1018962555066079, 'n tweets': 454},\n",
       " 'Deakin': {'avg_sentiment': 0.5243583333333334, 'n tweets': 12},\n",
       " 'Dickson': {'avg_sentiment': 0.37930833333333336, 'n tweets': 24},\n",
       " 'Dobell': {'avg_sentiment': 0.1776373522458629, 'n tweets': 1692},\n",
       " 'Durack': {'avg_sentiment': 0.11326254545454548, 'n tweets': 550},\n",
       " 'Eden-Monaro': {'avg_sentiment': 0.11384502712477394, 'n tweets': 553},\n",
       " 'Fadden': {'avg_sentiment': 0.11887238791971486, 'n tweets': 5331},\n",
       " 'Fairfax': {'avg_sentiment': 0.06783322841726616, 'n tweets': 2224},\n",
       " 'Farrer': {'avg_sentiment': 0.1434188741721854, 'n tweets': 302},\n",
       " 'Fisher': {'avg_sentiment': 0.18124454545454544, 'n tweets': 110},\n",
       " 'Flynn': {'avg_sentiment': 0.11101744548286605, 'n tweets': 321},\n",
       " 'Forde': {'avg_sentiment': 0.26498374999999996, 'n tweets': 80},\n",
       " 'Forrest': {'avg_sentiment': 0.2004918803418804, 'n tweets': 234},\n",
       " 'Franklin': {'avg_sentiment': 0.14036036281179143, 'n tweets': 2205},\n",
       " 'Gellibrand': {'avg_sentiment': 0.2850238095238095, 'n tweets': 21},\n",
       " 'Gilmore': {'avg_sentiment': 0.054493771234428105, 'n tweets': 883},\n",
       " 'Goldstein': {'avg_sentiment': 0.1317448769103365, 'n tweets': 39849},\n",
       " 'Grey': {'avg_sentiment': 0.06342128686327077, 'n tweets': 1865},\n",
       " 'Griffith': {'avg_sentiment': 0.346354716981132, 'n tweets': 53},\n",
       " 'Groom': {'avg_sentiment': 0.26526207951070346, 'n tweets': 327},\n",
       " 'Hawke': {'avg_sentiment': 0.1738510588235294, 'n tweets': 425},\n",
       " 'Herbert': {'avg_sentiment': 0.11596026252983292, 'n tweets': 838},\n",
       " 'Hinkler': {'avg_sentiment': 0.22494170403587457, 'n tweets': 446},\n",
       " 'Hume': {'avg_sentiment': 0.1642355371900827, 'n tweets': 121},\n",
       " 'Hunter': {'avg_sentiment': 0.15153179916317988, 'n tweets': 239},\n",
       " 'Indi': {'avg_sentiment': 0.20575794573643408, 'n tweets': 516},\n",
       " 'Jagajaga': {'avg_sentiment': 0.5989277777777775, 'n tweets': 36},\n",
       " 'Kennedy': {'avg_sentiment': 0.12699126160567994, 'n tweets': 1831},\n",
       " 'Kooyong': {'avg_sentiment': 0.5198115384615385, 'n tweets': 26},\n",
       " 'Lalor': {'avg_sentiment': 0.5367619047619047, 'n tweets': 21},\n",
       " 'Leichhardt': {'avg_sentiment': 0.1676154004106776, 'n tweets': 974},\n",
       " 'Lilley': {'avg_sentiment': 0.0964605299271614, 'n tweets': 18946},\n",
       " 'Lingiari': {'avg_sentiment': 0.06351220588235294, 'n tweets': 2040},\n",
       " 'Longman': {'avg_sentiment': -0.0035072847682119054, 'n tweets': 151},\n",
       " 'Lyne': {'avg_sentiment': 0.15118363636363638, 'n tweets': 275},\n",
       " 'Lyons': {'avg_sentiment': 0.08764847328244271, 'n tweets': 1310},\n",
       " 'Mackellar': {'avg_sentiment': 0.1577, 'n tweets': 39},\n",
       " 'Macnamara': {'avg_sentiment': 0.4921506024096386, 'n tweets': 166},\n",
       " 'Macquarie': {'avg_sentiment': 0.10172862669245648, 'n tweets': 517},\n",
       " 'Mallee': {'avg_sentiment': 0.14647835616438357, 'n tweets': 365},\n",
       " 'Mayo': {'avg_sentiment': 0.23883006289308184, 'n tweets': 795},\n",
       " 'McMahon': {'avg_sentiment': 0.13917737304057656, 'n tweets': 35661},\n",
       " 'Melbourne': {'avg_sentiment': 0.3908267942583732, 'n tweets': 209},\n",
       " 'Monash': {'avg_sentiment': 0.17615079872204478, 'n tweets': 313},\n",
       " 'Moncrieff': {'avg_sentiment': 0.32408148148148147, 'n tweets': 27},\n",
       " 'New England': {'avg_sentiment': 0.2263724489795919, 'n tweets': 392},\n",
       " 'Nicholls': {'avg_sentiment': 0.12034027368421056, 'n tweets': 4750},\n",
       " 'North Sydney': {'avg_sentiment': 0.24168736842105257, 'n tweets': 95},\n",
       " \"O'Connor\": {'avg_sentiment': 0.030661899622234215, 'n tweets': 1853},\n",
       " 'Page': {'avg_sentiment': 0.06676433915211971, 'n tweets': 401},\n",
       " 'Parkes': {'avg_sentiment': 0.0867283715012723, 'n tweets': 786},\n",
       " 'Paterson': {'avg_sentiment': 0.07297262996941897, 'n tweets': 654},\n",
       " 'Richmond': {'avg_sentiment': 0.1552675496688741, 'n tweets': 453},\n",
       " 'Riverina': {'avg_sentiment': 0.17528316151202752, 'n tweets': 291},\n",
       " 'Ryan': {'avg_sentiment': 0.4227083333333334, 'n tweets': 24},\n",
       " 'Shortland': {'avg_sentiment': 0.163132195750161, 'n tweets': 1553},\n",
       " 'Sydney': {'avg_sentiment': 0.3155432276657062, 'n tweets': 347},\n",
       " 'Wannon': {'avg_sentiment': 0.1495575214341388, 'n tweets': 1283},\n",
       " 'Watson': {'avg_sentiment': 0.19926914893617007, 'n tweets': 94},\n",
       " 'Whitlam': {'avg_sentiment': 0.14402554744525548, 'n tweets': 137},\n",
       " 'Wide Bay': {'avg_sentiment': 0.1593735294117647, 'n tweets': 340},\n",
       " 'Wright': {'avg_sentiment': 0.05244117647058824, 'n tweets': 272},\n",
       " 'Bean': {'avg_sentiment': 0.18924285714285713, 'n tweets': 77},\n",
       " 'Brisbane': {'avg_sentiment': 0.43193766233766234, 'n tweets': 77},\n",
       " 'Clark': {'avg_sentiment': 0.262518918918919, 'n tweets': 37},\n",
       " 'Cooper': {'avg_sentiment': 0.36066086956521737, 'n tweets': 46},\n",
       " 'Corio': {'avg_sentiment': 0.21654433497536954, 'n tweets': 203},\n",
       " 'Curtin': {'avg_sentiment': 0.4179666666666666, 'n tweets': 18},\n",
       " 'Fraser': {'avg_sentiment': 0.6170058823529414, 'n tweets': 68},\n",
       " 'Fremantle': {'avg_sentiment': 0.4323166666666667, 'n tweets': 18},\n",
       " 'Gippsland': {'avg_sentiment': 0.1256664974619289, 'n tweets': 394},\n",
       " 'Hasluck': {'avg_sentiment': 0.25689999999999996, 'n tweets': 51},\n",
       " 'Macarthur': {'avg_sentiment': 0.4900357142857143, 'n tweets': 14},\n",
       " 'Maranoa': {'avg_sentiment': 0.2883351351351352, 'n tweets': 148},\n",
       " 'Parramatta': {'avg_sentiment': 0.2616290322580645, 'n tweets': 31},\n",
       " 'Scullin': {'avg_sentiment': 0.2570266666666666, 'n tweets': 15},\n",
       " 'Spence': {'avg_sentiment': 0.09432740740740742, 'n tweets': 135},\n",
       " 'Sturt': {'avg_sentiment': 0.24257333333333328, 'n tweets': 15},\n",
       " 'Adelaide': {'avg_sentiment': 0.47879320388349517, 'n tweets': 103},\n",
       " 'Blair': {'avg_sentiment': 0.3008631578947368, 'n tweets': 76},\n",
       " 'Chisholm': {'avg_sentiment': 0.33864838709677414, 'n tweets': 31},\n",
       " 'Flinders': {'avg_sentiment': 0.1837223880597015, 'n tweets': 67},\n",
       " 'Hindmarsh': {'avg_sentiment': 0.47671666666666673, 'n tweets': 12},\n",
       " 'La Trobe': {'avg_sentiment': 0.19025310344827584, 'n tweets': 145},\n",
       " 'Makin': {'avg_sentiment': 0.64602, 'n tweets': 20},\n",
       " 'McPherson': {'avg_sentiment': 0.1437142857142857, 'n tweets': 14},\n",
       " 'Moreton': {'avg_sentiment': 0.6050171875000002, 'n tweets': 64},\n",
       " 'Pearce': {'avg_sentiment': 0.21448750000000003, 'n tweets': 16},\n",
       " 'Reid': {'avg_sentiment': 0.24052857142857145, 'n tweets': 49},\n",
       " 'Swan': {'avg_sentiment': 0.4164851851851853, 'n tweets': 27},\n",
       " 'Wentworth': {'avg_sentiment': 0.36702340425531915, 'n tweets': 47},\n",
       " 'Bradfield': {'avg_sentiment': 0.18072, 'n tweets': 20},\n",
       " 'Higgins': {'avg_sentiment': 0.2213696078431373, 'n tweets': 102},\n",
       " 'McEwen': {'avg_sentiment': 0.22850043103448278, 'n tweets': 232},\n",
       " 'Fenner': {'avg_sentiment': 0.3277863636363636, 'n tweets': 22},\n",
       " 'Lindsay': {'avg_sentiment': 0.6380454545454545, 'n tweets': 22},\n",
       " 'Perth': {'avg_sentiment': 0.4168957446808511, 'n tweets': 47},\n",
       " 'Solomon': {'avg_sentiment': 0.66677, 'n tweets': 10},\n",
       " 'Wills': {'avg_sentiment': 0.45907333333333333, 'n tweets': 30},\n",
       " 'Berowra': {'avg_sentiment': 0.3720083333333333, 'n tweets': 24},\n",
       " 'Kingsford Smith': {'avg_sentiment': 0.3513655172413794, 'n tweets': 58},\n",
       " 'Warringah': {'avg_sentiment': 0.4075075, 'n tweets': 40},\n",
       " 'Aston': {'avg_sentiment': 0.22985555555555556, 'n tweets': 27},\n",
       " 'Hughes': {'avg_sentiment': 0.3462090909090909, 'n tweets': 44},\n",
       " 'Isaacs': {'avg_sentiment': 0.3548033333333334, 'n tweets': 30},\n",
       " 'Maribyrnong': {'avg_sentiment': 0.35923561643835616, 'n tweets': 73},\n",
       " 'Robertson': {'avg_sentiment': 0.2360375, 'n tweets': 24},\n",
       " 'Bennelong': {'avg_sentiment': 0.2392931034482759, 'n tweets': 29},\n",
       " 'Moore': {'avg_sentiment': 0.31245000000000006, 'n tweets': 6},\n",
       " 'Canning': {'avg_sentiment': 0.3830285714285715, 'n tweets': 21},\n",
       " 'Newcastle': {'avg_sentiment': 0.2216608695652174, 'n tweets': 23},\n",
       " 'Oxley': {'avg_sentiment': 0.3932555555555556, 'n tweets': 9},\n",
       " 'Grayndler': {'avg_sentiment': 0.26259852941176465, 'n tweets': 68},\n",
       " 'Bruce': {'avg_sentiment': -0.3524333333333334, 'n tweets': 3},\n",
       " 'Fowler': {'avg_sentiment': 0.4510333333333333, 'n tweets': 18},\n",
       " 'Banks': {'avg_sentiment': 0.49304, 'n tweets': 5},\n",
       " 'Kingston': {'avg_sentiment': 0.08215555555555554, 'n tweets': 9},\n",
       " 'Calwell': {'avg_sentiment': 0.19791666666666666, 'n tweets': 6},\n",
       " 'Menzies': {'avg_sentiment': 0.31777272727272715, 'n tweets': 11},\n",
       " 'Petrie': {'avg_sentiment': 0.6474928571428572, 'n tweets': 14},\n",
       " 'Dunkley': {'avg_sentiment': 0.31808181818181813, 'n tweets': 11},\n",
       " 'Mitchell': {'avg_sentiment': -0.050666666666666665, 'n tweets': 6},\n",
       " 'Brand': {'avg_sentiment': 0.4229079999999999, 'n tweets': 25},\n",
       " 'Hotham': {'avg_sentiment': 0.43299166666666666, 'n tweets': 12},\n",
       " 'Chifley': {'avg_sentiment': 0.03887500000000001, 'n tweets': 4},\n",
       " 'Tangney': {'avg_sentiment': 0.36185, 'n tweets': 6},\n",
       " 'Werriwa': {'avg_sentiment': 0.6854, 'n tweets': 3},\n",
       " 'Holt': {'avg_sentiment': 0.44200000000000006, 'n tweets': 15},\n",
       " 'Gorton': {'avg_sentiment': 0.5093666666666666, 'n tweets': 3},\n",
       " 'Greenway': {'avg_sentiment': 0.43445, 'n tweets': 8},\n",
       " 'Rankin': {'avg_sentiment': 0.6982333333333334, 'n tweets': 3},\n",
       " 'Cook': {'avg_sentiment': 0.50615, 'n tweets': 2},\n",
       " 'Cowan': {'avg_sentiment': 0.0, 'n tweets': 1}}"
      ]
     },
     "execution_count": 26,
     "metadata": {},
     "output_type": "execute_result"
    }
   ],
   "source": [
    "## Sentiment and number of political tweets of each electorate for this time period - for map and for displaying number of tweets once we click onto electorate\n",
    "## Also useable for plot 2 on the dashboard (scatter plot x = change of electorate, y = sentiment)\n",
    "\n",
    "electorate_avg_sent_pol_sum_count = {}\n",
    "\n",
    "for i in range(len(date_electorate__avgsent__pol['rows'])):\n",
    "    \n",
    "    electorate = date_electorate__avgsent__pol['rows'][i]['key'][1]\n",
    "    if electorate not in electorate_avg_sent_pol_sum_count:\n",
    "        electorate_avg_sent_pol_sum_count[electorate] = [0, 0]\n",
    "    \n",
    "    electorate_avg_sent_pol_sum_count[electorate][0] += date_electorate__avgsent__pol['rows'][i]['value']['sum']\n",
    "    electorate_avg_sent_pol_sum_count[electorate][1] += date_electorate__avgsent__pol['rows'][i]['value']['count']\n",
    "\n",
    "electorate_avg_sent = {key:{'avg_sentiment': electorate_avg_sent_pol_sum_count[key][0]/electorate_avg_sent_pol_sum_count[key][1], 'n tweets': electorate_avg_sent_pol_sum_count[key][1]} for key in electorate_avg_sent_pol_sum_count}\n",
    "electorate_avg_sent"
   ]
  },
  {
   "attachments": {},
   "cell_type": "markdown",
   "id": "b68537e2",
   "metadata": {},
   "source": []
  },
  {
   "cell_type": "code",
   "execution_count": null,
   "id": "9369b2d9",
   "metadata": {},
   "outputs": [],
   "source": [
    "## sentiment of tweets for whole Australia by day - for displaying in line graph of the dashboard page\n",
    "daily_AUS_sentiment_pol_sum_count = {}\n",
    "\n",
    "for i in range(len(date_electorate__avgsent['rows'])):\n",
    "\n",
    "    date = date_electorate__avgsent['rows'][i]['key'][0]\n",
    "    \n",
    "    if date not in daily_AUS_sentiment_pol_sum_count:\n",
    "        daily_AUS_sentiment_pol_sum_count[date] = {'sum': 0, 'count': 0}\n",
    "\n",
    "    daily_AUS_sentiment_pol_sum_count[date]['sum'] += date_electorate__avgsent['rows'][i]['value']['sum']\n",
    "    daily_AUS_sentiment_pol_sum_count[date]['count'] += date_electorate__avgsent['rows'][i]['value']['count']\n",
    "\n",
    "daily_AUS_sentiment_pol = {key: daily_AUS_sentiment_pol_sum_count[key]['sum']/daily_AUS_sentiment_pol_sum_count[key]['count'] for key in daily_AUS_sentiment_pol_sum_count}\n"
   ]
  },
  {
   "cell_type": "code",
   "execution_count": 119,
   "id": "b125ad68",
   "metadata": {},
   "outputs": [
    {
     "data": {
      "text/plain": [
       "{'2022-02-10': 0.14285663866972084,\n",
       " '2022-02-11': 0.1524277465154532,\n",
       " '2022-02-12': 0.1448656199417287,\n",
       " '2022-02-13': 0.14554899318582032,\n",
       " '2022-02-14': 0.15568804312316234,\n",
       " '2022-02-15': 0.1398968573943662,\n",
       " '2022-02-16': 0.12809964463998647,\n",
       " '2022-02-17': 0.13998770945040215,\n",
       " '2022-02-18': 0.16281430244228845,\n",
       " '2022-02-19': 0.1541259645288728,\n",
       " '2022-02-20': 0.1548105169036873,\n",
       " '2022-02-21': 0.14493249683143222,\n",
       " '2022-02-22': 0.14595696140293365,\n",
       " '2022-02-23': 0.14428363725570362,\n",
       " '2022-02-24': 0.1040940849169663,\n",
       " '2022-02-25': 0.11814331436699858,\n",
       " '2022-02-26': 0.13153487877175649,\n",
       " '2022-02-27': 0.12170506478209653,\n",
       " '2022-02-28': 0.12088335959659631,\n",
       " '2022-03-01': 0.12405889724310774,\n",
       " '2022-03-02': 0.1269163621135983,\n",
       " '2022-03-03': 0.12843204334365324,\n",
       " '2022-03-04': 0.12101406415976206,\n",
       " '2022-03-05': 0.12973535838192957,\n",
       " '2022-03-06': 0.1285164518343376,\n",
       " '2022-03-07': 0.13072919798527702,\n",
       " '2022-03-08': 0.14979009849663039,\n",
       " '2022-03-09': 0.12869560195808477,\n",
       " '2022-03-10': 0.1367657544896213,\n",
       " '2022-03-11': 0.1462310662778785,\n",
       " '2022-03-12': 0.14277328060263655,\n",
       " '2022-03-13': 0.13526308163417733,\n",
       " '2022-03-14': 0.1384548201549199,\n",
       " '2022-03-15': 0.14491121951219513,\n",
       " '2022-03-16': 0.12833323725728146,\n",
       " '2022-03-17': 0.13478389121338918,\n",
       " '2022-03-18': 0.13546570251146878,\n",
       " '2022-03-19': 0.1528394150608172,\n",
       " '2022-03-20': 0.13939004223160698,\n",
       " '2022-03-21': 0.12945192532088676,\n",
       " '2022-03-22': 0.12296372458410351,\n",
       " '2022-03-23': 0.15017826185958252,\n",
       " '2022-03-24': 0.1237631071480353,\n",
       " '2022-03-25': 0.1405714355605255,\n",
       " '2022-03-26': 0.13810596323305988,\n",
       " '2022-03-27': 0.14452044461479502,\n",
       " '2022-03-28': 0.12822812803103784,\n",
       " '2022-03-30': 0.14415224382640088,\n",
       " '2022-03-31': 0.1417048603632708,\n",
       " '2022-04-01': 0.1363835563747095,\n",
       " '2022-04-02': 0.14147933373080937,\n",
       " '2022-04-03': 0.15011591796875007,\n",
       " '2022-04-04': 0.14429336668940948,\n",
       " '2022-04-05': 0.14567001129943502,\n",
       " '2022-04-06': 0.1438715565065779,\n",
       " '2022-04-07': 0.14595115611304213,\n",
       " '2022-04-08': 0.14415426785457677,\n",
       " '2022-04-09': 0.14553059665208032,\n",
       " '2022-04-10': 0.1391787004734612,\n",
       " '2022-04-11': 0.12060912821251167,\n",
       " '2022-04-12': 0.13823816509743816,\n",
       " '2022-04-13': 0.14353046203177378,\n",
       " '2022-04-14': 0.1515999128666861,\n",
       " '2022-04-15': 0.1549629789065863,\n",
       " '2022-04-16': 0.1434780259167355,\n",
       " '2022-04-17': 0.14188257442466035,\n",
       " '2022-04-18': 0.1322585906357678,\n",
       " '2022-04-19': 0.14115103536880286,\n",
       " '2022-04-20': 0.13955456614705475,\n",
       " '2022-04-21': 0.14629040254237285,\n",
       " '2022-04-22': 0.15429677931831312,\n",
       " '2022-04-23': 0.14695735024760861,\n",
       " '2022-04-24': 0.13660131856540086,\n",
       " '2022-04-25': 0.13897838897236545,\n",
       " '2022-04-26': 0.14376784725672506,\n",
       " '2022-04-27': 0.14710210987806543,\n",
       " '2022-04-28': 0.1435565271879133,\n",
       " '2022-04-29': 0.15378779728386888,\n",
       " '2022-04-30': 0.15384345742958883,\n",
       " '2022-05-01': 0.15838344062007356,\n",
       " '2022-05-02': 0.1581648594664005,\n",
       " '2022-05-03': 0.15635754623044112,\n",
       " '2022-05-04': 0.15320080599144079,\n",
       " '2022-05-05': 0.13788981986334461,\n",
       " '2022-05-06': 0.15563693506144652,\n",
       " '2022-05-07': 0.1468284292399974,\n",
       " '2022-05-08': 0.13751231019876176,\n",
       " '2022-05-09': 0.13868985220954055,\n",
       " '2022-05-10': 0.14755894246803777,\n",
       " '2022-05-11': 0.13790085080726197,\n",
       " '2022-05-12': 0.14519681063580622,\n",
       " '2022-05-13': 0.13427541835699788,\n",
       " '2022-05-14': 0.1377736556603773,\n",
       " '2022-05-15': 0.1444046213568303,\n",
       " '2022-05-16': 0.14498285949167636,\n",
       " '2022-05-17': 0.14630941034212963,\n",
       " '2022-05-18': 0.1337114811031665,\n",
       " '2022-05-19': 0.14124320568647536,\n",
       " '2022-05-20': 0.1605982678983834,\n",
       " '2022-05-21': 0.1504618572466261}"
      ]
     },
     "execution_count": 119,
     "metadata": {},
     "output_type": "execute_result"
    }
   ],
   "source": [
    "daily_AUS_sentiment_pol"
   ]
  },
  {
   "cell_type": "code",
   "execution_count": 108,
   "id": "76df07fc",
   "metadata": {},
   "outputs": [],
   "source": [
    "## sentiment of tweets for whole Australia by day - for displaying in line graph of the dashboard page\n",
    "monthly_AUS_sentiment_pol_sum_count = {}\n",
    "\n",
    "for i in range(len(date_electorate__avgsent['rows'])):\n",
    "\n",
    "    month = date_electorate__avgsent['rows'][i]['key'][0][5:7]\n",
    "    \n",
    "    if month not in monthly_AUS_sentiment_pol_sum_count:\n",
    "        monthly_AUS_sentiment_pol_sum_count[month] = {'sum': 0, 'count': 0}\n",
    "\n",
    "    monthly_AUS_sentiment_pol_sum_count[month]['sum'] += date_electorate__avgsent['rows'][i]['value']['sum']\n",
    "    monthly_AUS_sentiment_pol_sum_count[month]['count'] += date_electorate__avgsent['rows'][i]['value']['count']\n",
    "\n",
    "monthly_AUS_sentiment_pol = {key: monthly_AUS_sentiment_pol_sum_count[key]['sum']/monthly_AUS_sentiment_pol_sum_count[key]['count'] for key in monthly_AUS_sentiment_pol_sum_count}\n"
   ]
  },
  {
   "cell_type": "code",
   "execution_count": 120,
   "id": "a292deb2",
   "metadata": {},
   "outputs": [
    {
     "data": {
      "text/plain": [
       "{'02': 0.1393940900813823,\n",
       " '03': 0.13572388149380663,\n",
       " '04': 0.14365651314610248,\n",
       " '05': 0.14610041370083438}"
      ]
     },
     "execution_count": 120,
     "metadata": {},
     "output_type": "execute_result"
    }
   ],
   "source": [
    "monthly_AUS_sentiment_pol"
   ]
  },
  {
   "attachments": {},
   "cell_type": "markdown",
   "id": "b66356a9",
   "metadata": {},
   "source": [
    "***"
   ]
  },
  {
   "attachments": {},
   "cell_type": "markdown",
   "id": "f3d21381",
   "metadata": {},
   "source": [
    "## BY WEEK, BY ELECTORATE => AVERAGE SENTIMENT\n",
    "\n",
    "- DASHBOARD: DISTRIBUTION PAGE: WHOLE AUSTRALIA LINE GRAPH BY WEEK\n",
    "    - pre election\n",
    "    - post election\n",
    "\n",
    "- DASHBOARD: DISTRIBUTION PAGE: SCATTER PLOT OF Y = SENTIMENT X = CHANGED GOVERNING PARTY IN 2022 ELECTION\n",
    "    - 1 week pre election\n",
    "    - 2 week pre election\n",
    "    - 3 week pre election\n",
    "    - 1 week post election\n",
    "    - 2 week post election\n",
    "    - 3 week post election\n",
    "- DASHBOARD: RANKING PAGE: RANK ELECTORATE BY SENTIMENT\n",
    "    - 1 week pre election\n",
    "    - 2 week pre election\n",
    "    - 3 week pre election\n",
    "    - 1 week post election\n",
    "    - 2 week post election\n",
    "    - 3 week post election\n",
    "- DASHBOARD: RANKING PAGE: RANK ELECTORATE BY NUMBER OF TWEETS\n",
    "    - 1 week pre election\n",
    "    - 2 week pre election\n",
    "    - 3 week pre election\n",
    "    - 1 week post election\n",
    "    - 2 week post election\n",
    "    - 3 week post election"
   ]
  },
  {
   "cell_type": "code",
   "execution_count": 28,
   "id": "01a9f31f-4252-42c0-9311-b0f5c8507aa6",
   "metadata": {},
   "outputs": [],
   "source": [
    "def GET_week_electorate__avgsent(startweek, endweek, username, password):\n",
    "    url = 'http://172.26.133.251:5984/tweet_database/_design/week/_view/week_electorate__avgsent'\n",
    "\n",
    "    # Set the parameters for the GET request\n",
    "    params = {\n",
    "        'group': 'True',\n",
    "        'startkey': f'[{startweek}]',\n",
    "        'endkey': f'[{endweek}]'\n",
    "    }\n",
    "\n",
    "    returned_data_json = make_get_request(username, password, url, params)\n",
    "    \n",
    "    return returned_data_json"
   ]
  },
  {
   "cell_type": "code",
   "execution_count": 29,
   "id": "a81808e6-ead0-431f-a0e7-6df667026f01",
   "metadata": {},
   "outputs": [
    {
     "name": "stdout",
     "output_type": "stream",
     "text": [
      "0.7217729091644287\n"
     ]
    }
   ],
   "source": [
    "week_electorate__avgsent = GET_week_electorate__avgsent(-15, 0, username, password) # PRE ELECTION\n",
    "GET_week_electorate__avgsent(0, 20, username, password) # POST ELECTION\n",
    "GET_week_electorate__avgsent(0, 2, username, password) # 1 week POST ELECTION \n",
    "GET_week_electorate__avgsent(0, 3, username, password) # 2 week POST ELECTION\n",
    "GET_week_electorate__avgsent(0, 4, username, password) # 3 week POST ELECTION\n",
    "GET_week_electorate__avgsent(-1, 0, username, password) # 1 week PRE ELECTION \n",
    "GET_week_electorate__avgsent(-2, 0, username, password) # 2 week PRE ELECTION\n",
    "GET_week_electorate__avgsent(-3, 0, username, password) # 3 week PRE ELECTION"
   ]
  },
  {
   "attachments": {},
   "cell_type": "markdown",
   "id": "447014a7",
   "metadata": {},
   "source": []
  },
  {
   "cell_type": "code",
   "execution_count": 76,
   "id": "ce60611c",
   "metadata": {},
   "outputs": [],
   "source": [
    "## sentiment of tweets for each electorate by week - for displaying in line graph once we click onto electorate\n",
    "weekly_by_electorate_sentiment = {}\n",
    "\n",
    "for i in range(len(week_electorate__avgsent['rows'])):\n",
    "\n",
    "    electorate = week_electorate__avgsent['rows'][i]['key'][1]\n",
    "    if electorate not in weekly_by_electorate_sentiment:\n",
    "        weekly_by_electorate_sentiment[electorate] = {}\n",
    "    \n",
    "    date = week_electorate__avgsent['rows'][i]['key'][0]\n",
    "\n",
    "    weekly_by_electorate_sentiment[electorate][date] = week_electorate__avgsent['rows'][i]['value']['sum']/week_electorate__avgsent['rows'][i]['value']['count']"
   ]
  },
  {
   "cell_type": "code",
   "execution_count": 77,
   "id": "31939bef",
   "metadata": {},
   "outputs": [
    {
     "data": {
      "text/plain": [
       "dict_keys([-15, -14, -13, -12, -11, -10, -9, -8, -7, -6, -5, -4, -3, -2, -1])"
      ]
     },
     "execution_count": 77,
     "metadata": {},
     "output_type": "execute_result"
    }
   ],
   "source": [
    "weekly_by_electorate_sentiment.get('Adelaide', {}).keys()"
   ]
  },
  {
   "cell_type": "code",
   "execution_count": 78,
   "id": "057bc939",
   "metadata": {},
   "outputs": [
    {
     "data": {
      "text/plain": [
       "dict_values([0.24434999999999998, 0.16525714285714282, 0.3450592592592593, 0.33486078431372546, 0.26275192307692313, 0.29100175438596493, 0.2632586956521739, 0.1712131147540984, 0.34601000000000004, 0.24038205128205128, 0.15813684210526316, 0.18922236842105258, 0.3247055555555556, 0.3407134615384615, 0.19985205479452056])"
      ]
     },
     "execution_count": 78,
     "metadata": {},
     "output_type": "execute_result"
    }
   ],
   "source": [
    "weekly_by_electorate_sentiment.get('Adelaide', {}).values()"
   ]
  },
  {
   "attachments": {},
   "cell_type": "markdown",
   "id": "263a8082",
   "metadata": {},
   "source": []
  },
  {
   "cell_type": "code",
   "execution_count": 91,
   "id": "28698a70",
   "metadata": {},
   "outputs": [
    {
     "data": {
      "text/plain": [
       "{'Adelaide': {'avg_sentiment': 0.2538961055276382, 'n tweets': 796},\n",
       " 'Aston': {'avg_sentiment': 0.22689545454545454, 'n tweets': 176},\n",
       " 'Ballarat': {'avg_sentiment': 0.04068294447910169, 'n tweets': 16030},\n",
       " 'Barker': {'avg_sentiment': 0.11827203883495148, 'n tweets': 2575},\n",
       " 'Barton': {'avg_sentiment': 0.2352627272727273, 'n tweets': 110},\n",
       " 'Bass': {'avg_sentiment': 0.13673075221238937, 'n tweets': 5424},\n",
       " 'Bean': {'avg_sentiment': 0.1712287155346335, 'n tweets': 4461},\n",
       " 'Bendigo': {'avg_sentiment': 0.1723288968234425, 'n tweets': 8122},\n",
       " 'Bennelong': {'avg_sentiment': 0.16109415204678368, 'n tweets': 171},\n",
       " 'Berowra': {'avg_sentiment': 0.17888418079096047, 'n tweets': 177},\n",
       " 'Blair': {'avg_sentiment': 0.23245985663082439, 'n tweets': 279},\n",
       " 'Blaxland': {'avg_sentiment': -0.03044583333333333, 'n tweets': 504},\n",
       " 'Bonner': {'avg_sentiment': 0.25495555555555555, 'n tweets': 135},\n",
       " 'Boothby': {'avg_sentiment': 0.16836416375986782, 'n tweets': 65364},\n",
       " 'Bowman': {'avg_sentiment': 0.10673344370860927, 'n tweets': 604},\n",
       " 'Braddon': {'avg_sentiment': 0.09582070003763644, 'n tweets': 2657},\n",
       " 'Bradfield': {'avg_sentiment': 0.20418428571428568, 'n tweets': 140},\n",
       " 'Brand': {'avg_sentiment': 0.22547368421052633, 'n tweets': 190},\n",
       " 'Brisbane': {'avg_sentiment': 0.26643772048846676, 'n tweets': 737},\n",
       " 'Bruce': {'avg_sentiment': 0.12639999999999998, 'n tweets': 70},\n",
       " 'Burt': {'avg_sentiment': 0.12362033937703394, 'n tweets': 90342},\n",
       " 'Calare': {'avg_sentiment': 0.14751665819744075, 'n tweets': 21647},\n",
       " 'Calwell': {'avg_sentiment': 0.2552083969465649, 'n tweets': 131},\n",
       " 'Canberra': {'avg_sentiment': 0.16585156024626213, 'n tweets': 28425},\n",
       " 'Canning': {'avg_sentiment': 0.318529674796748, 'n tweets': 246},\n",
       " 'Capricornia': {'avg_sentiment': 0.16877185454545457, 'n tweets': 2750},\n",
       " 'Casey': {'avg_sentiment': 0.16582618741976896, 'n tweets': 779},\n",
       " 'Chifley': {'avg_sentiment': 0.06335882352941175, 'n tweets': 51},\n",
       " 'Chisholm': {'avg_sentiment': 0.30986956521739123, 'n tweets': 184},\n",
       " 'Clark': {'avg_sentiment': 0.23225018450184504, 'n tweets': 271},\n",
       " 'Cook': {'avg_sentiment': 0.2380655172413793, 'n tweets': 116},\n",
       " 'Cooper': {'avg_sentiment': 0.25856879699248125, 'n tweets': 266},\n",
       " 'Corangamite': {'avg_sentiment': 0.15853047337278106, 'n tweets': 4056},\n",
       " 'Corio': {'avg_sentiment': 0.1454374530075188, 'n tweets': 2128},\n",
       " 'Cowan': {'avg_sentiment': 0.12392444444444445, 'n tweets': 45},\n",
       " 'Cowper': {'avg_sentiment': 0.11615574769109846, 'n tweets': 5089},\n",
       " 'Cunningham': {'avg_sentiment': 0.18023031782670457, 'n tweets': 11264},\n",
       " 'Curtin': {'avg_sentiment': 0.10649006622516555, 'n tweets': 453},\n",
       " 'Dawson': {'avg_sentiment': 0.12476611505122144, 'n tweets': 3807},\n",
       " 'Deakin': {'avg_sentiment': 0.31938169014084516, 'n tweets': 71},\n",
       " 'Dickson': {'avg_sentiment': 0.11819318181818182, 'n tweets': 264},\n",
       " 'Dobell': {'avg_sentiment': 0.1501472187958884, 'n tweets': 17025},\n",
       " 'Durack': {'avg_sentiment': 0.1320933231396534, 'n tweets': 3924},\n",
       " 'Eden-Monaro': {'avg_sentiment': 0.10420830197554094, 'n tweets': 4252},\n",
       " 'Fadden': {'avg_sentiment': 0.12908903102086858, 'n tweets': 44325},\n",
       " 'Fairfax': {'avg_sentiment': 0.09689484393520346, 'n tweets': 15186},\n",
       " 'Farrer': {'avg_sentiment': 0.13115113553113553, 'n tweets': 2730},\n",
       " 'Fenner': {'avg_sentiment': 0.16843282442748092, 'n tweets': 131},\n",
       " 'Fisher': {'avg_sentiment': 0.15074932562620424, 'n tweets': 519},\n",
       " 'Flinders': {'avg_sentiment': 0.14239906976744188, 'n tweets': 430},\n",
       " 'Flynn': {'avg_sentiment': 0.13857583367641005, 'n tweets': 2429},\n",
       " 'Forde': {'avg_sentiment': 0.18285709240729844, 'n tweets': 1699},\n",
       " 'Forrest': {'avg_sentiment': 0.1923797361299053, 'n tweets': 2956},\n",
       " 'Fowler': {'avg_sentiment': 0.33467413793103445, 'n tweets': 116},\n",
       " 'Franklin': {'avg_sentiment': 0.14090889110267105, 'n tweets': 16061},\n",
       " 'Fraser': {'avg_sentiment': 0.3758105820105821, 'n tweets': 378},\n",
       " 'Fremantle': {'avg_sentiment': 0.21364098939929327, 'n tweets': 283},\n",
       " 'Gellibrand': {'avg_sentiment': 0.23041928571428574, 'n tweets': 140},\n",
       " 'Gilmore': {'avg_sentiment': 0.09209386255053288, 'n tweets': 5442},\n",
       " 'Gippsland': {'avg_sentiment': 0.14598168467719588, 'n tweets': 3609},\n",
       " 'Goldstein': {'avg_sentiment': 0.13918347781042859, 'n tweets': 312737},\n",
       " 'Grayndler': {'avg_sentiment': 0.19505652173913043, 'n tweets': 391},\n",
       " 'Grey': {'avg_sentiment': 0.09245102284803401, 'n tweets': 15056},\n",
       " 'Griffith': {'avg_sentiment': 0.24323453724604968, 'n tweets': 443},\n",
       " 'Groom': {'avg_sentiment': 0.19060770712909442, 'n tweets': 2076},\n",
       " 'Hasluck': {'avg_sentiment': 0.20983298791018998, 'n tweets': 579},\n",
       " 'Hawke': {'avg_sentiment': 0.15199163303739574, 'n tweets': 3717},\n",
       " 'Herbert': {'avg_sentiment': 0.09268204261954262, 'n tweets': 7696},\n",
       " 'Higgins': {'avg_sentiment': 0.1378513016845329, 'n tweets': 653},\n",
       " 'Hindmarsh': {'avg_sentiment': 0.24291732283464568, 'n tweets': 127},\n",
       " 'Hinkler': {'avg_sentiment': 0.25795077565632457, 'n tweets': 5028},\n",
       " 'Holt': {'avg_sentiment': 0.219125, 'n tweets': 144},\n",
       " 'Hotham': {'avg_sentiment': 0.2562241379310345, 'n tweets': 87},\n",
       " 'Hughes': {'avg_sentiment': 0.24651782945736436, 'n tweets': 258},\n",
       " 'Hume': {'avg_sentiment': 0.14837945879458794, 'n tweets': 813},\n",
       " 'Hunter': {'avg_sentiment': 0.140212657677251, 'n tweets': 2299},\n",
       " 'Indi': {'avg_sentiment': 0.15695967613485534, 'n tweets': 3767},\n",
       " 'Isaacs': {'avg_sentiment': 0.231496178343949, 'n tweets': 157},\n",
       " 'Jagajaga': {'avg_sentiment': 0.42402558139534885, 'n tweets': 86},\n",
       " 'Kennedy': {'avg_sentiment': 0.11713543496851436, 'n tweets': 12863},\n",
       " 'Kingsford Smith': {'avg_sentiment': 0.22804588910133844, 'n tweets': 523},\n",
       " 'Kingston': {'avg_sentiment': 0.23955074626865672, 'n tweets': 67},\n",
       " 'Kooyong': {'avg_sentiment': 0.3387358288770054, 'n tweets': 187},\n",
       " 'La Trobe': {'avg_sentiment': 0.16868187838651416, 'n tweets': 1661},\n",
       " 'Lalor': {'avg_sentiment': 0.32566578947368424, 'n tweets': 152},\n",
       " 'Leichhardt': {'avg_sentiment': 0.14190295160881683, 'n tweets': 7894},\n",
       " 'Lilley': {'avg_sentiment': 0.12351851186788887, 'n tweets': 127529},\n",
       " 'Lindsay': {'avg_sentiment': 0.31159005524861877, 'n tweets': 181},\n",
       " 'Lingiari': {'avg_sentiment': 0.09256180174183169, 'n tweets': 18027},\n",
       " 'Longman': {'avg_sentiment': 0.07601924882629109, 'n tweets': 1065},\n",
       " 'Lyne': {'avg_sentiment': 0.14652961352657004, 'n tweets': 2070},\n",
       " 'Lyons': {'avg_sentiment': 0.16224577935222673, 'n tweets': 9880},\n",
       " 'Macarthur': {'avg_sentiment': 0.2085186567164179, 'n tweets': 134},\n",
       " 'Mackellar': {'avg_sentiment': 0.16977712765957445, 'n tweets': 376},\n",
       " 'Macnamara': {'avg_sentiment': 0.3126525121555916, 'n tweets': 1234},\n",
       " 'Macquarie': {'avg_sentiment': 0.1464375111111111, 'n tweets': 3375},\n",
       " 'Makin': {'avg_sentiment': 0.3423319327731092, 'n tweets': 119},\n",
       " 'Mallee': {'avg_sentiment': 0.15745306184012067, 'n tweets': 3315},\n",
       " 'Maranoa': {'avg_sentiment': 0.1768950617283951, 'n tweets': 1296},\n",
       " 'Mayo': {'avg_sentiment': 0.11822983706720978, 'n tweets': 6874},\n",
       " 'McEwen': {'avg_sentiment': 0.20430445378151263, 'n tweets': 1190},\n",
       " 'McMahon': {'avg_sentiment': 0.15444543507725675, 'n tweets': 295120},\n",
       " 'McPherson': {'avg_sentiment': 0.22887687861271677, 'n tweets': 173},\n",
       " 'Melbourne': {'avg_sentiment': 0.28403388581952116, 'n tweets': 2172},\n",
       " 'Menzies': {'avg_sentiment': 0.14231969696969698, 'n tweets': 132},\n",
       " 'Monash': {'avg_sentiment': 0.17848919449901768, 'n tweets': 3054},\n",
       " 'Moncrieff': {'avg_sentiment': 0.2932035190615836, 'n tweets': 341},\n",
       " 'Moore': {'avg_sentiment': 0.17199418604651165, 'n tweets': 86},\n",
       " 'Moreton': {'avg_sentiment': 0.3541165354330709, 'n tweets': 127},\n",
       " 'New England': {'avg_sentiment': 0.18029127324749647, 'n tweets': 3495},\n",
       " 'Newcastle': {'avg_sentiment': 0.2627981818181818, 'n tweets': 220},\n",
       " 'Nicholls': {'avg_sentiment': 0.1374031792273591, 'n tweets': 31580},\n",
       " 'North Sydney': {'avg_sentiment': 0.1940765990639626, 'n tweets': 641},\n",
       " \"O'Connor\": {'avg_sentiment': 0.11357687074829931, 'n tweets': 13818},\n",
       " 'Oxley': {'avg_sentiment': 0.30792427184466026, 'n tweets': 103},\n",
       " 'Page': {'avg_sentiment': 0.06413466622604098, 'n tweets': 3026},\n",
       " 'Parkes': {'avg_sentiment': 0.09929961452375033, 'n tweets': 8042},\n",
       " 'Parramatta': {'avg_sentiment': 0.23333966244725737, 'n tweets': 237},\n",
       " 'Paterson': {'avg_sentiment': 0.07199072496687488, 'n tweets': 5283},\n",
       " 'Pearce': {'avg_sentiment': 0.14076160714285713, 'n tweets': 112},\n",
       " 'Perth': {'avg_sentiment': 0.19749703872437357, 'n tweets': 439},\n",
       " 'Rankin': {'avg_sentiment': 0.09806666666666665, 'n tweets': 24},\n",
       " 'Reid': {'avg_sentiment': 0.22370305084745765, 'n tweets': 295},\n",
       " 'Richmond': {'avg_sentiment': 0.14056313202247192, 'n tweets': 4272},\n",
       " 'Riverina': {'avg_sentiment': 0.20914406461307292, 'n tweets': 2662},\n",
       " 'Robertson': {'avg_sentiment': 0.14126407185628742, 'n tweets': 334},\n",
       " 'Ryan': {'avg_sentiment': 0.24776693548387096, 'n tweets': 248},\n",
       " 'Scullin': {'avg_sentiment': 0.14412051282051283, 'n tweets': 117},\n",
       " 'Shortland': {'avg_sentiment': 0.14385428750097712, 'n tweets': 12793},\n",
       " 'Solomon': {'avg_sentiment': 0.2643780821917808, 'n tweets': 73},\n",
       " 'Spence': {'avg_sentiment': 0.14152202121023083, 'n tweets': 1603},\n",
       " 'Sturt': {'avg_sentiment': 0.2847883333333333, 'n tweets': 180},\n",
       " 'Swan': {'avg_sentiment': 0.2358932384341637, 'n tweets': 281},\n",
       " 'Sydney': {'avg_sentiment': 0.25834875994384654, 'n tweets': 2137},\n",
       " 'Tangney': {'avg_sentiment': 0.19942068965517243, 'n tweets': 58},\n",
       " 'Wannon': {'avg_sentiment': 0.16830921776465854, 'n tweets': 7453},\n",
       " 'Warringah': {'avg_sentiment': 0.22138111111111108, 'n tweets': 360},\n",
       " 'Watson': {'avg_sentiment': 0.12652874692874694, 'n tweets': 814},\n",
       " 'Wentworth': {'avg_sentiment': 0.24435419354838708, 'n tweets': 465},\n",
       " 'Whitlam': {'avg_sentiment': 0.21465454545454546, 'n tweets': 1529},\n",
       " 'Wide Bay': {'avg_sentiment': 0.1922424724602203, 'n tweets': 3268},\n",
       " 'Wills': {'avg_sentiment': 0.23332798165137617, 'n tweets': 218},\n",
       " 'Wright': {'avg_sentiment': 0.11179807611877875, 'n tweets': 2391},\n",
       " 'Banks': {'avg_sentiment': 0.32220312500000003, 'n tweets': 32},\n",
       " 'Dunkley': {'avg_sentiment': 0.24026470588235294, 'n tweets': 85},\n",
       " 'Gorton': {'avg_sentiment': 0.1743513888888889, 'n tweets': 72},\n",
       " 'Greenway': {'avg_sentiment': 0.16677236842105264, 'n tweets': 76},\n",
       " 'Maribyrnong': {'avg_sentiment': 0.29988810483870965, 'n tweets': 496},\n",
       " 'Mitchell': {'avg_sentiment': 0.193978125, 'n tweets': 64},\n",
       " 'Petrie': {'avg_sentiment': 0.38287283950617285, 'n tweets': 81},\n",
       " 'Werriwa': {'avg_sentiment': 0.20242432432432433, 'n tweets': 37}}"
      ]
     },
     "execution_count": 91,
     "metadata": {},
     "output_type": "execute_result"
    }
   ],
   "source": [
    "## Sentiment count of tweets in this time period in this electorate for bar chart purposes\n",
    "\n",
    "electorate_week_avg_sent_pol_sum_count = {}\n",
    "\n",
    "for i in range(len(week_electorate__avgsent['rows'])):\n",
    "    \n",
    "    electorate = week_electorate__avgsent['rows'][i]['key'][1]\n",
    "    if electorate not in electorate_week_avg_sent_pol_sum_count:\n",
    "        electorate_week_avg_sent_pol_sum_count[electorate] = [0, 0]\n",
    "    \n",
    "    electorate_week_avg_sent_pol_sum_count[electorate][0] += week_electorate__avgsent['rows'][i]['value']['sum']\n",
    "    electorate_week_avg_sent_pol_sum_count[electorate][1] += week_electorate__avgsent['rows'][i]['value']['count']\n",
    "\n",
    "electorate_week_avg_sent = {key:{'avg_sentiment':electorate_week_avg_sent_pol_sum_count[key][0]/electorate_week_avg_sent_pol_sum_count[key][1], 'n tweets':electorate_week_avg_sent_pol_sum_count[key][1]} for key in electorate_week_avg_sent_pol_sum_count}\n",
    "electorate_week_avg_sent"
   ]
  },
  {
   "attachments": {},
   "cell_type": "markdown",
   "id": "33381f48",
   "metadata": {},
   "source": []
  },
  {
   "cell_type": "code",
   "execution_count": 113,
   "id": "ce00ad59",
   "metadata": {},
   "outputs": [],
   "source": [
    "## sentiment of tweets for whole Australia by day - for displaying in line graph of the dashboard page\n",
    "weekly_AUS_sentiment_sum_count = {}\n",
    "\n",
    "for i in range(len(week_electorate__avgsent['rows'])):\n",
    "\n",
    "    week = week_electorate__avgsent['rows'][i]['key'][0]\n",
    "    \n",
    "    if week not in weekly_AUS_sentiment_sum_count:\n",
    "        weekly_AUS_sentiment_sum_count[week] = {'sum': 0, 'count': 0}\n",
    "\n",
    "    weekly_AUS_sentiment_sum_count[week]['sum'] += week_electorate__avgsent['rows'][i]['value']['sum']\n",
    "    weekly_AUS_sentiment_sum_count[week]['count'] += week_electorate__avgsent['rows'][i]['value']['count']\n",
    "\n",
    "weekly_AUS_sentiment = {key: weekly_AUS_sentiment_sum_count[key]['sum']/weekly_AUS_sentiment_sum_count[key]['count'] for key in weekly_AUS_sentiment_sum_count}\n"
   ]
  },
  {
   "cell_type": "code",
   "execution_count": 121,
   "id": "96fb6679",
   "metadata": {},
   "outputs": [
    {
     "data": {
      "text/plain": [
       "{-15: 0.14664940045946084,\n",
       " -14: 0.14668559918360569,\n",
       " -13: 0.13473668058430693,\n",
       " -12: 0.1246588534592415,\n",
       " -11: 0.13768629074600744,\n",
       " -10: 0.1387165499790928,\n",
       " -9: 0.13502133555746884,\n",
       " -8: 0.14049444460039856,\n",
       " -7: 0.14570688329876066,\n",
       " -6: 0.14161201799485865,\n",
       " -5: 0.14312148780267167,\n",
       " -4: 0.14540618075241435,\n",
       " -3: 0.15232354205726736,\n",
       " -2: 0.1397039910972202,\n",
       " -1: 0.1464544474946763}"
      ]
     },
     "execution_count": 121,
     "metadata": {},
     "output_type": "execute_result"
    }
   ],
   "source": [
    "weekly_AUS_sentiment"
   ]
  },
  {
   "attachments": {},
   "cell_type": "markdown",
   "id": "a3f92892",
   "metadata": {},
   "source": [
    "***"
   ]
  },
  {
   "attachments": {},
   "cell_type": "markdown",
   "id": "065648c3",
   "metadata": {},
   "source": [
    "## BY WEEK, BY ELECTORATE => AVERAGE SENTIMENT\n",
    "### POLITICAL\n",
    "\n",
    "- DASHBOARD: DISTRIBUTION PAGE: WHOLE AUSTRALIA LINE GRAPH BY WEEK\n",
    "    - pre election\n",
    "    - post election\n",
    "\n",
    "- DASHBOARD: DISTRIBUTION PAGE: SCATTER PLOT OF Y = SENTIMENT X = CHANGED GOVERNING PARTY IN 2022 ELECTION\n",
    "    - 1 week pre election\n",
    "    - 2 week pre election\n",
    "    - 3 week pre election\n",
    "    - 1 week post election\n",
    "    - 2 week post election\n",
    "    - 3 week post election\n",
    "- DASHBOARD: RANKING PAGE: RANK ELECTORATE BY SENTIMENT\n",
    "    - 1 week pre election\n",
    "    - 2 week pre election\n",
    "    - 3 week pre election\n",
    "    - 1 week post election\n",
    "    - 2 week post election\n",
    "    - 3 week post election\n",
    "- DASHBOARD: RANKING PAGE: RANK ELECTORATE BY NUMBER OF TWEETS\n",
    "    - 1 week pre election\n",
    "    - 2 week pre election\n",
    "    - 3 week pre election\n",
    "    - 1 week post election\n",
    "    - 2 week post election\n",
    "    - 3 week post election"
   ]
  },
  {
   "cell_type": "code",
   "execution_count": 81,
   "id": "a4a80b20-8b9d-4175-b991-7edaa7c51a6b",
   "metadata": {},
   "outputs": [],
   "source": [
    "def GET_week_electorate__avgsent__pol(startweek, endweek, username, password):\n",
    "    url = 'http://172.26.133.251:5984/tweet_database/_design/week/_view/week_electorate__avgsent__pol'\n",
    "\n",
    "    # Set the parameters for the GET request\n",
    "    params = {\n",
    "        'group': 'True',\n",
    "        'startkey': f'[{startweek}]',\n",
    "        'endkey': f'[{endweek}]'\n",
    "    }\n",
    "\n",
    "    returned_data_json = make_get_request(username, password, url, params)\n",
    "    \n",
    "    return returned_data_json"
   ]
  },
  {
   "cell_type": "code",
   "execution_count": 87,
   "id": "dea8dcba-552c-4570-af11-acbd2d20b9c3",
   "metadata": {},
   "outputs": [],
   "source": [
    "week_electorate__avgsent__pol = GET_week_electorate__avgsent__pol(-15, 0, username, password) # PRE ELECTION\n",
    "GET_week_electorate__avgsent__pol(0, 20, username, password) # POST ELECTION \n",
    "GET_week_electorate__avgsent__pol(0, 2, username, password) # 1 week POST ELECTION \n",
    "GET_week_electorate__avgsent__pol(0, 3, username, password) # 2 week POST ELECTION\n",
    "GET_week_electorate__avgsent__pol(0, 4, username, password) # 3 week POST ELECTION\n",
    "GET_week_electorate__avgsent__pol(-1, 0, username, password) # 1 week PRE ELECTION \n",
    "GET_week_electorate__avgsent__pol(-2, 0, username, password) # 2 week PRE ELECTION\n",
    "GET_week_electorate__avgsent__pol(-3, 0, username, password) # 3 week PRE ELECTION\n"
   ]
  },
  {
   "attachments": {},
   "cell_type": "markdown",
   "id": "00402f14",
   "metadata": {},
   "source": []
  },
  {
   "cell_type": "code",
   "execution_count": 83,
   "id": "e411d209",
   "metadata": {},
   "outputs": [],
   "source": [
    "## sentiment of tweets for each electorate by week - for displaying in line graph once we click onto electorate\n",
    "weekly_by_electorate_pol_sentiment = {}\n",
    "\n",
    "for i in range(len(week_electorate__avgsent__pol['rows'])):\n",
    "\n",
    "    electorate = week_electorate__avgsent__pol['rows'][i]['key'][1]\n",
    "    if electorate not in weekly_by_electorate_pol_sentiment:\n",
    "        weekly_by_electorate_pol_sentiment[electorate] = {}\n",
    "    \n",
    "    date = week_electorate__avgsent__pol['rows'][i]['key'][0]\n",
    "\n",
    "    weekly_by_electorate_pol_sentiment[electorate][date] = week_electorate__avgsent__pol['rows'][i]['value']['sum']/week_electorate__avgsent__pol['rows'][i]['value']['count']"
   ]
  },
  {
   "cell_type": "code",
   "execution_count": 84,
   "id": "3c41b141",
   "metadata": {},
   "outputs": [
    {
     "data": {
      "text/plain": [
       "dict_keys([-15, -14, -13, -12, -11, -10, -9, -8, -7, -6, -5, -4, -3, -2, -1])"
      ]
     },
     "execution_count": 84,
     "metadata": {},
     "output_type": "execute_result"
    }
   ],
   "source": [
    "weekly_by_electorate_pol_sentiment.get('Adelaide', {}).keys()"
   ]
  },
  {
   "cell_type": "code",
   "execution_count": 85,
   "id": "e21f1706",
   "metadata": {},
   "outputs": [
    {
     "data": {
      "text/plain": [
       "dict_values([0.9349, 0.5154333333333333, 0.49454444444444445, 0.6363125000000001, 0.00843333333333333, 0.4643857142857143, 0.6099, 0.6572333333333333, 0.739325, 0.5667666666666666, 0.422425, 0.4311875, 0.5387727272727273, 0.7411714285714286, 0.09072666666666666])"
      ]
     },
     "execution_count": 85,
     "metadata": {},
     "output_type": "execute_result"
    }
   ],
   "source": [
    "weekly_by_electorate_pol_sentiment.get('Adelaide', {}).values()"
   ]
  },
  {
   "attachments": {},
   "cell_type": "markdown",
   "id": "f896064a",
   "metadata": {},
   "source": []
  },
  {
   "cell_type": "code",
   "execution_count": 28,
   "id": "d2cc3506",
   "metadata": {},
   "outputs": [
    {
     "data": {
      "text/plain": [
       "{'Adelaide': 0.47879320388349517,\n",
       " 'Ballarat': 0.09604587332053742,\n",
       " 'Barker': 0.1368745222929936,\n",
       " 'Barton': -0.03185,\n",
       " 'Bass': 0.13327270471464023,\n",
       " 'Bean': 0.18924285714285716,\n",
       " 'Bendigo': 0.2440960330578513,\n",
       " 'Blair': 0.30086315789473683,\n",
       " 'Blaxland': -0.020776190476190476,\n",
       " 'Bonner': 0.45026666666666665,\n",
       " 'Boothby': 0.18083992678958788,\n",
       " 'Bowman': 0.21097865168539323,\n",
       " 'Braddon': 0.08518762376237625,\n",
       " 'Brisbane': 0.43193766233766234,\n",
       " 'Burt': 0.09934469084268198,\n",
       " 'Calare': 0.03591672200422579,\n",
       " 'Canberra': 0.17303408594319009,\n",
       " 'Capricornia': 0.12475576208178442,\n",
       " 'Casey': 0.13820800000000003,\n",
       " 'Chisholm': 0.3386483870967742,\n",
       " 'Clark': 0.26251891891891893,\n",
       " 'Cooper': 0.3606608695652174,\n",
       " 'Corangamite': 0.16148126315789474,\n",
       " 'Corio': 0.21654433497536946,\n",
       " 'Cowper': 0.1290238738738739,\n",
       " 'Cunningham': 0.2034879258816497,\n",
       " 'Curtin': 0.41796666666666665,\n",
       " 'Dawson': 0.10189625550660791,\n",
       " 'Deakin': 0.5243583333333334,\n",
       " 'Dickson': 0.37930833333333336,\n",
       " 'Dobell': 0.1776373522458629,\n",
       " 'Durack': 0.11326254545454545,\n",
       " 'Eden-Monaro': 0.11384502712477396,\n",
       " 'Fadden': 0.11887238791971488,\n",
       " 'Fairfax': 0.06783322841726619,\n",
       " 'Farrer': 0.1434188741721854,\n",
       " 'Fisher': 0.18124454545454544,\n",
       " 'Flinders': 0.1837223880597015,\n",
       " 'Flynn': 0.11101744548286605,\n",
       " 'Forde': 0.26498374999999996,\n",
       " 'Forrest': 0.20049188034188034,\n",
       " 'Franklin': 0.14036036281179137,\n",
       " 'Fraser': 0.6170058823529412,\n",
       " 'Fremantle': 0.4323166666666667,\n",
       " 'Gellibrand': 0.28502380952380957,\n",
       " 'Gilmore': 0.05449377123442809,\n",
       " 'Gippsland': 0.12566649746192896,\n",
       " 'Goldstein': 0.1317448769103365,\n",
       " 'Grey': 0.0634212868632708,\n",
       " 'Griffith': 0.3463547169811321,\n",
       " 'Groom': 0.26526207951070335,\n",
       " 'Hasluck': 0.2569,\n",
       " 'Hawke': 0.1738510588235294,\n",
       " 'Herbert': 0.11596026252983294,\n",
       " 'Hindmarsh': 0.4767166666666667,\n",
       " 'Hinkler': 0.22494170403587446,\n",
       " 'Hume': 0.16423553719008263,\n",
       " 'Hunter': 0.1515317991631799,\n",
       " 'Indi': 0.2057579457364341,\n",
       " 'Jagajaga': 0.5989277777777777,\n",
       " 'Kennedy': 0.12699126160567997,\n",
       " 'Kooyong': 0.5198115384615384,\n",
       " 'La Trobe': 0.19025310344827587,\n",
       " 'Lalor': 0.5367619047619047,\n",
       " 'Leichhardt': 0.1676154004106776,\n",
       " 'Lilley': 0.09646052992716139,\n",
       " 'Lingiari': 0.06351220588235294,\n",
       " 'Longman': -0.003507284768211905,\n",
       " 'Lyne': 0.15118363636363635,\n",
       " 'Lyons': 0.08764847328244275,\n",
       " 'Macarthur': 0.4900357142857143,\n",
       " 'Mackellar': 0.15769999999999998,\n",
       " 'Macnamara': 0.4921506024096385,\n",
       " 'Macquarie': 0.1017286266924565,\n",
       " 'Makin': 0.64602,\n",
       " 'Mallee': 0.14647835616438354,\n",
       " 'Maranoa': 0.28833513513513515,\n",
       " 'Mayo': 0.23883006289308184,\n",
       " 'McMahon': 0.13917737304057654,\n",
       " 'McPherson': 0.14371428571428568,\n",
       " 'Melbourne': 0.39082679425837313,\n",
       " 'Monash': 0.17615079872204475,\n",
       " 'Moncrieff': 0.3240814814814815,\n",
       " 'Moreton': 0.6050171875000001,\n",
       " 'New England': 0.22637244897959183,\n",
       " 'Nicholls': 0.12034027368421053,\n",
       " 'North Sydney': 0.2416873684210526,\n",
       " \"O'Connor\": 0.03066189962223421,\n",
       " 'Page': 0.0667643391521197,\n",
       " 'Parkes': 0.08672837150127226,\n",
       " 'Parramatta': 0.2616290322580645,\n",
       " 'Paterson': 0.07297262996941896,\n",
       " 'Pearce': 0.21448750000000003,\n",
       " 'Reid': 0.24052857142857145,\n",
       " 'Richmond': 0.15526754966887418,\n",
       " 'Riverina': 0.1752831615120275,\n",
       " 'Ryan': 0.4227083333333334,\n",
       " 'Scullin': 0.2570266666666666,\n",
       " 'Shortland': 0.16313219575016097,\n",
       " 'Spence': 0.09432740740740742,\n",
       " 'Sturt': 0.24257333333333328,\n",
       " 'Swan': 0.41648518518518524,\n",
       " 'Sydney': 0.315543227665706,\n",
       " 'Wannon': 0.14955752143413872,\n",
       " 'Watson': 0.19926914893617018,\n",
       " 'Wentworth': 0.36702340425531915,\n",
       " 'Whitlam': 0.14402554744525548,\n",
       " 'Wide Bay': 0.1593735294117647,\n",
       " 'Wright': 0.05244117647058823,\n",
       " 'Aston': 0.22985555555555554,\n",
       " 'Bennelong': 0.23929310344827587,\n",
       " 'Berowra': 0.3720083333333333,\n",
       " 'Bradfield': 0.18072,\n",
       " 'Fenner': 0.3277863636363636,\n",
       " 'Higgins': 0.22136960784313725,\n",
       " 'Hughes': 0.3462090909090909,\n",
       " 'Isaacs': 0.3548033333333333,\n",
       " 'Kingsford Smith': 0.35136551724137927,\n",
       " 'Lindsay': 0.6380454545454545,\n",
       " 'Maribyrnong': 0.35923561643835616,\n",
       " 'McEwen': 0.22850043103448278,\n",
       " 'Moore': 0.31245000000000006,\n",
       " 'Perth': 0.416895744680851,\n",
       " 'Robertson': 0.23603749999999998,\n",
       " 'Solomon': 0.66677,\n",
       " 'Warringah': 0.4075075,\n",
       " 'Wills': 0.45907333333333333,\n",
       " 'Banks': 0.49304000000000003,\n",
       " 'Bruce': -0.3524333333333334,\n",
       " 'Calwell': 0.19791666666666666,\n",
       " 'Canning': 0.3830285714285715,\n",
       " 'Fowler': 0.4510333333333333,\n",
       " 'Grayndler': 0.2625985294117647,\n",
       " 'Kingston': 0.08215555555555554,\n",
       " 'Newcastle': 0.22166086956521736,\n",
       " 'Oxley': 0.3932555555555556,\n",
       " 'Brand': 0.42290799999999995,\n",
       " 'Dunkley': 0.31808181818181813,\n",
       " 'Hotham': 0.43299166666666666,\n",
       " 'Menzies': 0.31777272727272726,\n",
       " 'Mitchell': -0.05066666666666666,\n",
       " 'Petrie': 0.6474928571428571,\n",
       " 'Chifley': 0.03887500000000001,\n",
       " 'Tangney': 0.36185,\n",
       " 'Werriwa': 0.6854,\n",
       " 'Gorton': 0.5093666666666666,\n",
       " 'Greenway': 0.43445,\n",
       " 'Holt': 0.44200000000000006,\n",
       " 'Rankin': 0.6982333333333334,\n",
       " 'Cook': 0.50615,\n",
       " 'Cowan': 0.0}"
      ]
     },
     "execution_count": 28,
     "metadata": {},
     "output_type": "execute_result"
    }
   ],
   "source": [
    "## Sentiment count of tweets in this time period in this electorate for bar chart purposes\n",
    "\n",
    "electorate_week_avg_sent_pol_sum_count = {}\n",
    "\n",
    "for i in range(len(week_electorate__avgsent__pol['rows'])):\n",
    "    \n",
    "    electorate = week_electorate__avgsent__pol['rows'][i]['key'][1]\n",
    "    if electorate not in electorate_week_avg_sent_pol_sum_count:\n",
    "        electorate_week_avg_sent_pol_sum_count[electorate] = [0, 0]\n",
    "    \n",
    "    electorate_week_avg_sent_pol_sum_count[electorate][0] += week_electorate__avgsent__pol['rows'][i]['value']['sum']\n",
    "    electorate_week_avg_sent_pol_sum_count[electorate][1] += week_electorate__avgsent__pol['rows'][i]['value']['count']\n",
    "\n",
    "electorate_week_avg_sent_pol = {key:electorate_week_avg_sent_pol_sum_count[key][0]/electorate_week_avg_sent_pol_sum_count[key][1] for key in electorate_week_avg_sent_pol_sum_count}\n",
    "electorate_week_avg_sent_pol"
   ]
  },
  {
   "cell_type": "code",
   "execution_count": null,
   "id": "e8a43b29",
   "metadata": {},
   "outputs": [],
   "source": []
  },
  {
   "cell_type": "code",
   "execution_count": 115,
   "id": "cd9c3362",
   "metadata": {},
   "outputs": [],
   "source": [
    "## sentiment of tweets for whole Australia by day - for displaying in line graph of the dashboard page\n",
    "weekly_AUS_sentiment_pol_sum_count = {}\n",
    "\n",
    "for i in range(len(week_electorate__avgsent__pol['rows'])):\n",
    "\n",
    "    week = week_electorate__avgsent__pol['rows'][i]['key'][0]\n",
    "    \n",
    "    if week not in weekly_AUS_sentiment_pol_sum_count:\n",
    "        weekly_AUS_sentiment_pol_sum_count[week] = {'sum': 0, 'count': 0}\n",
    "\n",
    "    weekly_AUS_sentiment_pol_sum_count[week]['sum'] += week_electorate__avgsent__pol['rows'][i]['value']['sum']\n",
    "    weekly_AUS_sentiment_pol_sum_count[week]['count'] += week_electorate__avgsent__pol['rows'][i]['value']['count']\n",
    "\n",
    "weekly_AUS_sentiment_pol = {key: weekly_AUS_sentiment_pol_sum_count[key]['sum']/weekly_AUS_sentiment_pol_sum_count[key]['count'] for key in weekly_AUS_sentiment_pol_sum_count}\n"
   ]
  },
  {
   "attachments": {},
   "cell_type": "markdown",
   "id": "bf85aef3",
   "metadata": {},
   "source": [
    "***"
   ]
  },
  {
   "attachments": {},
   "cell_type": "markdown",
   "id": "4c607015",
   "metadata": {},
   "source": [
    "## NUMBER OF POLITICAL TWEETS, NUMBER OF TWEETS, PERCENTAGE OF POLITICAL TWEETS\n",
    "\n",
    "- DASHBOARD: DISTRIUTION: TABLE COMPARING TWEET AND TOOT"
   ]
  },
  {
   "cell_type": "code",
   "execution_count": null,
   "id": "86fad183",
   "metadata": {},
   "outputs": [],
   "source": [
    "def GET_tweet_political(username, password):\n",
    "    url = 'http://172.26.133.251:5984/tweet_database/_design/political/_view/political'\n",
    "\n",
    "    returned_data_json = make_get_request(username, password, url)\n",
    "    \n",
    "    return returned_data_json"
   ]
  },
  {
   "cell_type": "code",
   "execution_count": null,
   "id": "2a890aa0",
   "metadata": {},
   "outputs": [
    {
     "name": "stdout",
     "output_type": "stream",
     "text": [
      "0.032476186752319336\n"
     ]
    }
   ],
   "source": [
    "tweet_political = GET_tweet_political(username, password)"
   ]
  },
  {
   "cell_type": "code",
   "execution_count": null,
   "id": "485d521e",
   "metadata": {},
   "outputs": [
    {
     "data": {
      "text/plain": [
       "{'sum': 307585, 'count': 2517277, 'mean': 0.12218957230372343}"
      ]
     },
     "metadata": {},
     "output_type": "display_data"
    }
   ],
   "source": [
    "## Number of tweets that are political - for the TWEET VS TOOT\n",
    "tweet_political_stats = {'sum': tweet_political['rows'][0]['value']['sum'], \n",
    "    'count': tweet_political['rows'][0]['value']['count'], \n",
    "    'mean': tweet_political['rows'][0]['value']['sum']/tweet_political['rows'][0]['value']['count']}\n",
    "\n",
    "tweet_political_stats"
   ]
  },
  {
   "attachments": {},
   "cell_type": "markdown",
   "id": "0dcd4a92",
   "metadata": {},
   "source": []
  },
  {
   "attachments": {},
   "cell_type": "markdown",
   "id": "47df840f",
   "metadata": {},
   "source": [
    "## NUMBER OF PARTIAL MATCH TOOT, NUMBER OF TOOTS, PERCENTAGE OF PARTIAL MATCH TOOTS\n",
    "\n",
    "- DASHBOARD: DISTRIUTION: TABLE COMPARING TWEET AND TOOT"
   ]
  },
  {
   "cell_type": "code",
   "execution_count": null,
   "id": "0c26e45a",
   "metadata": {},
   "outputs": [],
   "source": [
    "def GET_toot_partial_match(username, password):\n",
    "    url = 'http://172.26.133.251:5984/toot_database/_design/partial_match/_view/partial_match'\n",
    "\n",
    "    returned_data_json = make_get_request(username, password, url)\n",
    "    \n",
    "    return returned_data_json"
   ]
  },
  {
   "cell_type": "code",
   "execution_count": null,
   "id": "c66117c3",
   "metadata": {},
   "outputs": [
    {
     "name": "stdout",
     "output_type": "stream",
     "text": [
      "0.14587783813476562\n"
     ]
    }
   ],
   "source": [
    "toot_partial_match = GET_toot_partial_match(username, password)"
   ]
  },
  {
   "cell_type": "code",
   "execution_count": null,
   "id": "8d264922",
   "metadata": {},
   "outputs": [
    {
     "data": {
      "text/plain": [
       "{'sum': 297297, 'count': 389455, 'mean': 0.7633667561078944}"
      ]
     },
     "metadata": {},
     "output_type": "display_data"
    }
   ],
   "source": [
    "## Number of toots that are partial_match\n",
    "toot_political_stats = {'sum': toot_partial_match['rows'][0]['value']['sum'], \n",
    "    'count': toot_partial_match['rows'][0]['value']['count'], \n",
    "    'mean': toot_partial_match['rows'][0]['value']['sum']/toot_partial_match['rows'][0]['value']['count']}\n",
    "\n",
    "toot_political_stats\n",
    "\n",
    "# REMEMBER: WHEN PRESENTING SUM FOR NON-PARTIAL MATCH (== EXACT MATCH): USE COUNT-SUM INSTAED OF SUM, AND 1-MEAN INSTEAD OF MEAN\n",
    "# THIS IS BECAUSE SUM AND MEAN ARE CURRENTLY FOR PARTIAL MATCH"
   ]
  },
  {
   "attachments": {},
   "cell_type": "markdown",
   "id": "566efaef",
   "metadata": {},
   "source": [
    "***\n",
    "***"
   ]
  },
  {
   "attachments": {},
   "cell_type": "markdown",
   "id": "d01cf7c8-c753-45e3-bf60-89c80c0c6f50",
   "metadata": {},
   "source": [
    "# QUERY"
   ]
  },
  {
   "attachments": {},
   "cell_type": "markdown",
   "id": "b24d167d",
   "metadata": {},
   "source": [
    "## RETURN TOP 5 POSITIVE QUERY FOR A CERTAIN ELECTORATE (WHOLE TIME PERIOD)\n",
    "\n",
    "### POLITICAL"
   ]
  },
  {
   "cell_type": "code",
   "execution_count": 61,
   "id": "d1f4966a-eff1-4706-b9ba-30412ca23297",
   "metadata": {},
   "outputs": [],
   "source": [
    "def make_post_request(username, password, url, request_body):\n",
    "    \"\"\" Helper to make the POST request using the \n",
    "            username - str\n",
    "            password - str\n",
    "            url - str (e.g. http://172.26.133.251:5984/tweet_database__electorate/_partition/Adelaide/_find)\n",
    "            params - dict (e.g. {\"selector\": {\"is_political\": {\"$eq\": 1}},\"sort\": [{\"pos_score\": \"desc\"}],\"limit\": top_k})\"\"\"\n",
    "\n",
    "    start = time.time()\n",
    "    \n",
    "    # Set the authentication credentials\n",
    "    auth = (username, password)\n",
    "\n",
    "    # Send GET request using requests library\n",
    "    response = requests.post(url, json=request_body, auth=auth)\n",
    "    \n",
    "    end = time.time()\n",
    "    print(end-start)\n",
    "\n",
    "    if response.ok:\n",
    "        return response.json()\n",
    "    else:\n",
    "        return 'Error: '+ response.status_code"
   ]
  },
  {
   "cell_type": "code",
   "execution_count": 62,
   "id": "9af922a8",
   "metadata": {},
   "outputs": [],
   "source": [
    "def get_top_pos_tweets(username, password, electorate, top_k = 5):\n",
    "\n",
    "    electorate = electorate.lower()\n",
    "    electorate = electorate[0].upper() + electorate[1:]\n",
    "\n",
    "    url = f\"http://172.26.133.251:5984/tweet_database__electorate/_partition/{electorate}/_find\"\n",
    "    \n",
    "    request_body = {\n",
    "            \"selector\": {\n",
    "                \"is_political\": {\n",
    "                    \"$eq\": 1\n",
    "                }\n",
    "            },\n",
    "        \"sort\": [\n",
    "            {\n",
    "                \"pos_score\": \"desc\"\n",
    "            }\n",
    "        ],\n",
    "        \"limit\": top_k\n",
    "    }\n",
    "\n",
    "    returned_json_data = make_post_request(username, password, url, request_body)\n",
    "\n",
    "    return returned_json_data"
   ]
  },
  {
   "cell_type": "code",
   "execution_count": 73,
   "id": "6fbb319b",
   "metadata": {},
   "outputs": [
    {
     "name": "stdout",
     "output_type": "stream",
     "text": [
      "0.7389249801635742\n"
     ]
    }
   ],
   "source": [
    "top_5_pos_tweets = get_top_pos_tweets(username, password, 'Hawke')"
   ]
  },
  {
   "cell_type": "code",
   "execution_count": 74,
   "id": "141c1d31",
   "metadata": {},
   "outputs": [
    {
     "data": {
      "text/plain": [
       "[{'author': '2379569784',\n",
       "  'tweet_id': '1555850910303105024',\n",
       "  'date': '2022-08-06 00:00:00',\n",
       "  'text': '@SEN_track Lol great sharing tips after the race. Champion',\n",
       "  'pos_score': 0.731,\n",
       "  'compound_score': 0.9274},\n",
       " {'author': '42614726',\n",
       "  'tweet_id': '1514869256055234561',\n",
       "  'date': '2022-04-15 00:00:00',\n",
       "  'text': '@thehubrispanda Embrace it? I love it',\n",
       "  'pos_score': 0.684,\n",
       "  'compound_score': 0.7579},\n",
       " {'author': '42614726',\n",
       "  'tweet_id': '1514628728571060225',\n",
       "  'date': '2022-04-14 00:00:00',\n",
       "  'text': '@greeneyed_meg With joy?',\n",
       "  'pos_score': 0.655,\n",
       "  'compound_score': 0.5859},\n",
       " {'author': '42614726',\n",
       "  'tweet_id': '1551765471879237633',\n",
       "  'date': '2022-07-26 00:00:00',\n",
       "  'text': '@Danak65 You party animal. Lol',\n",
       "  'pos_score': 0.647,\n",
       "  'compound_score': 0.6705},\n",
       " {'author': '25810377',\n",
       "  'tweet_id': '1523261619614076930',\n",
       "  'date': '2022-05-08 00:00:00',\n",
       "  'text': 'Hope all the wonderful mums out there had a great day! \\nHappy Mothers Day x',\n",
       "  'pos_score': 0.62,\n",
       "  'compound_score': 0.9402}]"
      ]
     },
     "metadata": {},
     "output_type": "display_data"
    }
   ],
   "source": [
    "## TOP 5 POS TWEETS OF AN ELECTORATE\n",
    "\n",
    "if type(top_5_pos_tweets) is dict:\n",
    "    cleaned_tweet_list = []\n",
    "    for i in range(len(top_5_pos_tweets['docs'])):\n",
    "        cleaned_tweet = {}\n",
    "        cleaned_tweet['author'] = top_5_pos_tweets['docs'][i]['author_id']\n",
    "        cleaned_tweet['tweet_id'] = top_5_pos_tweets['docs'][i]['_id'].split(':')[1]\n",
    "        cleaned_tweet['date'] = top_5_pos_tweets['docs'][i]['date']\n",
    "        cleaned_tweet['text'] = top_5_pos_tweets['docs'][i]['text']\n",
    "        cleaned_tweet['pos_score'] = top_5_pos_tweets['docs'][i]['pos_score']\n",
    "        cleaned_tweet['compound_score'] = top_5_pos_tweets['docs'][i]['compound_score']\n",
    "\n",
    "        cleaned_tweet_list.append(cleaned_tweet)\n",
    "\n",
    "    display(cleaned_tweet_list)\n",
    "\n",
    "else:\n",
    "    print(top_5_pos_tweets)"
   ]
  },
  {
   "attachments": {},
   "cell_type": "markdown",
   "id": "d739c450",
   "metadata": {},
   "source": [
    "## RETURN TOP 5 NEGATIVE QUERY FOR A CERTAIN ELECTORATE (WHOLE TIME PERIOD)\n",
    "### POLITICAL"
   ]
  },
  {
   "cell_type": "code",
   "execution_count": 75,
   "id": "43e42824-f14d-4b34-9636-748467851f10",
   "metadata": {},
   "outputs": [],
   "source": [
    "def get_top_neg_tweets(username, password, electorate, top_k = 5):\n",
    "\n",
    "    electorate = electorate.lower()\n",
    "    electorate = electorate[0].upper() + electorate[1:]\n",
    "\n",
    "    url = f\"http://172.26.133.251:5984/tweet_database__electorate/_partition/{electorate}/_find\"\n",
    "    \n",
    "    request_body = {\n",
    "            \"selector\": {\n",
    "                \"is_political\": {\n",
    "                    \"$eq\": 1\n",
    "                }\n",
    "            },\n",
    "        \"sort\": [\n",
    "            {\n",
    "                \"neg_score\": \"desc\"\n",
    "            }\n",
    "        ],\n",
    "        \"limit\": top_k\n",
    "    }\n",
    "\n",
    "    returned_json_data = make_post_request(username, password, url, request_body)\n",
    "\n",
    "    return returned_json_data"
   ]
  },
  {
   "cell_type": "code",
   "execution_count": 76,
   "id": "24ea20e9",
   "metadata": {},
   "outputs": [
    {
     "name": "stdout",
     "output_type": "stream",
     "text": [
      "0.16455984115600586\n"
     ]
    }
   ],
   "source": [
    "top_5_neg_tweets = get_top_neg_tweets(username, password, 'Hawke')"
   ]
  },
  {
   "cell_type": "code",
   "execution_count": 77,
   "id": "9b8b530e",
   "metadata": {},
   "outputs": [
    {
     "data": {
      "text/plain": [
       "[{'author': '42614726',\n",
       "  'tweet_id': '1513745510556790793',\n",
       "  'date': '2022-04-12 00:00:00',\n",
       "  'text': '@greeneyed_meg Shit',\n",
       "  'neg_score': 0.783,\n",
       "  'compound_score': -0.5574},\n",
       " {'author': '399227325',\n",
       "  'tweet_id': '1491977971053199362',\n",
       "  'date': '2022-02-11 00:00:00',\n",
       "  'text': '@Big_T_2 Disgrace',\n",
       "  'neg_score': 0.762,\n",
       "  'compound_score': -0.4939},\n",
       " {'author': '399227325',\n",
       "  'tweet_id': '1522544142907105280',\n",
       "  'date': '2022-05-06 00:00:00',\n",
       "  'text': '@Big_T_2 Oh no that’s a disgrace',\n",
       "  'neg_score': 0.643,\n",
       "  'compound_score': -0.6597},\n",
       " {'author': '260164102',\n",
       "  'tweet_id': '1517381436990705664',\n",
       "  'date': '2022-04-22 00:00:00',\n",
       "  'text': '@ScottMorrisonMP always goes missing, a gross failure of leadership at all times! https://t.co/CMpYbXinSg',\n",
       "  'neg_score': 0.497,\n",
       "  'compound_score': -0.8356},\n",
       " {'author': '1079460042644967424',\n",
       "  'tweet_id': '1491636097448767493',\n",
       "  'date': '2022-02-10 00:00:00',\n",
       "  'text': '@AdamBandt Bullshit you shit canned the Labor party',\n",
       "  'neg_score': 0.49,\n",
       "  'compound_score': -0.6908}]"
      ]
     },
     "metadata": {},
     "output_type": "display_data"
    }
   ],
   "source": [
    "## TOP 5 POS TWEETS OF AN ELECTORATE\n",
    "if type(top_5_neg_tweets) is dict:\n",
    "    cleaned_tweet_list = []\n",
    "    for i in range(len(top_5_neg_tweets['docs'])):\n",
    "        cleaned_tweet = {}\n",
    "        cleaned_tweet['author'] = top_5_neg_tweets['docs'][i]['author_id']\n",
    "        cleaned_tweet['tweet_id'] = top_5_neg_tweets['docs'][i]['_id'].split(':')[1]\n",
    "        cleaned_tweet['date'] = top_5_neg_tweets['docs'][i]['date']\n",
    "        cleaned_tweet['text'] = top_5_neg_tweets['docs'][i]['text']\n",
    "        cleaned_tweet['neg_score'] = top_5_neg_tweets['docs'][i]['neg_score']\n",
    "        cleaned_tweet['compound_score'] = top_5_neg_tweets['docs'][i]['compound_score']\n",
    "\n",
    "        cleaned_tweet_list.append(cleaned_tweet)\n",
    "\n",
    "    display(cleaned_tweet_list)\n",
    "\n",
    "else:\n",
    "    print(top_5_neg_tweets)"
   ]
  },
  {
   "attachments": {},
   "cell_type": "markdown",
   "id": "c2dbfb3b",
   "metadata": {},
   "source": [
    "## RETURN TOP 5 POSITIVE QUERY FOR A CERTAIN ELECTORATE (WHOLE TIME PERIOD)"
   ]
  },
  {
   "cell_type": "code",
   "execution_count": 65,
   "id": "49e8796b",
   "metadata": {},
   "outputs": [],
   "source": [
    "def make_post_request(username, password, url, request_body):\n",
    "    \"\"\" Helper to make the POST request using the \n",
    "            username - str\n",
    "            password - str\n",
    "            url - str (e.g. http://172.26.133.251:5984/tweet_database__electorate/_partition/Adelaide/_find)\n",
    "            params - dict (e.g. {\"selector\": {\"is_political\": {\"$eq\": 1}},\"sort\": [{\"pos_score\": \"desc\"}],\"limit\": top_k})\"\"\"\n",
    "\n",
    "    start = time.time()\n",
    "    \n",
    "    # Set the authentication credentials\n",
    "    auth = (username, password)\n",
    "\n",
    "    # Send GET request using requests library\n",
    "    response = requests.post(url, json=request_body, auth=auth)\n",
    "    \n",
    "    end = time.time()\n",
    "    print(end-start)\n",
    "\n",
    "    if response.ok:\n",
    "        return response.json()\n",
    "    else:\n",
    "        return 'Error: '+ response.status_code"
   ]
  },
  {
   "cell_type": "code",
   "execution_count": 78,
   "id": "07dec600",
   "metadata": {},
   "outputs": [],
   "source": [
    "def get_top_pos_tweets(username, password, electorate, top_k = 5):\n",
    "\n",
    "    electorate = electorate.lower()\n",
    "    electorate = electorate[0].upper() + electorate[1:]\n",
    "\n",
    "    url = f\"http://172.26.133.251:5984/tweet_database__electorate/_partition/{electorate}/_find\"\n",
    "    \n",
    "    request_body = {\n",
    "            \"selector\": {\n",
    "            },\n",
    "        \"sort\": [\n",
    "            {\n",
    "                \"pos_score\": \"desc\"\n",
    "            }\n",
    "        ],\n",
    "        \"limit\": top_k\n",
    "    }\n",
    "\n",
    "    returned_json_data = make_post_request(username, password, url, request_body)\n",
    "\n",
    "    return returned_json_data"
   ]
  },
  {
   "cell_type": "code",
   "execution_count": 79,
   "id": "12ba6aed",
   "metadata": {},
   "outputs": [
    {
     "name": "stdout",
     "output_type": "stream",
     "text": [
      "0.03566694259643555\n"
     ]
    }
   ],
   "source": [
    "top_5_pos_tweets = get_top_pos_tweets(username, password, 'Hawke')"
   ]
  },
  {
   "cell_type": "code",
   "execution_count": 80,
   "id": "49e46226",
   "metadata": {},
   "outputs": [
    {
     "data": {
      "text/plain": [
       "[{'author': '1314095499914309633',\n",
       "  'tweet_id': '1517936539648819206',\n",
       "  'date': '2022-04-23 00:00:00',\n",
       "  'text': 'Active',\n",
       "  'pos_score': 1.0,\n",
       "  'compound_score': 0.4019},\n",
       " {'author': '1251446049694081024',\n",
       "  'tweet_id': '1516775888045543426',\n",
       "  'date': '2022-04-20 00:00:00',\n",
       "  'text': '@barb_avon Awesome! :)',\n",
       "  'pos_score': 0.881,\n",
       "  'compound_score': 0.8122},\n",
       " {'author': '2500702068',\n",
       "  'tweet_id': '1538676469538299904',\n",
       "  'date': '2022-06-20 00:00:00',\n",
       "  'text': '@HoseokiSunshine Thanks beautiful 😍',\n",
       "  'pos_score': 0.872,\n",
       "  'compound_score': 0.7783},\n",
       " {'author': '88875152',\n",
       "  'tweet_id': '1493498959406710785',\n",
       "  'date': '2022-02-15 00:00:00',\n",
       "  'text': 'Fantastic opportunities ahead!',\n",
       "  'pos_score': 0.867,\n",
       "  'compound_score': 0.7574},\n",
       " {'author': '879100212',\n",
       "  'tweet_id': '1543120177260535810',\n",
       "  'date': '2022-07-02 00:00:00',\n",
       "  'text': '@TSBellaKnight Wow stunning 😍',\n",
       "  'pos_score': 0.865,\n",
       "  'compound_score': 0.7506}]"
      ]
     },
     "metadata": {},
     "output_type": "display_data"
    }
   ],
   "source": [
    "## TOP 5 POS TWEETS OF AN ELECTORATE\n",
    "\n",
    "if type(top_5_pos_tweets) is dict:\n",
    "    cleaned_tweet_list = []\n",
    "    for i in range(len(top_5_pos_tweets['docs'])):\n",
    "        cleaned_tweet = {}\n",
    "        cleaned_tweet['author'] = top_5_pos_tweets['docs'][i]['author_id']\n",
    "        cleaned_tweet['tweet_id'] = top_5_pos_tweets['docs'][i]['_id'].split(':')[1]\n",
    "        cleaned_tweet['date'] = top_5_pos_tweets['docs'][i]['date']\n",
    "        cleaned_tweet['text'] = top_5_pos_tweets['docs'][i]['text']\n",
    "        cleaned_tweet['pos_score'] = top_5_pos_tweets['docs'][i]['pos_score']\n",
    "        cleaned_tweet['compound_score'] = top_5_pos_tweets['docs'][i]['compound_score']\n",
    "\n",
    "        cleaned_tweet_list.append(cleaned_tweet)\n",
    "\n",
    "    display(cleaned_tweet_list)\n",
    "\n",
    "else:\n",
    "    print(top_5_pos_tweets)"
   ]
  },
  {
   "attachments": {},
   "cell_type": "markdown",
   "id": "a26bfd57",
   "metadata": {},
   "source": [
    "## RETURN TOP 5 NEGATIVE QUERY FOR A CERTAIN ELECTORATE (WHOLE TIME PERIOD)"
   ]
  },
  {
   "cell_type": "code",
   "execution_count": 82,
   "id": "e8c06f49",
   "metadata": {},
   "outputs": [],
   "source": [
    "def get_top_neg_tweets(username, password, electorate, top_k = 5):\n",
    "\n",
    "    electorate = electorate.lower()\n",
    "    electorate = electorate[0].upper() + electorate[1:]\n",
    "\n",
    "    url = f\"http://172.26.133.251:5984/tweet_database__electorate/_partition/{electorate}/_find\"\n",
    "    \n",
    "    request_body = {\n",
    "            \"selector\": {\n",
    "            },\n",
    "        \"sort\": [\n",
    "            {\n",
    "                \"neg_score\": \"desc\"\n",
    "            }\n",
    "        ],\n",
    "        \"limit\": top_k\n",
    "    }\n",
    "\n",
    "    returned_json_data = make_post_request(username, password, url, request_body)\n",
    "\n",
    "    return returned_json_data"
   ]
  },
  {
   "cell_type": "code",
   "execution_count": 83,
   "id": "2df275e1",
   "metadata": {},
   "outputs": [
    {
     "name": "stdout",
     "output_type": "stream",
     "text": [
      "0.11432409286499023\n"
     ]
    }
   ],
   "source": [
    "top_5_neg_tweets = get_top_neg_tweets(username, password, 'Hawke')"
   ]
  },
  {
   "cell_type": "code",
   "execution_count": 84,
   "id": "227eb3b9",
   "metadata": {},
   "outputs": [
    {
     "data": {
      "text/plain": [
       "[{'author': '1361501882707927045',\n",
       "  'tweet_id': '1507947941805555713',\n",
       "  'date': '2022-03-27 00:00:00',\n",
       "  'text': '@KleinRevd @JaneCaro Bloody Hell!',\n",
       "  'neg_score': 0.796,\n",
       "  'compound_score': -0.8313},\n",
       " {'author': '1251446049694081024',\n",
       "  'tweet_id': '1509267030813261824',\n",
       "  'date': '2022-03-30 00:00:00',\n",
       "  'text': '@domingoladron Horrible!',\n",
       "  'neg_score': 0.791,\n",
       "  'compound_score': -0.5848},\n",
       " {'author': '42614726',\n",
       "  'tweet_id': '1513745510556790793',\n",
       "  'date': '2022-04-12 00:00:00',\n",
       "  'text': '@greeneyed_meg Shit',\n",
       "  'neg_score': 0.783,\n",
       "  'compound_score': -0.5574},\n",
       " {'author': '399227325',\n",
       "  'tweet_id': '1491977971053199362',\n",
       "  'date': '2022-02-11 00:00:00',\n",
       "  'text': '@Big_T_2 Disgrace',\n",
       "  'neg_score': 0.762,\n",
       "  'compound_score': -0.4939},\n",
       " {'author': '38158179',\n",
       "  'tweet_id': '1543206487128162304',\n",
       "  'date': '2022-07-02 00:00:00',\n",
       "  'text': 'Poor north.',\n",
       "  'neg_score': 0.756,\n",
       "  'compound_score': -0.4767}]"
      ]
     },
     "metadata": {},
     "output_type": "display_data"
    }
   ],
   "source": [
    "## TOP 5 POS TWEETS OF AN ELECTORATE\n",
    "if type(top_5_neg_tweets) is dict:\n",
    "    cleaned_tweet_list = []\n",
    "    for i in range(len(top_5_neg_tweets['docs'])):\n",
    "        cleaned_tweet = {}\n",
    "        cleaned_tweet['author'] = top_5_neg_tweets['docs'][i]['author_id']\n",
    "        cleaned_tweet['tweet_id'] = top_5_neg_tweets['docs'][i]['_id'].split(':')[1]\n",
    "        cleaned_tweet['date'] = top_5_neg_tweets['docs'][i]['date']\n",
    "        cleaned_tweet['text'] = top_5_neg_tweets['docs'][i]['text']\n",
    "        cleaned_tweet['neg_score'] = top_5_neg_tweets['docs'][i]['neg_score']\n",
    "        cleaned_tweet['compound_score'] = top_5_neg_tweets['docs'][i]['compound_score']\n",
    "\n",
    "        cleaned_tweet_list.append(cleaned_tweet)\n",
    "\n",
    "    display(cleaned_tweet_list)\n",
    "\n",
    "else:\n",
    "    print(top_5_neg_tweets)"
   ]
  },
  {
   "attachments": {},
   "cell_type": "markdown",
   "id": "b3da496f",
   "metadata": {},
   "source": [
    "***\n",
    "***\n",
    "***"
   ]
  },
  {
   "attachments": {},
   "cell_type": "markdown",
   "id": "d3ef23cf",
   "metadata": {},
   "source": [
    "# PLS IGNORE: TESTING WHETHER QUERY ON NON PARTITION DATABASE CAN WORK"
   ]
  },
  {
   "cell_type": "code",
   "execution_count": 70,
   "id": "c3314eee",
   "metadata": {},
   "outputs": [],
   "source": [
    "\n",
    "\n",
    "# def get_top_pos_tweets(username, password, electorate, top_k = 5):\n",
    "\n",
    "#     electorate = electorate.lower()\n",
    "#     electorate = electorate[0].upper() + electorate[1:]\n",
    "\n",
    "#     url = f\"http://172.26.133.251:5984/tweet_database/_find\"\n",
    "    \n",
    "#     request_body = {\n",
    "#             \"selector\": {\n",
    "#                 \"is_political\": {\n",
    "#                     \"$eq\": 1\n",
    "#                 }\n",
    "#             },\n",
    "#         \"sort\": [\n",
    "#             {\n",
    "#                 \"pos_score\": \"desc\"\n",
    "#             }\n",
    "#         ],\n",
    "#         \"limit\": top_k\n",
    "#     }\n",
    "\n",
    "#     returned_json_data = make_post_request(username, password, url, request_body)\n",
    "\n",
    "#     return returned_json_data"
   ]
  },
  {
   "cell_type": "code",
   "execution_count": 72,
   "id": "c3daf2e2",
   "metadata": {},
   "outputs": [
    {
     "name": "stdout",
     "output_type": "stream",
     "text": [
      "0.1917569637298584\n"
     ]
    },
    {
     "data": {
      "text/plain": [
       "{'docs': [{'_id': '1503279351277965313',\n",
       "   '_rev': '1-150a0137321b1c9261ecf342c03fe7cb',\n",
       "   'author_id': '3277827936',\n",
       "   'date': '2022-03-14 00:00:00',\n",
       "   'text': '💜 Grace 💜',\n",
       "   'is_political': 1,\n",
       "   'neg_score': 0.0,\n",
       "   'neu_score': 0.0,\n",
       "   'pos_score': 1.0,\n",
       "   'compound_score': 0.4215,\n",
       "   'sentiment': 1,\n",
       "   'electorate': 'Lilley',\n",
       "   'week': -10},\n",
       "  {'_id': '1502674069766176768',\n",
       "   '_rev': '1-fb6fa1999ac83951dc02298886b8eaf8',\n",
       "   'author_id': '61980537',\n",
       "   'date': '2022-03-12 00:00:00',\n",
       "   'text': 'Emotional freedom, please?',\n",
       "   'is_political': 1,\n",
       "   'neg_score': 0.0,\n",
       "   'neu_score': 0.0,\n",
       "   'pos_score': 1.0,\n",
       "   'compound_score': 0.7964,\n",
       "   'sentiment': 1,\n",
       "   'electorate': 'Burt',\n",
       "   'week': -11},\n",
       "  {'_id': '1517051646278512645',\n",
       "   '_rev': '1-8ffa0d6cc1138a32e1c6927db98b9632',\n",
       "   'author_id': '67191576',\n",
       "   'date': '2022-04-21 00:00:00',\n",
       "   'text': '@jonkudelka Freedom freedom freedom Clive loves freedom freedom freedom',\n",
       "   'is_political': 1,\n",
       "   'neg_score': 0.0,\n",
       "   'neu_score': 0.06499999999999995,\n",
       "   'pos_score': 0.935,\n",
       "   'compound_score': 0.9847,\n",
       "   'sentiment': 1,\n",
       "   'electorate': 'Monash',\n",
       "   'week': -5},\n",
       "  {'_id': '1536721906858328066',\n",
       "   '_rev': '1-a6c748021ac21af053b52128ba9e5423',\n",
       "   'author_id': '16005515',\n",
       "   'date': '2022-06-14 00:00:00',\n",
       "   'text': '@JoshuacavalloFP Great smile. A free smile',\n",
       "   'is_political': 1,\n",
       "   'neg_score': 0.0,\n",
       "   'neu_score': 0.07499999999999996,\n",
       "   'pos_score': 0.925,\n",
       "   'compound_score': 0.9081,\n",
       "   'sentiment': 1,\n",
       "   'electorate': 'McMahon',\n",
       "   'week': 4},\n",
       "  {'_id': '1554330279359025153',\n",
       "   '_rev': '1-66f651ee537d06d43b9782cd572888be',\n",
       "   'author_id': '1064299383498231810',\n",
       "   'date': '2022-08-02 00:00:00',\n",
       "   'text': '@ms_michellelaw Yes yes yes yes!!',\n",
       "   'is_political': 1,\n",
       "   'neg_score': 0.0,\n",
       "   'neu_score': 0.08099999999999996,\n",
       "   'pos_score': 0.919,\n",
       "   'compound_score': 0.8856,\n",
       "   'sentiment': 1,\n",
       "   'electorate': 'Goldstein',\n",
       "   'week': 11}],\n",
       " 'bookmark': 'g2wAAAACaAJkAA5zdGFydGtleV9kb2NpZG0AAAATMTU1NDMzMDI3OTM1OTAyNTE1M2gCZAAIc3RhcnRrZXlsAAAAAUY_7WhysCDEnGpq'}"
      ]
     },
     "execution_count": 72,
     "metadata": {},
     "output_type": "execute_result"
    }
   ],
   "source": [
    "# get_top_pos_tweets(username, password, 'Darwin', 5)"
   ]
  },
  {
   "cell_type": "code",
   "execution_count": null,
   "id": "b1b3806c",
   "metadata": {},
   "outputs": [],
   "source": []
  }
 ],
 "metadata": {
  "kernelspec": {
   "display_name": "Python 3 (ipykernel)",
   "language": "python",
   "name": "python3"
  },
  "language_info": {
   "codemirror_mode": {
    "name": "ipython",
    "version": 3
   },
   "file_extension": ".py",
   "mimetype": "text/x-python",
   "name": "python",
   "nbconvert_exporter": "python",
   "pygments_lexer": "ipython3",
   "version": "3.9.7"
  }
 },
 "nbformat": 4,
 "nbformat_minor": 5
}
