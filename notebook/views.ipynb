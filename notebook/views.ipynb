{
 "cells": [
  {
   "attachments": {},
   "cell_type": "markdown",
   "metadata": {},
   "source": [
    "# Return ntweet and avg sentiment of tweets in each day/month (before and after election) for each electorate"
   ]
  },
  {
   "cell_type": "code",
   "execution_count": null,
   "metadata": {},
   "outputs": [],
   "source": [
    "function(doc) {\n",
    "  if (doc.date && doc.electorate) {\n",
    "    var date = new Date(doc.date).toISOString().slice(0, 10);\n",
    "    emit([date, doc.electorate], doc.compound_score);\n",
    "  }\n",
    "}"
   ]
  },
  {
   "cell_type": "code",
   "execution_count": null,
   "metadata": {},
   "outputs": [],
   "source": [
    "function (keys, values, rereduce) {\n",
    "  var sum = 0;\n",
    "  var count = 0;\n",
    "  if (rereduce) {\n",
    "    sum = values[0].sum;\n",
    "    count = values[0].count;\n",
    "    for (var i = 1; i < values.length; i++) {\n",
    "      sum += values[i].sum;\n",
    "      count += values[i].count;\n",
    "    }\n",
    "  } else {\n",
    "    for (var i = 0; i < values.length; i++) {\n",
    "      sum += values[i];\n",
    "      count += 1;\n",
    "    }\n",
    "  }\n",
    "  return {\"average\": sum/count, \"sum\": sum, \"count\": count};\n",
    "}"
   ]
  },
  {
   "cell_type": "code",
   "execution_count": null,
   "metadata": {},
   "outputs": [],
   "source": [
    "http://172.26.133.251:5984/tweet_database/_design/date/_view/date_electorate__avgsent?group=True&startkey=[%222022-02-09%22]&endkey=[%222022-05-22%22,%20%7B%7D]"
   ]
  },
  {
   "attachments": {},
   "cell_type": "markdown",
   "metadata": {},
   "source": []
  },
  {
   "cell_type": "code",
   "execution_count": null,
   "metadata": {},
   "outputs": [],
   "source": [
    "function(doc) {\n",
    "  if (doc.is_political && doc.date && doc.electorate) {\n",
    "    var date = new Date(doc.date).toISOString().slice(0, 10);\n",
    "    emit([date, doc.electorate], doc.compound_score);\n",
    "  }\n",
    "}"
   ]
  },
  {
   "cell_type": "code",
   "execution_count": null,
   "metadata": {},
   "outputs": [],
   "source": [
    "function (keys, values, rereduce) {\n",
    "  var sum = 0;\n",
    "  var count = 0;\n",
    "  if (rereduce) {\n",
    "    sum = values[0].sum;\n",
    "    count = values[0].count;\n",
    "    for (var i = 1; i < values.length; i++) {\n",
    "      sum += values[i].sum;\n",
    "      count += values[i].count;\n",
    "    }\n",
    "  } else {\n",
    "    for (var i = 0; i < values.length; i++) {\n",
    "      sum += values[i];\n",
    "      count += 1;\n",
    "    }\n",
    "  }\n",
    "  return {\"average\": sum/count, \"sum\": sum, \"count\": count};\n",
    "}"
   ]
  },
  {
   "cell_type": "code",
   "execution_count": null,
   "metadata": {},
   "outputs": [],
   "source": [
    "http://172.26.133.251:5984/tweet_database/_design/date/_view/date_electorate__avgsent__pol?group=True&startkey=[%222022-02-09%22]&endkey=[%222022-05-22%22,%20%7B%7D]"
   ]
  },
  {
   "attachments": {},
   "cell_type": "markdown",
   "metadata": {},
   "source": [
    "# Return ntweet and avg sentiment of tweets in each week (before and after election) for each electorate"
   ]
  },
  {
   "cell_type": "code",
   "execution_count": null,
   "metadata": {},
   "outputs": [],
   "source": [
    "function(doc) {\n",
    "  if (doc.week && doc.electorate) {\n",
    "    emit([doc.week, doc.electorate], doc.compound_score);\n",
    "  }\n",
    "}"
   ]
  },
  {
   "cell_type": "code",
   "execution_count": null,
   "metadata": {},
   "outputs": [],
   "source": [
    "function (keys, values, rereduce) {\n",
    "  var sum = 0;\n",
    "  var count = 0;\n",
    "  if (rereduce) {\n",
    "    sum = values[0].sum;\n",
    "    count = values[0].count;\n",
    "    for (var i = 1; i < values.length; i++) {\n",
    "      sum += values[i].sum;\n",
    "      count += values[i].count;\n",
    "    }\n",
    "  } else {\n",
    "    for (var i = 0; i < values.length; i++) {\n",
    "      sum += values[i];\n",
    "      count += 1;\n",
    "    }\n",
    "  }\n",
    "  return {\"average\": sum/count, \"sum\": sum, \"count\": count};\n",
    "}"
   ]
  },
  {
   "attachments": {},
   "cell_type": "markdown",
   "metadata": {},
   "source": []
  },
  {
   "cell_type": "code",
   "execution_count": null,
   "metadata": {},
   "outputs": [],
   "source": [
    "function(doc) {\n",
    "  if (doc.is_political && doc.week && doc.electorate) {\n",
    "    emit([doc.week, doc.electorate], doc.compound_score);\n",
    "  }\n",
    "}"
   ]
  },
  {
   "cell_type": "code",
   "execution_count": null,
   "metadata": {},
   "outputs": [],
   "source": [
    "function (keys, values, rereduce) {\n",
    "  var sum = 0;\n",
    "  var count = 0;\n",
    "  if (rereduce) {\n",
    "    sum = values[0].sum;\n",
    "    count = values[0].count;\n",
    "    for (var i = 1; i < values.length; i++) {\n",
    "      sum += values[i].sum;\n",
    "      count += values[i].count;\n",
    "    }\n",
    "  } else {\n",
    "    for (var i = 0; i < values.length; i++) {\n",
    "      sum += values[i];\n",
    "      count += 1;\n",
    "    }\n",
    "  }\n",
    "  return {\"average\": sum/count, \"sum\": sum, \"count\": count};\n",
    "}"
   ]
  },
  {
   "attachments": {},
   "cell_type": "markdown",
   "metadata": {},
   "source": [
    "# Return pos tweet count, neu tweet count and neg tweet count on each electorate"
   ]
  },
  {
   "cell_type": "code",
   "execution_count": null,
   "metadata": {},
   "outputs": [],
   "source": [
    "function(doc) {\n",
    "  if (doc.date && doc.electorate) {\n",
    "    var date = new Date(doc.date).toISOString().slice(0, 10);\n",
    "    emit([date, doc.electorate], [doc.sentiment==1, doc.sentiment==0, doc.sentiment==-1]);\n",
    "  }\n",
    "}"
   ]
  },
  {
   "cell_type": "code",
   "execution_count": null,
   "metadata": {},
   "outputs": [],
   "source": [
    "function(keys, values, rereduce) {\n",
    "  var sum = [0, 0, 0];\n",
    "\n",
    "  for (var i = 0; i < values.length; i++) {\n",
    "    for (var j = 0; j < 3; j++) {\n",
    "      sum[j] += values[i][j];\n",
    "    }\n",
    "  }\n",
    "\n",
    "  return sum;\n",
    "}\n"
   ]
  },
  {
   "attachments": {},
   "cell_type": "markdown",
   "metadata": {},
   "source": []
  },
  {
   "cell_type": "code",
   "execution_count": null,
   "metadata": {},
   "outputs": [],
   "source": [
    "function(doc) {\n",
    "  if (doc.is_political && doc.date && doc.electorate) {\n",
    "    var date = new Date(doc.date).toISOString().slice(0, 10);\n",
    "    emit([date, doc.electorate], [doc.sentiment==1, doc.sentiment==0, doc.sentiment==-1]);\n",
    "  }\n",
    "}"
   ]
  },
  {
   "cell_type": "code",
   "execution_count": null,
   "metadata": {},
   "outputs": [],
   "source": [
    "function(keys, values, rereduce) {\n",
    "  var sum = [0, 0, 0];\n",
    "\n",
    "  for (var i = 0; i < values.length; i++) {\n",
    "    for (var j = 0; j < 3; j++) {\n",
    "      sum[j] += values[i][j];\n",
    "    }\n",
    "  }\n",
    "\n",
    "  return sum;\n",
    "}\n"
   ]
  },
  {
   "attachments": {},
   "cell_type": "markdown",
   "metadata": {},
   "source": [
    "# Partial Match/Political"
   ]
  },
  {
   "cell_type": "code",
   "execution_count": null,
   "metadata": {},
   "outputs": [],
   "source": [
    "function(doc) {\n",
    "  emit(1, doc.partial_match);\n",
    "}"
   ]
  },
  {
   "cell_type": "code",
   "execution_count": null,
   "metadata": {},
   "outputs": [],
   "source": [
    "function (keys, values, rereduce) {\n",
    "  var sum = 0;\n",
    "  var count = 0;\n",
    "  if (rereduce) {\n",
    "    sum = values[0].sum;\n",
    "    count = values[0].count;\n",
    "    for (var i = 1; i < values.length; i++) {\n",
    "      sum += values[i].sum;\n",
    "      count += values[i].count;\n",
    "    }\n",
    "  } else {\n",
    "    for (var i = 0; i < values.length; i++) {\n",
    "      sum += values[i];\n",
    "      count += 1;\n",
    "    }\n",
    "  }\n",
    "  return {\"average\": sum/count, \"sum\": sum, \"count\": count};\n",
    "}"
   ]
  },
  {
   "attachments": {},
   "cell_type": "markdown",
   "metadata": {},
   "source": []
  },
  {
   "cell_type": "code",
   "execution_count": null,
   "metadata": {},
   "outputs": [],
   "source": []
  },
  {
   "cell_type": "code",
   "execution_count": null,
   "metadata": {},
   "outputs": [],
   "source": []
  },
  {
   "attachments": {},
   "cell_type": "markdown",
   "metadata": {},
   "source": [
    "# Index"
   ]
  },
  {
   "cell_type": "code",
   "execution_count": null,
   "metadata": {},
   "outputs": [],
   "source": [
    "{\n",
    "  \"index\": {\n",
    "    \"fields\": [\"pos_score\"]\n",
    "  },\n",
    "  \"name\": \"pos_score-index\",\n",
    "  \"type\": \"json\"\n",
    "}"
   ]
  },
  {
   "cell_type": "code",
   "execution_count": null,
   "metadata": {},
   "outputs": [],
   "source": [
    "{\n",
    "  \"index\": {\n",
    "    \"fields\": [\"neg_score\"]\n",
    "  },\n",
    "  \"name\": \"neg_score-index\",\n",
    "  \"type\": \"json\"\n",
    "}"
   ]
  },
  {
   "cell_type": "code",
   "execution_count": null,
   "metadata": {},
   "outputs": [],
   "source": [
    "{\n",
    "  \"index\": {\n",
    "    \"fields\": [\"date\"]\n",
    "  },\n",
    "  \"name\": \"date-index\",\n",
    "  \"type\": \"json\"\n",
    "}"
   ]
  },
  {
   "cell_type": "code",
   "execution_count": null,
   "metadata": {},
   "outputs": [],
   "source": [
    "{\n",
    "  \"index\": {\n",
    "    \"fields\": [\"electorate\"]\n",
    "  },\n",
    "  \"name\": \"electorate-index\",\n",
    "  \"type\": \"json\"\n",
    "}"
   ]
  },
  {
   "cell_type": "code",
   "execution_count": null,
   "metadata": {},
   "outputs": [],
   "source": [
    "{\n",
    "  \"index\": {\n",
    "    \"fields\": [\"date\", \"electorate\"]\n",
    "  },\n",
    "  \"name\": \"date-electorate_index\",\n",
    "  \"type\": \"json\"\n",
    "}"
   ]
  },
  {
   "cell_type": "code",
   "execution_count": null,
   "metadata": {},
   "outputs": [],
   "source": [
    "{\n",
    "  \"index\": {\n",
    "    \"fields\": [\"week\", \"electorate\"]\n",
    "  },\n",
    "  \"name\": \"week-electorate_index\",\n",
    "  \"type\": \"json\"\n",
    "}"
   ]
  },
  {
   "cell_type": "code",
   "execution_count": null,
   "metadata": {},
   "outputs": [],
   "source": [
    "{\n",
    "  \"index\": {\n",
    "    \"fields\": [\"date\", \"electorate\", \"is_political\"]\n",
    "  },\n",
    "  \"name\": \"date-electorate-political_index\",\n",
    "  \"type\": \"json\"\n",
    "}"
   ]
  },
  {
   "cell_type": "code",
   "execution_count": null,
   "metadata": {},
   "outputs": [],
   "source": [
    "{\n",
    "  \"index\": {\n",
    "    \"fields\": [\"week\", \"electorate\", \"is_political\"]\n",
    "  },\n",
    "  \"name\": \"week-electorate-political_index\",\n",
    "  \"type\": \"json\"\n",
    "}"
   ]
  },
  {
   "attachments": {},
   "cell_type": "markdown",
   "metadata": {},
   "source": [
    "### Query"
   ]
  },
  {
   "cell_type": "code",
   "execution_count": null,
   "metadata": {},
   "outputs": [],
   "source": [
    "{\n",
    "    \"selector\": {\n",
    "        \"is_political\": {\"$eq\": 1},\n",
    "        \"electorate\": {\"$eq\": \"Goldstein\"}\n",
    "    },\n",
    "    \"sort\": [{\"pos_score\": \"desc\"}],\n",
    "    \"limit\": 5\n",
    "}\n",
    "\n",
    "\n",
    "curl -H \"Content-Type: application/json\" -X POST -d '{\"selector\": {\"neg_score\": {\"$gt\": 0}}, \"sort\": [{\"neg_score\": \"desc\"}], \"limit\": 5}' http://localhost:5984/your_database/_find -u username:password"
   ]
  },
  {
   "cell_type": "code",
   "execution_count": null,
   "metadata": {},
   "outputs": [],
   "source": [
    "curl -X POST \"http://<username>:<password>@localhost:5984/<database_name>_Goldstein/_find\" \\\n",
    "-H \"Content-Type: application/json\" \\\n",
    "-d '{\n",
    "   \"selector\": {\n",
    "      \"is_political\": {\n",
    "         \"$eq\": 1\n",
    "      }\n",
    "   },\n",
    "   \"sort\": [\n",
    "      {\n",
    "         \"pos_score\": \"desc\"\n",
    "      }\n",
    "   ],\n",
    "   \"limit\": 5\n",
    "}'\n"
   ]
  },
  {
   "cell_type": "code",
   "execution_count": null,
   "metadata": {},
   "outputs": [],
   "source": [
    "{\n",
    "   \"selector\": {\n",
    "      \"pos_score\": {\n",
    "         \"$gt\": 0\n",
    "      }\n",
    "   },\n",
    "   \"sort\": [\n",
    "      {\n",
    "         \"pos_score\": \"desc\"\n",
    "      }\n",
    "   ],\n",
    "   \"limit\": 5\n",
    "}"
   ]
  },
  {
   "cell_type": "code",
   "execution_count": null,
   "metadata": {},
   "outputs": [],
   "source": [
    "{\n",
    "   \"selector\": {\n",
    "      \"electorate\": {\n",
    "         \"$eq\": \"Goldstein\"\n",
    "      },\n",
    "      \"date\": {\n",
    "         \"$lt\": \"2022-05-21\"\n",
    "      }\n",
    "   },\n",
    "   \"sort\": [\n",
    "      {\n",
    "         \"neg_score\": \"desc\"\n",
    "      }\n",
    "   ],\n",
    "   \"limit\": 5\n",
    "}\n"
   ]
  },
  {
   "attachments": {},
   "cell_type": "markdown",
   "metadata": {},
   "source": []
  },
  {
   "attachments": {},
   "cell_type": "markdown",
   "metadata": {},
   "source": []
  },
  {
   "cell_type": "code",
   "execution_count": null,
   "metadata": {},
   "outputs": [],
   "source": [
    "{\n",
    "   \"selector\": {\n",
    "      \"partial_key\": {\n",
    "         \"$eq\": 0\n",
    "      }\n",
    "   },\n",
    "   \"fields\": [\n",
    "      \"_id\"\n",
    "   ],\n",
    "   \"limit\": 0\n",
    "}"
   ]
  },
  {
   "cell_type": "code",
   "execution_count": null,
   "metadata": {},
   "outputs": [],
   "source": [
    "{\n",
    "   \"selector\": {\n",
    "      \"partial_key\": {\n",
    "         \"$gt\": -1\n",
    "      }\n",
    "   },\n",
    "   \"fields\": [\n",
    "      \"_id\"\n",
    "   ],\n",
    "   \"limit\": 0\n",
    "}"
   ]
  }
 ],
 "metadata": {
  "language_info": {
   "name": "python"
  },
  "orig_nbformat": 4
 },
 "nbformat": 4,
 "nbformat_minor": 2
}
