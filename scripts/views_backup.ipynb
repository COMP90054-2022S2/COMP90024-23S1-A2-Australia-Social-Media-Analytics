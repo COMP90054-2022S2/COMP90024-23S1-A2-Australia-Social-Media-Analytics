{
 "cells": [
  {
   "attachments": {},
   "cell_type": "markdown",
   "metadata": {},
   "source": [
    "avg sentiment"
   ]
  },
  {
   "cell_type": "code",
   "execution_count": null,
   "metadata": {},
   "outputs": [],
   "source": [
    "function(doc) {\n",
    "  if (doc.date && doc.electorate) {\n",
    "    var date = new Date(doc.date).toISOString().slice(0, 10);\n",
    "    emit([date, doc.electorate], doc.compound_score);\n",
    "  }\n",
    "}"
   ]
  },
  {
   "cell_type": "code",
   "execution_count": null,
   "metadata": {},
   "outputs": [],
   "source": [
    "_stats"
   ]
  },
  {
   "attachments": {},
   "cell_type": "markdown",
   "metadata": {},
   "source": []
  },
  {
   "cell_type": "code",
   "execution_count": null,
   "metadata": {},
   "outputs": [],
   "source": [
    "function(doc) {\n",
    "  if (doc.is_political && doc.date && doc.electorate) {\n",
    "    var date = new Date(doc.date).toISOString().slice(0, 10);\n",
    "    emit([date, doc.electorate], doc.compound_score);\n",
    "  }\n",
    "}"
   ]
  },
  {
   "cell_type": "code",
   "execution_count": null,
   "metadata": {},
   "outputs": [],
   "source": [
    "_stats"
   ]
  },
  {
   "cell_type": "code",
   "execution_count": null,
   "metadata": {},
   "outputs": [],
   "source": [
    "http://172.26.133.251:5984/tweet_database/_design/date/_view/date_electorate__avgsent__pol?group=True&startkey=[%222022-02-09%22]&endkey=[%222022-05-22%22,%20%7B%7D]"
   ]
  },
  {
   "attachments": {},
   "cell_type": "markdown",
   "metadata": {},
   "source": [
    "n pos neg neu tweets"
   ]
  },
  {
   "cell_type": "code",
   "execution_count": null,
   "metadata": {},
   "outputs": [],
   "source": [
    "function(doc) {\n",
    "  if (doc.date && doc.electorate) {\n",
    "    var date = new Date(doc.date).toISOString().slice(0, 10);\n",
    "    emit([date, doc.electorate], [\n",
    "      doc.sentiment === 1 ? 1 : 0,  // convert true to 1, false to 0\n",
    "      doc.sentiment === 0 ? 1 : 0,  // convert true to 1, false to 0\n",
    "      doc.sentiment === -1 ? 1 : 0  // convert true to 1, false to 0\n",
    "    ]);\n",
    "  }\n",
    "}\n"
   ]
  },
  {
   "cell_type": "code",
   "execution_count": null,
   "metadata": {},
   "outputs": [],
   "source": [
    "_stats"
   ]
  },
  {
   "attachments": {},
   "cell_type": "markdown",
   "metadata": {},
   "source": []
  },
  {
   "cell_type": "code",
   "execution_count": null,
   "metadata": {},
   "outputs": [],
   "source": [
    "function(doc) {\n",
    "  if (doc.date && doc.electorate && doc.is_political) {\n",
    "    var date = new Date(doc.date).toISOString().slice(0, 10);\n",
    "    emit([date, doc.electorate], [\n",
    "      doc.sentiment === 1 ? 1 : 0,  // convert true to 1, false to 0\n",
    "      doc.sentiment === 0 ? 1 : 0,  // convert true to 1, false to 0\n",
    "      doc.sentiment === -1 ? 1 : 0  // convert true to 1, false to 0\n",
    "    ]);\n",
    "  }\n",
    "}\n"
   ]
  },
  {
   "cell_type": "code",
   "execution_count": null,
   "metadata": {},
   "outputs": [],
   "source": [
    "_stats"
   ]
  },
  {
   "attachments": {},
   "cell_type": "markdown",
   "metadata": {},
   "source": [
    "Political"
   ]
  },
  {
   "cell_type": "code",
   "execution_count": null,
   "metadata": {},
   "outputs": [],
   "source": [
    "function(doc) {\n",
    "  emit(1, doc.is_political);\n",
    "}"
   ]
  },
  {
   "cell_type": "code",
   "execution_count": null,
   "metadata": {},
   "outputs": [],
   "source": [
    "_stats"
   ]
  },
  {
   "attachments": {},
   "cell_type": "markdown",
   "metadata": {},
   "source": [
    "week avg sentiment"
   ]
  },
  {
   "cell_type": "code",
   "execution_count": null,
   "metadata": {},
   "outputs": [],
   "source": [
    "function(doc) {\n",
    "  if (doc.week && doc.electorate) {\n",
    "    emit([doc.week, doc.electorate], doc.compound_score);\n",
    "  }\n",
    "}"
   ]
  },
  {
   "cell_type": "code",
   "execution_count": null,
   "metadata": {},
   "outputs": [],
   "source": [
    "_stats"
   ]
  },
  {
   "attachments": {},
   "cell_type": "markdown",
   "metadata": {},
   "source": []
  },
  {
   "cell_type": "code",
   "execution_count": null,
   "metadata": {},
   "outputs": [],
   "source": [
    "function(doc) {\n",
    "  if (doc.is_political && doc.week && doc.electorate) {\n",
    "    emit([doc.week, doc.electorate], doc.compound_score);\n",
    "  }\n",
    "}"
   ]
  },
  {
   "cell_type": "code",
   "execution_count": null,
   "metadata": {},
   "outputs": [],
   "source": [
    "_stats"
   ]
  },
  {
   "attachments": {},
   "cell_type": "markdown",
   "metadata": {},
   "source": [
    "Toot partial match"
   ]
  },
  {
   "cell_type": "code",
   "execution_count": null,
   "metadata": {},
   "outputs": [],
   "source": [
    "function(doc) {\n",
    "  emit(1, doc.partial_match);\n",
    "}"
   ]
  },
  {
   "cell_type": "code",
   "execution_count": null,
   "metadata": {},
   "outputs": [],
   "source": [
    "function (keys, values, rereduce) {\n",
    "  var sum = 0;\n",
    "  var count = 0;\n",
    "  if (rereduce) {\n",
    "    sum = values[0].sum;\n",
    "    count = values[0].count;\n",
    "    for (var i = 1; i < values.length; i++) {\n",
    "      sum += values[i].sum;\n",
    "      count += values[i].count;\n",
    "    }\n",
    "  } else {\n",
    "    for (var i = 0; i < values.length; i++) {\n",
    "      sum += values[i];\n",
    "      count += 1;\n",
    "    }\n",
    "  }\n",
    "  return {\"average\": sum/count, \"sum\": sum, \"count\": count};\n",
    "}"
   ]
  },
  {
   "attachments": {},
   "cell_type": "markdown",
   "metadata": {},
   "source": [
    "# Index"
   ]
  },
  {
   "attachments": {},
   "cell_type": "markdown",
   "metadata": {},
   "source": [
    "tweet partitioned\n",
    "- week, electorate, is political\n",
    "- pos score\n",
    "- electorate\n",
    "- date\n",
    "- neg score\n",
    "- date, electorate\n",
    "- date, electorate, is political\n",
    "- week electorate"
   ]
  },
  {
   "attachments": {},
   "cell_type": "markdown",
   "metadata": {},
   "source": [
    "tweet\n",
    "- pos score\n",
    "- week, electorate\n",
    "- date, electorate, is political\n",
    "- date\n",
    "- electorate, date, is political, neg score\n",
    "- date, electorate\n",
    "- electorate, date, neg score\n",
    "- week electorate, is political\n",
    "- electorate, date, pos score\n",
    "- electorate\n",
    "- neg score\n",
    "- electorate, date, is political pos score\n"
   ]
  },
  {
   "attachments": {},
   "cell_type": "markdown",
   "metadata": {},
   "source": [
    "toot\n",
    "- partial match"
   ]
  },
  {
   "cell_type": "code",
   "execution_count": null,
   "metadata": {},
   "outputs": [],
   "source": [
    "e.g.\n",
    "{\n",
    "  \"index\": {\n",
    "    \"fields\": [\"pos_score\"]\n",
    "  },\n",
    "  \"name\": \"pos_score-index\",\n",
    "  \"type\": \"json\"\n",
    "}"
   ]
  }
 ],
 "metadata": {
  "language_info": {
   "name": "python"
  },
  "orig_nbformat": 4
 },
 "nbformat": 4,
 "nbformat_minor": 2
}
